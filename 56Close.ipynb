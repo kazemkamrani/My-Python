{
 "cells": [
  {
   "cell_type": "code",
   "execution_count": 1,
   "id": "974c5e2b",
   "metadata": {},
   "outputs": [],
   "source": [
    "import pandas as pd \n",
    "import numpy as np\n",
    "import yfinance as yf\n",
    "yf.pdr_override()\n",
    "import matplotlib.pyplot as plt \n",
    "%matplotlib inline \n",
    "import seaborn as sns\n",
    "from tensorflow.keras.models import Sequential\n",
    "from tensorflow.keras.layers import Dense, SimpleRNN, LSTM, GRU\n",
    "from tensorflow.keras.callbacks import EarlyStopping\n",
    "from sklearn import preprocessing\n",
    "from sklearn.model_selection import train_test_split\n",
    "import mplfinance as mpf\n",
    "from sklearn import metrics\n",
    "\n"
   ]
  },
  {
   "cell_type": "code",
   "execution_count": 2,
   "id": "8c97a497",
   "metadata": {
    "scrolled": false
   },
   "outputs": [
    {
     "name": "stdout",
     "output_type": "stream",
     "text": [
      "[*********************100%***********************]  1 of 1 completed\n",
      "                              Close\n",
      "2020-09-23 12:00:00+01:00  1.169454\n",
      "2020-09-23 13:00:00+01:00  1.169454\n",
      "2020-09-23 14:00:00+01:00  1.168770\n",
      "2020-09-23 15:00:00+01:00  1.167542\n",
      "2020-09-23 16:00:00+01:00  1.168088\n",
      "...                             ...\n",
      "2022-09-22 09:00:00+01:00  0.988240\n",
      "2022-09-22 10:00:00+01:00  0.985999\n",
      "2022-09-22 11:00:00+01:00  0.988142\n",
      "2022-09-22 12:00:00+01:00  0.986972\n",
      "2022-09-22 13:00:00+01:00  0.988045\n",
      "\n",
      "[12357 rows x 1 columns]\n"
     ]
    },
    {
     "name": "stderr",
     "output_type": "stream",
     "text": [
      "C:\\Users\\Kazem Kamrani\\AppData\\Local\\Temp\\ipykernel_9940\\3697082922.py:4: FutureWarning: In a future version of pandas all arguments of DataFrame.drop except for the argument 'labels' will be keyword-only.\n",
      "  df =df.drop(['Volume'],1)\n",
      "C:\\Users\\Kazem Kamrani\\AppData\\Local\\Temp\\ipykernel_9940\\3697082922.py:5: FutureWarning: In a future version of pandas all arguments of DataFrame.drop except for the argument 'labels' will be keyword-only.\n",
      "  df =df.drop(['Open'],1)\n",
      "C:\\Users\\Kazem Kamrani\\AppData\\Local\\Temp\\ipykernel_9940\\3697082922.py:6: FutureWarning: In a future version of pandas all arguments of DataFrame.drop except for the argument 'labels' will be keyword-only.\n",
      "  df =df.drop(['High'],1)\n",
      "C:\\Users\\Kazem Kamrani\\AppData\\Local\\Temp\\ipykernel_9940\\3697082922.py:7: FutureWarning: In a future version of pandas all arguments of DataFrame.drop except for the argument 'labels' will be keyword-only.\n",
      "  df =df.drop(['Low'],1)\n"
     ]
    }
   ],
   "source": [
    "df = yf.download(tickers = \"EURUSD=X\",period = \"2y\",interval = \"1h\",group_by = 'ticker',\n",
    "                 auto_adjust = True,prepost = True,threads = True,proxy = None)\n",
    "df = pd.DataFrame(df)\n",
    "df =df.drop(['Volume'],1)\n",
    "df =df.drop(['Open'],1)\n",
    "df =df.drop(['High'],1)\n",
    "df =df.drop(['Low'],1)\n",
    "df = df[:-24]\n",
    "print(df)\n"
   ]
  },
  {
   "cell_type": "code",
   "execution_count": 3,
   "id": "9605d3d2",
   "metadata": {},
   "outputs": [
    {
     "name": "stdout",
     "output_type": "stream",
     "text": [
      "                              Close    Close1    Close2    Close3    Close4  \\\n",
      "2020-09-23 12:00:00+01:00  1.169454  1.169454  1.168770  1.167542  1.168088   \n",
      "2020-09-23 13:00:00+01:00  1.169454  1.168770  1.167542  1.168088  1.168497   \n",
      "2020-09-23 14:00:00+01:00  1.168770  1.167542  1.168088  1.168497  1.168497   \n",
      "2020-09-23 15:00:00+01:00  1.167542  1.168088  1.168497  1.168497  1.166317   \n",
      "2020-09-23 16:00:00+01:00  1.168088  1.168497  1.168497  1.166317  1.166861   \n",
      "...                             ...       ...       ...       ...       ...   \n",
      "2022-09-20 02:00:00+01:00  1.002707  1.003512  1.003210  1.002305  1.002004   \n",
      "2022-09-20 03:00:00+01:00  1.003512  1.003210  1.002305  1.002004  1.003110   \n",
      "2022-09-20 04:00:00+01:00  1.003210  1.002305  1.002004  1.003110  1.003714   \n",
      "2022-09-20 05:00:00+01:00  1.002305  1.002004  1.003110  1.003714  1.001202   \n",
      "2022-09-20 06:00:00+01:00  1.002004  1.003110  1.003714  1.001202  1.000801   \n",
      "\n",
      "                             Close5    Close6    Close7    Close8    Close9  \\\n",
      "2020-09-23 12:00:00+01:00  1.168497  1.168497  1.166317  1.166861  1.166317   \n",
      "2020-09-23 13:00:00+01:00  1.168497  1.166317  1.166861  1.166317  1.166453   \n",
      "2020-09-23 14:00:00+01:00  1.166317  1.166861  1.166317  1.166453  1.166453   \n",
      "2020-09-23 15:00:00+01:00  1.166861  1.166317  1.166453  1.166453  1.166045   \n",
      "2020-09-23 16:00:00+01:00  1.166317  1.166453  1.166453  1.166045  1.167679   \n",
      "...                             ...       ...       ...       ...       ...   \n",
      "2022-09-20 02:00:00+01:00  1.003110  1.003714  1.001202  1.000801  1.001001   \n",
      "2022-09-20 03:00:00+01:00  1.003714  1.001202  1.000801  1.001001  0.999001   \n",
      "2022-09-20 04:00:00+01:00  1.001202  1.000801  1.001001  0.999001  0.997407   \n",
      "2022-09-20 05:00:00+01:00  1.000801  1.001001  0.999001  0.997407  0.998403   \n",
      "2022-09-20 06:00:00+01:00  1.001001  0.999001  0.997407  0.998403  0.999700   \n",
      "\n",
      "                           ...   Close46   Close47   Close48   Close49  \\\n",
      "2020-09-23 12:00:00+01:00  ...  1.164687  1.164822  1.163467  1.163873   \n",
      "2020-09-23 13:00:00+01:00  ...  1.164822  1.163467  1.163873  1.163873   \n",
      "2020-09-23 14:00:00+01:00  ...  1.163467  1.163873  1.163873  1.162250   \n",
      "2020-09-23 15:00:00+01:00  ...  1.163873  1.163873  1.162250  1.162250   \n",
      "2020-09-23 16:00:00+01:00  ...  1.163873  1.162250  1.162250  1.162385   \n",
      "...                        ...       ...       ...       ...       ...   \n",
      "2022-09-20 02:00:00+01:00  ...  0.983381  0.981932  0.981932  0.982704   \n",
      "2022-09-20 03:00:00+01:00  ...  0.981932  0.981932  0.982704  0.982222   \n",
      "2022-09-20 04:00:00+01:00  ...  0.981932  0.982704  0.982222  0.982898   \n",
      "2022-09-20 05:00:00+01:00  ...  0.982704  0.982222  0.982898  0.982704   \n",
      "2022-09-20 06:00:00+01:00  ...  0.982222  0.982898  0.982704  0.982415   \n",
      "\n",
      "                            Close50   Close51   Close52   Close53   Close54  \\\n",
      "2020-09-23 12:00:00+01:00  1.163873  1.162250  1.162250  1.162385  1.163061   \n",
      "2020-09-23 13:00:00+01:00  1.162250  1.162250  1.162385  1.163061  1.162656   \n",
      "2020-09-23 14:00:00+01:00  1.162250  1.162385  1.163061  1.162656  1.162926   \n",
      "2020-09-23 15:00:00+01:00  1.162385  1.163061  1.162656  1.162926  1.163196   \n",
      "2020-09-23 16:00:00+01:00  1.163061  1.162656  1.162926  1.163196  1.163873   \n",
      "...                             ...       ...       ...       ...       ...   \n",
      "2022-09-20 02:00:00+01:00  0.982222  0.982898  0.982704  0.982415  0.984543   \n",
      "2022-09-20 03:00:00+01:00  0.982898  0.982704  0.982415  0.984543  0.988240   \n",
      "2022-09-20 04:00:00+01:00  0.982704  0.982415  0.984543  0.988240  0.985999   \n",
      "2022-09-20 05:00:00+01:00  0.982415  0.984543  0.988240  0.985999  0.988142   \n",
      "2022-09-20 06:00:00+01:00  0.984543  0.988240  0.985999  0.988142  0.986972   \n",
      "\n",
      "                            Close55  \n",
      "2020-09-23 12:00:00+01:00  1.162656  \n",
      "2020-09-23 13:00:00+01:00  1.162926  \n",
      "2020-09-23 14:00:00+01:00  1.163196  \n",
      "2020-09-23 15:00:00+01:00  1.163873  \n",
      "2020-09-23 16:00:00+01:00  1.163738  \n",
      "...                             ...  \n",
      "2022-09-20 02:00:00+01:00  0.988240  \n",
      "2022-09-20 03:00:00+01:00  0.985999  \n",
      "2022-09-20 04:00:00+01:00  0.988142  \n",
      "2022-09-20 05:00:00+01:00  0.986972  \n",
      "2022-09-20 06:00:00+01:00  0.988045  \n",
      "\n",
      "[12302 rows x 56 columns]\n"
     ]
    }
   ],
   "source": [
    "for i in range(1, 56):\n",
    "    df[f\"Close{i}\"] = df[\"Close\"].shift(-i)\n",
    "    \n",
    "df = df[:-55]\n",
    "print(df)    "
   ]
  },
  {
   "cell_type": "code",
   "execution_count": 4,
   "id": "cfbc34e8",
   "metadata": {},
   "outputs": [
    {
     "name": "stdout",
     "output_type": "stream",
     "text": [
      "                              Close    Close1    Close2    Close3    Close4  \\\n",
      "2020-09-23 12:00:00+01:00  1.169454  1.169454  1.168770  1.167542  1.168088   \n",
      "2020-09-23 13:00:00+01:00  1.169454  1.168770  1.167542  1.168088  1.168497   \n",
      "2020-09-23 14:00:00+01:00  1.168770  1.167542  1.168088  1.168497  1.168497   \n",
      "2020-09-23 15:00:00+01:00  1.167542  1.168088  1.168497  1.168497  1.166317   \n",
      "2020-09-23 16:00:00+01:00  1.168088  1.168497  1.168497  1.166317  1.166861   \n",
      "...                             ...       ...       ...       ...       ...   \n",
      "2022-09-20 02:00:00+01:00  1.002707  1.003512  1.003210  1.002305  1.002004   \n",
      "2022-09-20 03:00:00+01:00  1.003512  1.003210  1.002305  1.002004  1.003110   \n",
      "2022-09-20 04:00:00+01:00  1.003210  1.002305  1.002004  1.003110  1.003714   \n",
      "2022-09-20 05:00:00+01:00  1.002305  1.002004  1.003110  1.003714  1.001202   \n",
      "2022-09-20 06:00:00+01:00  1.002004  1.003110  1.003714  1.001202  1.000801   \n",
      "\n",
      "                             Close5    Close6    Close7    Close8    Close9  \\\n",
      "2020-09-23 12:00:00+01:00  1.168497  1.168497  1.166317  1.166861  1.166317   \n",
      "2020-09-23 13:00:00+01:00  1.168497  1.166317  1.166861  1.166317  1.166453   \n",
      "2020-09-23 14:00:00+01:00  1.166317  1.166861  1.166317  1.166453  1.166453   \n",
      "2020-09-23 15:00:00+01:00  1.166861  1.166317  1.166453  1.166453  1.166045   \n",
      "2020-09-23 16:00:00+01:00  1.166317  1.166453  1.166453  1.166045  1.167679   \n",
      "...                             ...       ...       ...       ...       ...   \n",
      "2022-09-20 02:00:00+01:00  1.003110  1.003714  1.001202  1.000801  1.001001   \n",
      "2022-09-20 03:00:00+01:00  1.003714  1.001202  1.000801  1.001001  0.999001   \n",
      "2022-09-20 04:00:00+01:00  1.001202  1.000801  1.001001  0.999001  0.997407   \n",
      "2022-09-20 05:00:00+01:00  1.000801  1.001001  0.999001  0.997407  0.998403   \n",
      "2022-09-20 06:00:00+01:00  1.001001  0.999001  0.997407  0.998403  0.999700   \n",
      "\n",
      "                           ...   Close47   Close48   Close49   Close50  \\\n",
      "2020-09-23 12:00:00+01:00  ...  1.164822  1.163467  1.163873  1.163873   \n",
      "2020-09-23 13:00:00+01:00  ...  1.163467  1.163873  1.163873  1.162250   \n",
      "2020-09-23 14:00:00+01:00  ...  1.163873  1.163873  1.162250  1.162250   \n",
      "2020-09-23 15:00:00+01:00  ...  1.163873  1.162250  1.162250  1.162385   \n",
      "2020-09-23 16:00:00+01:00  ...  1.162250  1.162250  1.162385  1.163061   \n",
      "...                        ...       ...       ...       ...       ...   \n",
      "2022-09-20 02:00:00+01:00  ...  0.981932  0.981932  0.982704  0.982222   \n",
      "2022-09-20 03:00:00+01:00  ...  0.981932  0.982704  0.982222  0.982898   \n",
      "2022-09-20 04:00:00+01:00  ...  0.982704  0.982222  0.982898  0.982704   \n",
      "2022-09-20 05:00:00+01:00  ...  0.982222  0.982898  0.982704  0.982415   \n",
      "2022-09-20 06:00:00+01:00  ...  0.982898  0.982704  0.982415  0.984543   \n",
      "\n",
      "                            Close51   Close52   Close53   Close54   Close55  \\\n",
      "2020-09-23 12:00:00+01:00  1.162250  1.162250  1.162385  1.163061  1.162656   \n",
      "2020-09-23 13:00:00+01:00  1.162250  1.162385  1.163061  1.162656  1.162926   \n",
      "2020-09-23 14:00:00+01:00  1.162385  1.163061  1.162656  1.162926  1.163196   \n",
      "2020-09-23 15:00:00+01:00  1.163061  1.162656  1.162926  1.163196  1.163873   \n",
      "2020-09-23 16:00:00+01:00  1.162656  1.162926  1.163196  1.163873  1.163738   \n",
      "...                             ...       ...       ...       ...       ...   \n",
      "2022-09-20 02:00:00+01:00  0.982898  0.982704  0.982415  0.984543  0.988240   \n",
      "2022-09-20 03:00:00+01:00  0.982704  0.982415  0.984543  0.988240  0.985999   \n",
      "2022-09-20 04:00:00+01:00  0.982415  0.984543  0.988240  0.985999  0.988142   \n",
      "2022-09-20 05:00:00+01:00  0.984543  0.988240  0.985999  0.988142  0.986972   \n",
      "2022-09-20 06:00:00+01:00  0.988240  0.985999  0.988142  0.986972  0.988045   \n",
      "\n",
      "                           PredictionClose  \n",
      "2020-09-23 12:00:00+01:00         1.162926  \n",
      "2020-09-23 13:00:00+01:00         1.163196  \n",
      "2020-09-23 14:00:00+01:00         1.163873  \n",
      "2020-09-23 15:00:00+01:00         1.163738  \n",
      "2020-09-23 16:00:00+01:00         1.161980  \n",
      "...                                    ...  \n",
      "2022-09-20 02:00:00+01:00         0.985999  \n",
      "2022-09-20 03:00:00+01:00         0.988142  \n",
      "2022-09-20 04:00:00+01:00         0.986972  \n",
      "2022-09-20 05:00:00+01:00         0.988045  \n",
      "2022-09-20 06:00:00+01:00              NaN  \n",
      "\n",
      "[12302 rows x 57 columns]\n"
     ]
    }
   ],
   "source": [
    "forecast_out = int(1)\n",
    "df['PredictionClose'] = df['Close55'].shift(-forecast_out)\n",
    "print(df)"
   ]
  },
  {
   "cell_type": "code",
   "execution_count": 5,
   "id": "83e5ef07",
   "metadata": {},
   "outputs": [
    {
     "name": "stderr",
     "output_type": "stream",
     "text": [
      "C:\\Users\\Kazem Kamrani\\AppData\\Local\\Temp\\ipykernel_9940\\3182839119.py:1: FutureWarning: In a future version of pandas all arguments of DataFrame.drop except for the argument 'labels' will be keyword-only.\n",
      "  X = np.array(df.drop(['PredictionClose'],1))\n"
     ]
    }
   ],
   "source": [
    "X = np.array(df.drop(['PredictionClose'],1))\n",
    "#X = preprocessing.scale(X)\n",
    "X_forecast = X[-forecast_out:]\n",
    "df = df[:-forecast_out]\n",
    "#print(df)\n"
   ]
  },
  {
   "cell_type": "code",
   "execution_count": 6,
   "id": "5ac226fa",
   "metadata": {},
   "outputs": [
    {
     "name": "stdout",
     "output_type": "stream",
     "text": [
      "56\n"
     ]
    }
   ],
   "source": [
    "features = X.shape[1]\n",
    "print( features)\n",
    "\n",
    "test_point = np.round(len(df)*0.1)\n",
    "test_index = int(len(df)-test_point)\n",
    "\n",
    "train = df.iloc[:test_index]\n",
    "test = df.iloc[test_index:]\n",
    "\n",
    "X_train, Y_train = train.iloc[:, :-1], pd.DataFrame(train.iloc[:, -1])\n",
    "X_test, Y_test = test.iloc[:, :-1], pd.DataFrame(test.iloc[:, -1])\n",
    "\n",
    "length = 1\n",
    "\n",
    "trainX = np.array([X_train], order='C')\n",
    "trainX.resize((X_train.shape[0], length, features))\n",
    "testX = np.array([X_test], order='C')\n",
    "testX.resize((X_test.shape[0], length, features))\n",
    "\n",
    "forecastX = np.array([X_forecast], order='C')\n",
    "forecastX.resize((X_forecast.shape[0], length, features))\n"
   ]
  },
  {
   "cell_type": "code",
   "execution_count": 7,
   "id": "029ff73c",
   "metadata": {
    "scrolled": true
   },
   "outputs": [
    {
     "name": "stdout",
     "output_type": "stream",
     "text": [
      "Epoch 1/100\n",
      "1108/1108 [==============================] - 4s 2ms/step - loss: 0.0037 - val_loss: 1.1293e-04\n",
      "Epoch 2/100\n",
      "1108/1108 [==============================] - 2s 2ms/step - loss: 2.1008e-05 - val_loss: 2.3334e-05\n",
      "Epoch 3/100\n",
      "1108/1108 [==============================] - 2s 2ms/step - loss: 2.2742e-05 - val_loss: 2.6752e-05\n",
      "Epoch 4/100\n",
      "1108/1108 [==============================] - 2s 2ms/step - loss: 2.8083e-05 - val_loss: 2.6523e-05\n",
      "Epoch 5/100\n",
      "1108/1108 [==============================] - 2s 2ms/step - loss: 3.9755e-05 - val_loss: 1.3384e-04\n",
      "Epoch 6/100\n",
      "1108/1108 [==============================] - 2s 2ms/step - loss: 3.4217e-05 - val_loss: 1.5973e-04\n",
      "Epoch 7/100\n",
      "1108/1108 [==============================] - 2s 2ms/step - loss: 3.4890e-05 - val_loss: 2.8673e-05\n",
      "Epoch 7: early stopping\n"
     ]
    },
    {
     "data": {
      "text/plain": [
       "<keras.callbacks.History at 0x27b447baf40>"
      ]
     },
     "execution_count": 7,
     "metadata": {},
     "output_type": "execute_result"
    }
   ],
   "source": [
    "# Training\n",
    "early_stop = EarlyStopping(monitor='val_loss', mode='min', verbose=1, patience=5)\n",
    "model = Sequential()\n",
    "model.add(LSTM(features, input_shape=(length,features), activation='relu'))\n",
    "model.add(Dense(1))\n",
    "model.compile(optimizer='Adam', loss='mse')\n",
    "model.fit(trainX, Y_train,\n",
    "          epochs=100,\n",
    "          batch_size=10, \n",
    "          validation_data=(testX, Y_test),\n",
    "          callbacks=[early_stop]\n",
    "          )"
   ]
  },
  {
   "cell_type": "code",
   "execution_count": 8,
   "id": "f2d0a078",
   "metadata": {},
   "outputs": [
    {
     "data": {
      "text/plain": [
       "<AxesSubplot:>"
      ]
     },
     "execution_count": 8,
     "metadata": {},
     "output_type": "execute_result"
    },
    {
     "data": {
      "image/png": "[encoded data removed]",
      "text/plain": [
       "<Figure size 1008x576 with 1 Axes>"
      ]
     },
     "metadata": {
      "needs_background": "light"
     },
     "output_type": "display_data"
    }
   ],
   "source": [
    "loss = pd.DataFrame(model.history.history)\n",
    "loss.plot(figsize=(14,8))"
   ]
  },
  {
   "cell_type": "code",
   "execution_count": 9,
   "id": "e7d7cbb3",
   "metadata": {},
   "outputs": [
    {
     "name": "stdout",
     "output_type": "stream",
     "text": [
      "39/39 [==============================] - 0s 1ms/step\n",
      "R2 Score is:  0.884968336728943\n",
      "Mean Squared Error is:  2.867301972364297e-05\n",
      "Root Mean Squared Error is:  0.005354719387945831\n",
      "Mean Absolute Error is:  0.004295137258079963\n",
      "Mean Absolute Percentage Error is:  0.004266815604657965\n"
     ]
    }
   ],
   "source": [
    "#Testing\n",
    "testpredictions = model.predict(testX)\n",
    "print('R2 Score is: ', metrics.explained_variance_score(Y_test, testpredictions))\n",
    "print('Mean Squared Error is: ', metrics.mean_squared_error(Y_test, testpredictions))\n",
    "print('Root Mean Squared Error is: ', np.sqrt(metrics.mean_squared_error(Y_test, testpredictions)))\n",
    "print('Mean Absolute Error is: ', metrics.mean_absolute_error(Y_test, testpredictions))\n",
    "print('Mean Absolute Percentage Error is: ', metrics.mean_absolute_percentage_error(Y_test, testpredictions))"
   ]
  },
  {
   "cell_type": "code",
   "execution_count": 10,
   "id": "03e60bdc",
   "metadata": {
    "scrolled": false
   },
   "outputs": [
    {
     "data": {
      "text/plain": [
       "'\\n#print(forecastX)\\nfp1 = model.predict(forecastX)\\n#print(fp1)\\nforecastX1 = np.roll(forecastX, -1)\\nforecastX1[:, : , -1] = fp1\\n#print(forecastX1)\\nfp2 = model.predict(forecastX1)\\n\\n\\n\\n#print(fp2)\\nforecastX2 = np.roll(forecastX1, -1)\\nforecastX2[:, : , -1] = fp2\\n#print(forecastX2)\\nfp3 = model.predict(forecastX2)\\n#print(fp3)\\nforecastX3 = np.roll(forecastX2, -1)\\nforecastX3[:, : , -1] = fp3\\n#print(forecastX3)\\nfp4 = model.predict(forecastX3)\\n#print(fp4)\\nforecastX4 = np.roll(forecastX3, -1)\\nforecastX4[:, : , -1] = fp4\\n#print(forecastX4)\\nfp5 = model.predict(forecastX4)\\n#print(fp5\\n'"
      ]
     },
     "execution_count": 10,
     "metadata": {},
     "output_type": "execute_result"
    }
   ],
   "source": [
    "'''\n",
    "#print(forecastX)\n",
    "fp1 = model.predict(forecastX)\n",
    "#print(fp1)\n",
    "forecastX1 = np.roll(forecastX, -1)\n",
    "forecastX1[:, : , -1] = fp1\n",
    "#print(forecastX1)\n",
    "fp2 = model.predict(forecastX1)\n",
    "\n",
    "\n",
    "\n",
    "#print(fp2)\n",
    "forecastX2 = np.roll(forecastX1, -1)\n",
    "forecastX2[:, : , -1] = fp2\n",
    "#print(forecastX2)\n",
    "fp3 = model.predict(forecastX2)\n",
    "#print(fp3)\n",
    "forecastX3 = np.roll(forecastX2, -1)\n",
    "forecastX3[:, : , -1] = fp3\n",
    "#print(forecastX3)\n",
    "fp4 = model.predict(forecastX3)\n",
    "#print(fp4)\n",
    "forecastX4 = np.roll(forecastX3, -1)\n",
    "forecastX4[:, : , -1] = fp4\n",
    "#print(forecastX4)\n",
    "fp5 = model.predict(forecastX4)\n",
    "#print(fp5\n",
    "'''\n",
    "\n"
   ]
  },
  {
   "cell_type": "code",
   "execution_count": 11,
   "id": "a6393c7c",
   "metadata": {},
   "outputs": [
    {
     "name": "stdout",
     "output_type": "stream",
     "text": [
      "1/1 [==============================] - 0s 15ms/step\n",
      "1/1 [==============================] - 0s 19ms/step\n",
      "1/1 [==============================] - 0s 18ms/step\n",
      "1/1 [==============================] - 0s 26ms/step\n",
      "1/1 [==============================] - 0s 18ms/step\n",
      "1/1 [==============================] - 0s 17ms/step\n",
      "1/1 [==============================] - 0s 16ms/step\n",
      "1/1 [==============================] - 0s 18ms/step\n",
      "1/1 [==============================] - 0s 16ms/step\n",
      "1/1 [==============================] - 0s 17ms/step\n",
      "1/1 [==============================] - 0s 17ms/step\n",
      "1/1 [==============================] - 0s 17ms/step\n",
      "1/1 [==============================] - 0s 20ms/step\n",
      "1/1 [==============================] - 0s 19ms/step\n",
      "1/1 [==============================] - 0s 16ms/step\n",
      "1/1 [==============================] - 0s 14ms/step\n",
      "1/1 [==============================] - 0s 16ms/step\n",
      "1/1 [==============================] - 0s 14ms/step\n",
      "1/1 [==============================] - 0s 14ms/step\n",
      "1/1 [==============================] - 0s 15ms/step\n",
      "1/1 [==============================] - 0s 16ms/step\n",
      "1/1 [==============================] - 0s 16ms/step\n",
      "1/1 [==============================] - 0s 14ms/step\n",
      "1/1 [==============================] - 0s 17ms/step\n",
      "1/1 [==============================] - 0s 16ms/step\n"
     ]
    }
   ],
   "source": [
    "array = []\n",
    "temp =  model.predict(forecastX)\n",
    "array.append(temp)\n",
    "features = np.roll(forecastX, -1)\n",
    "features[:, : , -1] = temp\n",
    "for i in range(24):\n",
    "    predicted_value = model.predict(features)\n",
    "    features = np.roll(features, -1)\n",
    "    features[:, :, -1] = predicted_value\n",
    "    array.append(predicted_value)\n"
   ]
  },
  {
   "cell_type": "code",
   "execution_count": 12,
   "id": "57fc1e18",
   "metadata": {},
   "outputs": [],
   "source": [
    "#forecast_prediction = np.concatenate((fp1,fp2,fp3,fp4))\n",
    "#print(forecast_prediction)"
   ]
  },
  {
   "cell_type": "code",
   "execution_count": 13,
   "id": "ade7f055",
   "metadata": {},
   "outputs": [
    {
     "data": {
      "text/plain": [
       "array([0.9918022 , 0.99152267, 0.99183327, 0.99216837, 0.99163175,\n",
       "       0.9918312 , 0.9916353 , 0.99175036, 0.9924642 , 0.99200284,\n",
       "       0.99200267, 0.9929025 , 0.9930918 , 0.99327344, 0.99349374,\n",
       "       0.9932599 , 0.99402475, 0.9938822 , 0.9940088 , 0.99465424,\n",
       "       0.99461406, 0.9950879 , 0.99536717, 0.9949467 , 0.9948861 ],\n",
       "      dtype=float32)"
      ]
     },
     "execution_count": 13,
     "metadata": {},
     "output_type": "execute_result"
    }
   ],
   "source": [
    "array = np.asarray(array).reshape(-1)\n",
    "array"
   ]
  },
  {
   "cell_type": "code",
   "execution_count": 14,
   "id": "33d14a6d",
   "metadata": {
    "scrolled": false
   },
   "outputs": [
    {
     "name": "stdout",
     "output_type": "stream",
     "text": [
      "Max = 0.99536717\n",
      "Min = 0.99152267\n"
     ]
    },
    {
     "data": {
      "text/plain": [
       "[<matplotlib.lines.Line2D at 0x27b470851f0>]"
      ]
     },
     "execution_count": 14,
     "metadata": {},
     "output_type": "execute_result"
    },
    {
     "data": {
      "image/png": "[encoded data removed]",
      "text/plain": [
       "<Figure size 432x288 with 1 Axes>"
      ]
     },
     "metadata": {
      "needs_background": "light"
     },
     "output_type": "display_data"
    }
   ],
   "source": [
    "print('Max =',max(array))\n",
    "print('Min =',min(array))\n",
    "plt.axes([1, 2, 1.5 , 1.5])\n",
    "plt.plot(array)\n"
   ]
  },
  {
   "cell_type": "code",
   "execution_count": null,
   "id": "e997988a",
   "metadata": {},
   "outputs": [],
   "source": []
  }
 ],
 "metadata": {
  "kernelspec": {
   "display_name": "Python 3 (ipykernel)",
   "language": "python",
   "name": "python3"
  },
  "language_info": {
   "codemirror_mode": {
    "name": "ipython",
    "version": 3
   },
   "file_extension": ".py",
   "mimetype": "text/x-python",
   "name": "python",
   "nbconvert_exporter": "python",
   "pygments_lexer": "ipython3",
   "version": "3.9.12"
  }
 },
 "nbformat": 4,
 "nbformat_minor": 5
}

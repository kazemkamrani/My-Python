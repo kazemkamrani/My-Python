{
 "cells": [
  {
   "cell_type": "code",
   "execution_count": 1,
   "id": "f954dcda",
   "metadata": {},
   "outputs": [],
   "source": [
    "import mplfinance as mpf\n",
    "import pandas as pd \n",
    "import numpy as np\n",
    "import yfinance as yf\n",
    "from sklearn import svm\n",
    "from sklearn import preprocessing\n",
    "from sklearn.linear_model import LinearRegression\n",
    "from sklearn.model_selection import train_test_split\n",
    "from sklearn import metrics"
   ]
  },
  {
   "cell_type": "code",
   "execution_count": 2,
   "id": "26ad35b6",
   "metadata": {},
   "outputs": [
    {
     "name": "stdout",
     "output_type": "stream",
     "text": [
      "[*********************100%***********************]  1 of 1 completed\n",
      "                Open\n",
      "Date                \n",
      "2014-12-31  1.216205\n",
      "2015-01-01  1.209863\n",
      "2015-01-02  1.208868\n",
      "2015-01-05  1.195500\n",
      "2015-01-06  1.193830\n",
      "...              ...\n",
      "2022-06-13  1.048999\n",
      "2022-06-14  1.041515\n",
      "2022-06-15  1.044059\n",
      "2022-06-16  1.045620\n",
      "2022-06-17  1.054685\n",
      "\n",
      "[1945 rows x 1 columns]\n"
     ]
    }
   ],
   "source": [
    "EURUSD = yf.download(tickers = \"EURUSD=X\",start = '2018-01-01')\n",
    "\n",
    "df = EURUSD[\"Open\"]\n",
    "df = pd.DataFrame(df)\n",
    "print(df)"
   ]
  },
  {
   "cell_type": "code",
   "execution_count": 3,
   "id": "050bba42",
   "metadata": {},
   "outputs": [],
   "source": [
    "EURUSD .to_csv(\"C:/Users/Kazem Kamrani/Desktop/ForexData/EURUSD.csv\", header = True , index = True)"
   ]
  },
  {
   "cell_type": "code",
   "execution_count": 4,
   "id": "e8f4fe58",
   "metadata": {},
   "outputs": [],
   "source": [
    "my_rho = np.corrcoef(EURUSD['Open'], EURUSD['High'])\n",
    "#print ( my_rho )"
   ]
  },
  {
   "cell_type": "code",
   "execution_count": 13,
   "id": "2505ccf9",
   "metadata": {},
   "outputs": [
    {
     "name": "stdout",
     "output_type": "stream",
     "text": [
      "                High\n",
      "Date                \n",
      "2014-12-31  1.216974\n",
      "2015-01-01  1.209863\n",
      "2015-01-02  1.208956\n",
      "2015-01-05  1.197590\n",
      "2015-01-06  1.197000\n",
      "...              ...\n",
      "2022-06-10  1.064215\n",
      "2022-06-13  1.049759\n",
      "2022-06-14  1.048240\n",
      "2022-06-15  1.050718\n",
      "2022-06-16  1.053031\n",
      "\n",
      "[1944 rows x 1 columns]\n"
     ]
    }
   ],
   "source": [
    "df1 = EURUSD[\"High\"].drop(index = '2022-06-17')\n",
    "df1 = pd.DataFrame(df1)\n",
    "print(df1)"
   ]
  },
  {
   "cell_type": "code",
   "execution_count": 14,
   "id": "a5ee8aad",
   "metadata": {},
   "outputs": [
    {
     "name": "stdout",
     "output_type": "stream",
     "text": [
      "                Open  PredictionHigh\n",
      "Date                                \n",
      "2014-12-31  1.216205        1.216974\n",
      "2015-01-01  1.209863        1.209863\n",
      "2015-01-02  1.208868        1.208956\n",
      "2015-01-05  1.195500        1.197590\n",
      "2015-01-06  1.193830        1.197000\n",
      "...              ...             ...\n",
      "2022-06-13  1.048999        1.049759\n",
      "2022-06-14  1.041515        1.048240\n",
      "2022-06-15  1.044059        1.050718\n",
      "2022-06-16  1.045620        1.053031\n",
      "2022-06-17  1.054685             NaN\n",
      "\n",
      "[1945 rows x 2 columns]\n"
     ]
    }
   ],
   "source": [
    "forecast_out = int(1)\n",
    "df['PredictionHigh'] = df1['High']\n",
    "print(df)"
   ]
  },
  {
   "cell_type": "code",
   "execution_count": 7,
   "id": "4ebfa579",
   "metadata": {},
   "outputs": [
    {
     "name": "stderr",
     "output_type": "stream",
     "text": [
      "C:\\Users\\Kazem Kamrani\\AppData\\Local\\Temp\\ipykernel_13468\\4160637486.py:1: FutureWarning: In a future version of pandas all arguments of DataFrame.drop except for the argument 'labels' will be keyword-only.\n",
      "  X = np.array(df.drop(['PredictionHigh'],1))\n"
     ]
    }
   ],
   "source": [
    "X = np.array(df.drop(['PredictionHigh'],1))\n",
    "X = preprocessing.scale(X)\n",
    "X_forecast = X[-forecast_out:]\n",
    "X = X[:-forecast_out]\n"
   ]
  },
  {
   "cell_type": "code",
   "execution_count": 8,
   "id": "40318260",
   "metadata": {},
   "outputs": [],
   "source": [
    "y = np.array(df['PredictionHigh'])\n",
    "y = y[:-forecast_out]"
   ]
  },
  {
   "cell_type": "code",
   "execution_count": 9,
   "id": "ef329c2e",
   "metadata": {},
   "outputs": [],
   "source": [
    "X_train, X_test, y_train, y_test = train_test_split(X, y, test_size = 0.3)"
   ]
  },
  {
   "cell_type": "code",
   "execution_count": 10,
   "id": "b087f9aa",
   "metadata": {},
   "outputs": [
    {
     "name": "stdout",
     "output_type": "stream",
     "text": [
      "confidence: 0.9944685287869383\n",
      "R2 Score is:  0.9944927328669037\n",
      "Mean Squared Error is:  1.1542496645645774e-05\n",
      "Root Mean Squared Error is:  0.0033974250022106114\n",
      "Mean Absolute Error is:  0.0024286758439375877\n",
      "Mean Absolute Percentage Error is:  0.002139717845868585\n"
     ]
    }
   ],
   "source": [
    "# Training\n",
    "LR = LinearRegression()\n",
    "LR.fit(X_train, y_train)\n",
    "testpredictions = LR.predict(X_test)\n",
    "#Testing\n",
    "confidence = LR.score(X_test,y_test)\n",
    "print(\"confidence:\", confidence)\n",
    "print('R2 Score is: ', metrics.explained_variance_score(y_test, testpredictions))\n",
    "print('Mean Squared Error is: ', metrics.mean_squared_error(y_test, testpredictions))\n",
    "print('Root Mean Squared Error is: ', np.sqrt(metrics.mean_squared_error(y_test, testpredictions)))\n",
    "print('Mean Absolute Error is: ', metrics.mean_absolute_error(y_test, testpredictions))\n",
    "print('Mean Absolute Percentage Error is: ', metrics.mean_absolute_percentage_error(y_test, testpredictions))"
   ]
  },
  {
   "cell_type": "code",
   "execution_count": 11,
   "id": "369619d1",
   "metadata": {},
   "outputs": [
    {
     "name": "stdout",
     "output_type": "stream",
     "text": [
      "[[-1.78202277]]\n"
     ]
    }
   ],
   "source": [
    "print(X_forecast)"
   ]
  },
  {
   "cell_type": "code",
   "execution_count": 12,
   "id": "83e02333",
   "metadata": {},
   "outputs": [
    {
     "name": "stdout",
     "output_type": "stream",
     "text": [
      "[1.05883972]\n"
     ]
    }
   ],
   "source": [
    "forecast_prediction = LR.predict(X_forecast)\n",
    "print(forecast_prediction)"
   ]
  },
  {
   "cell_type": "code",
   "execution_count": null,
   "id": "262c8a34",
   "metadata": {},
   "outputs": [],
   "source": []
  }
 ],
 "metadata": {
  "kernelspec": {
   "display_name": "Python 3 (ipykernel)",
   "language": "python",
   "name": "python3"
  },
  "language_info": {
   "codemirror_mode": {
    "name": "ipython",
    "version": 3
   },
   "file_extension": ".py",
   "mimetype": "text/x-python",
   "name": "python",
   "nbconvert_exporter": "python",
   "pygments_lexer": "ipython3",
   "version": "3.9.12"
  }
 },
 "nbformat": 4,
 "nbformat_minor": 5
}

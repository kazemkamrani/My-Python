{
 "cells": [
  {
   "cell_type": "code",
   "execution_count": 1,
   "id": "9d213a19",
   "metadata": {},
   "outputs": [],
   "source": [
    "import numpy as np\n",
    "import pandas as pd\n",
    "from pandas_datareader import data as pdr\n",
    "import mplfinance as mpf\n",
    "import pytse_client as tse\n",
    "import yfinance as yf\n",
    "yf.pdr_override()\n",
    "import matplotlib.pyplot as plt \n",
    "import datetime as dt\n",
    "%matplotlib inline "
   ]
  },
  {
   "cell_type": "code",
   "execution_count": 2,
   "id": "d46ded4b",
   "metadata": {},
   "outputs": [
    {
     "name": "stdout",
     "output_type": "stream",
     "text": [
      "[*********************100%***********************]  1 of 1 completed\n",
      "                  Open        High         Low       Close   Adj Close  \\\n",
      "Date                                                                     \n",
      "2009-12-31    7.611786    7.619643    7.520000    7.526071    6.434926   \n",
      "2010-01-04    7.622500    7.660714    7.585000    7.643214    6.535084   \n",
      "2010-01-05    7.664286    7.699643    7.616071    7.656429    6.546383   \n",
      "2010-01-06    7.656429    7.686786    7.526786    7.534643    6.442254   \n",
      "2010-01-07    7.562500    7.571429    7.466071    7.520714    6.430346   \n",
      "...                ...         ...         ...         ...         ...   \n",
      "2022-06-30  137.250000  138.369995  133.770004  136.720001  136.720001   \n",
      "2022-07-01  136.039993  139.039993  135.660004  138.929993  138.929993   \n",
      "2022-07-05  137.770004  141.610001  136.929993  141.559998  141.559998   \n",
      "2022-07-06  141.350006  144.119995  141.080002  142.919998  142.919998   \n",
      "2022-07-07  143.289993  146.550003  143.279999  146.350006  146.350006   \n",
      "\n",
      "               Volume  \n",
      "Date                   \n",
      "2009-12-31  352410800  \n",
      "2010-01-04  493729600  \n",
      "2010-01-05  601904800  \n",
      "2010-01-06  552160000  \n",
      "2010-01-07  477131200  \n",
      "...               ...  \n",
      "2022-06-30   98964500  \n",
      "2022-07-01   71007500  \n",
      "2022-07-05   73353800  \n",
      "2022-07-06   74064300  \n",
      "2022-07-07   66189900  \n",
      "\n",
      "[3150 rows x 6 columns]\n"
     ]
    }
   ],
   "source": [
    "ohlcv = yf.download('AAPL', \"2010-01-01\", \"2022-07-08\")\n",
    "print(ohlcv)"
   ]
  },
  {
   "cell_type": "code",
   "execution_count": 3,
   "id": "930a1050",
   "metadata": {},
   "outputs": [],
   "source": [
    "# Function to calculate average true range\n",
    "def ATR(DF, n):\n",
    "  df = DF.copy() # making copy of the original dataframe\n",
    "  df['H-L'] = abs(df['High'] - df['Low']) \n",
    "  df['H-PC'] = abs(df['High'] - df['Adj Close'].shift(1))# high -previous close\n",
    "  df['L-PC'] = abs(df['Low'] - df['Adj Close'].shift(1)) #low - previous close\n",
    "  df['TR'] = df[['H-L','H-PC','L-PC']].max(axis =1, skipna = False) # True range\n",
    "  df['ATR'] = df['TR'].rolling(n).mean() # average –true range\n",
    "  df = df.drop(['H-L','H-PC','L-PC'], axis =1) # dropping the unneccesary columns\n",
    "  df.dropna(inplace = True) # droping null items\n",
    "  return df"
   ]
  },
  {
   "cell_type": "code",
   "execution_count": 6,
   "id": "84cac8bf",
   "metadata": {},
   "outputs": [
    {
     "name": "stdout",
     "output_type": "stream",
     "text": [
      "                  Open        High         Low       Close   Adj Close  \\\n",
      "Date                                                                     \n",
      "2010-03-16    8.006429    8.035000    7.946786    8.016071    6.853884   \n",
      "2010-03-17    8.032143    8.087500    7.973929    8.004286    6.843808   \n",
      "2010-03-18    8.003571    8.035714    7.950357    8.023214    6.859993   \n",
      "2010-03-19    8.028214    8.044286    7.901071    7.937500    6.786706   \n",
      "2010-03-22    7.873929    8.071429    7.862500    8.026786    6.863046   \n",
      "...                ...         ...         ...         ...         ...   \n",
      "2022-06-30  137.250000  138.369995  133.770004  136.720001  136.720001   \n",
      "2022-07-01  136.039993  139.039993  135.660004  138.929993  138.929993   \n",
      "2022-07-05  137.770004  141.610001  136.929993  141.559998  141.559998   \n",
      "2022-07-06  141.350006  144.119995  141.080002  142.919998  142.919998   \n",
      "2022-07-07  143.289993  146.550003  143.279999  146.350006  146.350006   \n",
      "\n",
      "               Volume        TR       ATR  \n",
      "Date                                       \n",
      "2010-03-16  446908000  1.199743  1.157990  \n",
      "2010-03-17  450956800  1.233615  1.158147  \n",
      "2010-03-18  342109600  1.191906  1.158694  \n",
      "2010-03-19  559445600  1.184293  1.159572  \n",
      "2010-03-22  456419600  1.284723  1.162683  \n",
      "...               ...       ...       ...  \n",
      "2022-06-30   98964500  5.459991  5.386023  \n",
      "2022-07-01   71007500  3.379990  5.398022  \n",
      "2022-07-05   73353800  4.680008  5.379223  \n",
      "2022-07-06   74064300  3.039993  5.312623  \n",
      "2022-07-07   66189900  3.630005  5.291023  \n",
      "\n",
      "[3100 rows x 8 columns]\n"
     ]
    }
   ],
   "source": [
    "print(ATR(ohlcv, 50))"
   ]
  },
  {
   "cell_type": "code",
   "execution_count": 7,
   "id": "b5528a3a",
   "metadata": {},
   "outputs": [
    {
     "name": "stdout",
     "output_type": "stream",
     "text": [
      "5.0\n"
     ]
    }
   ],
   "source": [
    "bricks = round(ATR(ohlcv,50)[\"ATR\"][-1],0) #capturing the latest ATR\n",
    "#rounding off the result to an integer.\n",
    "print(bricks)"
   ]
  },
  {
   "cell_type": "code",
   "execution_count": null,
   "id": "c16078ef",
   "metadata": {},
   "outputs": [],
   "source": []
  }
 ],
 "metadata": {
  "kernelspec": {
   "display_name": "Python 3 (ipykernel)",
   "language": "python",
   "name": "python3"
  },
  "language_info": {
   "codemirror_mode": {
    "name": "ipython",
    "version": 3
   },
   "file_extension": ".py",
   "mimetype": "text/x-python",
   "name": "python",
   "nbconvert_exporter": "python",
   "pygments_lexer": "ipython3",
   "version": "3.9.12"
  }
 },
 "nbformat": 4,
 "nbformat_minor": 5
}

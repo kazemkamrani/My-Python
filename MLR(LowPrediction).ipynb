{
 "cells": [
  {
   "cell_type": "code",
   "execution_count": 1,
   "id": "789c1c25",
   "metadata": {},
   "outputs": [],
   "source": [
    "import mplfinance as mpf\n",
    "import pandas as pd \n",
    "import numpy as np\n",
    "import yfinance as yf\n",
    "from sklearn import svm\n",
    "from sklearn import preprocessing\n",
    "from sklearn.linear_model import LinearRegression\n",
    "from sklearn.model_selection import train_test_split\n",
    "from sklearn import metrics\n",
    "import matplotlib.pyplot as plt "
   ]
  },
  {
   "cell_type": "code",
   "execution_count": 2,
   "id": "1d3c3f0a",
   "metadata": {},
   "outputs": [],
   "source": [
    "EURUSD = pd.read_csv(\"C:/Users/Kazem Kamrani/Desktop/ForexData/EURUSDMeta9.csv\",index_col = \"Date\" , parse_dates = True\n",
    "                    ,na_values=['nan'])\n",
    "df = EURUSD\n",
    "df = pd.DataFrame(df)"
   ]
  },
  {
   "cell_type": "code",
   "execution_count": 3,
   "id": "c375b0d3",
   "metadata": {},
   "outputs": [
    {
     "name": "stdout",
     "output_type": "stream",
     "text": [
      "              High1     Low1   Close1    High2     Low2   Close2    High3  \\\n",
      "Date                                                                        \n",
      "2010-01-04  1.44543  1.42569  1.44111  1.44830  1.43467  1.43624  1.44338   \n",
      "2010-01-05  1.44830  1.43467  1.43624  1.44338  1.42831  1.43998  1.44456   \n",
      "2010-01-06  1.44338  1.42831  1.43998  1.44456  1.42994  1.43041  1.44263   \n",
      "2010-01-07  1.44456  1.42994  1.43041  1.44263  1.42634  1.44085  1.45545   \n",
      "2010-01-08  1.44263  1.42634  1.44085  1.45545  1.44121  1.45120  1.45448   \n",
      "...             ...      ...      ...      ...      ...      ...      ...   \n",
      "2022-06-01  1.07390  1.06272  1.06484  1.07499  1.06405  1.07463  1.07638   \n",
      "2022-06-02  1.07499  1.06405  1.07463  1.07638  1.07039  1.07165  1.07516   \n",
      "2022-06-03  1.07638  1.07039  1.07165  1.07516  1.06841  1.06955  1.07143   \n",
      "2022-06-06  1.07516  1.06841  1.06955  1.07143  1.06523  1.07049  1.07485   \n",
      "2022-06-07  1.07143  1.06523  1.07049  1.07485  1.06715  1.07157  1.07739   \n",
      "\n",
      "               Low3   Close3    High4  ...   Close6    High7     Low7  \\\n",
      "Date                                   ...                              \n",
      "2010-01-04  1.42831  1.43998  1.44456  ...  1.45120  1.45448  1.44537   \n",
      "2010-01-05  1.42994  1.43041  1.44263  ...  1.44920  1.45785  1.44561   \n",
      "2010-01-06  1.42634  1.44085  1.45545  ...  1.45052  1.45547  1.44478   \n",
      "2010-01-07  1.44121  1.45120  1.45448  ...  1.44978  1.45108  1.43365   \n",
      "2010-01-08  1.44537  1.44920  1.45785  ...  1.43857  1.43995  1.43348   \n",
      "...             ...      ...      ...  ...      ...      ...      ...   \n",
      "2022-06-01  1.07039  1.07165  1.07516  ...  1.07157  1.07739  1.06107   \n",
      "2022-06-02  1.06841  1.06955  1.07143  ...  1.06159  1.06424  1.05060   \n",
      "2022-06-03  1.06523  1.07049  1.07485  ...  1.05207  1.05195  1.03996   \n",
      "2022-06-06  1.06715  1.07157  1.07739  ...  1.04076  1.04848  1.03969   \n",
      "2022-06-07  1.06107  1.06159  1.06424  ...  1.04151  1.05076  1.03591   \n",
      "\n",
      "             Close7    High8     Low8   Close8    High9     Low9   Close9  \n",
      "Date                                                                       \n",
      "2010-01-04  1.44920  1.45785  1.44561  1.45052  1.45547  1.44478  1.44978  \n",
      "2010-01-05  1.45052  1.45547  1.44478  1.44978  1.45108  1.43365  1.43857  \n",
      "2010-01-06  1.44978  1.45108  1.43365  1.43857  1.43995  1.43348  1.43872  \n",
      "2010-01-07  1.43857  1.43995  1.43348  1.43872  1.44131  1.42527  1.42869  \n",
      "2010-01-08  1.43872  1.44131  1.42527  1.42869  1.42890  1.40818  1.41062  \n",
      "...             ...      ...      ...      ...      ...      ...      ...  \n",
      "2022-06-01  1.06159  1.06424  1.05060  1.05207  1.05195  1.03996  1.04076  \n",
      "2022-06-02  1.05207  1.05195  1.03996  1.04076  1.04848  1.03969  1.04151  \n",
      "2022-06-03  1.04076  1.04848  1.03969  1.04151  1.05076  1.03591  1.04430  \n",
      "2022-06-06  1.04151  1.05076  1.03591  1.04430  1.06009  1.03811  1.05483  \n",
      "2022-06-07  1.04430  1.06009  1.03811  1.05483  1.05602  1.04447  1.04964  \n",
      "\n",
      "[3228 rows x 27 columns]\n"
     ]
    }
   ],
   "source": [
    "#df =df.drop(['Volume'],1)\n",
    "#df =df.drop(['Open'],1)\n",
    "#df =df.drop(['Time'],1)\n",
    "df =df['2010-01-01':]\n",
    "\n",
    "print(df)"
   ]
  },
  {
   "cell_type": "code",
   "execution_count": 4,
   "id": "65dc8eaf",
   "metadata": {},
   "outputs": [
    {
     "name": "stdout",
     "output_type": "stream",
     "text": [
      "              High1     Low1   Close1    High2     Low2   Close2    High3  \\\n",
      "Date                                                                        \n",
      "2010-01-04  1.44543  1.42569  1.44111  1.44830  1.43467  1.43624  1.44338   \n",
      "2010-01-05  1.44830  1.43467  1.43624  1.44338  1.42831  1.43998  1.44456   \n",
      "2010-01-06  1.44338  1.42831  1.43998  1.44456  1.42994  1.43041  1.44263   \n",
      "2010-01-07  1.44456  1.42994  1.43041  1.44263  1.42634  1.44085  1.45545   \n",
      "2010-01-08  1.44263  1.42634  1.44085  1.45545  1.44121  1.45120  1.45448   \n",
      "...             ...      ...      ...      ...      ...      ...      ...   \n",
      "2022-06-01  1.07390  1.06272  1.06484  1.07499  1.06405  1.07463  1.07638   \n",
      "2022-06-02  1.07499  1.06405  1.07463  1.07638  1.07039  1.07165  1.07516   \n",
      "2022-06-03  1.07638  1.07039  1.07165  1.07516  1.06841  1.06955  1.07143   \n",
      "2022-06-06  1.07516  1.06841  1.06955  1.07143  1.06523  1.07049  1.07485   \n",
      "2022-06-07  1.07143  1.06523  1.07049  1.07485  1.06715  1.07157  1.07739   \n",
      "\n",
      "               Low3   Close3    High4  ...    High7     Low7   Close7  \\\n",
      "Date                                   ...                              \n",
      "2010-01-04  1.42831  1.43998  1.44456  ...  1.45448  1.44537  1.44920   \n",
      "2010-01-05  1.42994  1.43041  1.44263  ...  1.45785  1.44561  1.45052   \n",
      "2010-01-06  1.42634  1.44085  1.45545  ...  1.45547  1.44478  1.44978   \n",
      "2010-01-07  1.44121  1.45120  1.45448  ...  1.45108  1.43365  1.43857   \n",
      "2010-01-08  1.44537  1.44920  1.45785  ...  1.43995  1.43348  1.43872   \n",
      "...             ...      ...      ...  ...      ...      ...      ...   \n",
      "2022-06-01  1.07039  1.07165  1.07516  ...  1.07739  1.06107  1.06159   \n",
      "2022-06-02  1.06841  1.06955  1.07143  ...  1.06424  1.05060  1.05207   \n",
      "2022-06-03  1.06523  1.07049  1.07485  ...  1.05195  1.03996  1.04076   \n",
      "2022-06-06  1.06715  1.07157  1.07739  ...  1.04848  1.03969  1.04151   \n",
      "2022-06-07  1.06107  1.06159  1.06424  ...  1.05076  1.03591  1.04430   \n",
      "\n",
      "              High8     Low8   Close8    High9     Low9   Close9  \\\n",
      "Date                                                               \n",
      "2010-01-04  1.45785  1.44561  1.45052  1.45547  1.44478  1.44978   \n",
      "2010-01-05  1.45547  1.44478  1.44978  1.45108  1.43365  1.43857   \n",
      "2010-01-06  1.45108  1.43365  1.43857  1.43995  1.43348  1.43872   \n",
      "2010-01-07  1.43995  1.43348  1.43872  1.44131  1.42527  1.42869   \n",
      "2010-01-08  1.44131  1.42527  1.42869  1.42890  1.40818  1.41062   \n",
      "...             ...      ...      ...      ...      ...      ...   \n",
      "2022-06-01  1.06424  1.05060  1.05207  1.05195  1.03996  1.04076   \n",
      "2022-06-02  1.05195  1.03996  1.04076  1.04848  1.03969  1.04151   \n",
      "2022-06-03  1.04848  1.03969  1.04151  1.05076  1.03591  1.04430   \n",
      "2022-06-06  1.05076  1.03591  1.04430  1.06009  1.03811  1.05483   \n",
      "2022-06-07  1.06009  1.03811  1.05483  1.05602  1.04447  1.04964   \n",
      "\n",
      "            PredictionLow  \n",
      "Date                       \n",
      "2010-01-04        1.43365  \n",
      "2010-01-05        1.43348  \n",
      "2010-01-06        1.42527  \n",
      "2010-01-07        1.40818  \n",
      "2010-01-08        1.40285  \n",
      "...                   ...  \n",
      "2022-06-01        1.03969  \n",
      "2022-06-02        1.03591  \n",
      "2022-06-03        1.03811  \n",
      "2022-06-06        1.04447  \n",
      "2022-06-07            NaN  \n",
      "\n",
      "[3228 rows x 28 columns]\n"
     ]
    }
   ],
   "source": [
    "forecast_out = int(1)\n",
    "df['PredictionLow'] = df['Low9'].shift(-forecast_out)\n",
    "print(df)"
   ]
  },
  {
   "cell_type": "code",
   "execution_count": 5,
   "id": "e070730e",
   "metadata": {},
   "outputs": [
    {
     "name": "stderr",
     "output_type": "stream",
     "text": [
      "C:\\Users\\Kazem Kamrani\\AppData\\Local\\Temp\\ipykernel_7552\\2625953562.py:1: FutureWarning: In a future version of pandas all arguments of DataFrame.drop except for the argument 'labels' will be keyword-only.\n",
      "  X = np.array(df.drop(['PredictionLow'],1))\n"
     ]
    }
   ],
   "source": [
    "X = np.array(df.drop(['PredictionLow'],1))\n",
    "X = preprocessing.scale(X)\n",
    "X_forecast = X[-forecast_out:]\n",
    "X = X[:-forecast_out]"
   ]
  },
  {
   "cell_type": "code",
   "execution_count": 6,
   "id": "9294809c",
   "metadata": {},
   "outputs": [],
   "source": [
    "Y = np.array(df['PredictionLow'])\n",
    "Y = Y[:-forecast_out]"
   ]
  },
  {
   "cell_type": "code",
   "execution_count": 7,
   "id": "71a59960",
   "metadata": {},
   "outputs": [],
   "source": [
    "X_train, X_test, Y_train, Y_test = train_test_split(X, Y, test_size = 0.3)"
   ]
  },
  {
   "cell_type": "code",
   "execution_count": 8,
   "id": "9ad2c1b6",
   "metadata": {},
   "outputs": [
    {
     "name": "stdout",
     "output_type": "stream",
     "text": [
      "confidence: 0.9984982750224783\n",
      "R2 Score is:  0.9985061454778601\n",
      "Mean Squared Error is:  1.7545674847621987e-05\n",
      "Root Mean Squared Error is:  0.0041887557636632365\n",
      "Mean Absolute Error is:  0.00308500217711811\n",
      "Mean Absolute Percentage Error is:  0.002534891505689443\n"
     ]
    }
   ],
   "source": [
    "# Training\n",
    "LR = LinearRegression()\n",
    "LR.fit(X_train, Y_train)\n",
    "testpredictions = LR.predict(X_test)\n",
    "#Testing\n",
    "confidence = LR.score(X_test,Y_test)\n",
    "print(\"confidence:\", confidence)\n",
    "print('R2 Score is: ', metrics.explained_variance_score(Y_test, testpredictions))\n",
    "print('Mean Squared Error is: ', metrics.mean_squared_error(Y_test, testpredictions))\n",
    "print('Root Mean Squared Error is: ', np.sqrt(metrics.mean_squared_error(Y_test, testpredictions)))\n",
    "print('Mean Absolute Error is: ', metrics.mean_absolute_error(Y_test, testpredictions))\n",
    "print('Mean Absolute Percentage Error is: ', metrics.mean_absolute_percentage_error(Y_test, testpredictions))"
   ]
  },
  {
   "cell_type": "code",
   "execution_count": 9,
   "id": "af2e378c",
   "metadata": {},
   "outputs": [
    {
     "name": "stdout",
     "output_type": "stream",
     "text": [
      "[[-1.36330334 -1.34876685 -1.3340669  -1.33141854 -1.33036588 -1.32358668\n",
      "  -1.30761649 -1.38628634 -1.41502036 -1.42764316 -1.48292706 -1.50220794\n",
      "  -1.53975077 -1.58111313 -1.60580064 -1.57089923 -1.58288767 -1.59818302\n",
      "  -1.54936505 -1.61737707 -1.57182235 -1.46312312 -1.5962962  -1.47402272\n",
      "  -1.49996869 -1.53654147 -1.52140278]]\n"
     ]
    }
   ],
   "source": [
    "print(X_forecast)"
   ]
  },
  {
   "cell_type": "code",
   "execution_count": 10,
   "id": "71e54c1a",
   "metadata": {},
   "outputs": [
    {
     "name": "stdout",
     "output_type": "stream",
     "text": [
      "[1.04362883]\n"
     ]
    }
   ],
   "source": [
    "forecast_prediction = LR.predict(X_forecast)\n",
    "print(forecast_prediction)"
   ]
  },
  {
   "cell_type": "code",
   "execution_count": null,
   "id": "6ef8b9f6",
   "metadata": {},
   "outputs": [],
   "source": []
  }
 ],
 "metadata": {
  "kernelspec": {
   "display_name": "Python 3 (ipykernel)",
   "language": "python",
   "name": "python3"
  },
  "language_info": {
   "codemirror_mode": {
    "name": "ipython",
    "version": 3
   },
   "file_extension": ".py",
   "mimetype": "text/x-python",
   "name": "python",
   "nbconvert_exporter": "python",
   "pygments_lexer": "ipython3",
   "version": "3.9.12"
  }
 },
 "nbformat": 4,
 "nbformat_minor": 5
}

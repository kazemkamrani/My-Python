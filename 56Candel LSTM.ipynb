{
 "cells": [
  {
   "cell_type": "code",
   "execution_count": 1,
   "id": "cbe65a40",
   "metadata": {},
   "outputs": [],
   "source": [
    "import pandas as pd \n",
    "import numpy as np\n",
    "import yfinance as yf\n",
    "yf.pdr_override()\n",
    "import matplotlib.pyplot as plt \n",
    "%matplotlib inline \n",
    "import seaborn as sns\n",
    "from tensorflow.keras.models import Sequential\n",
    "from tensorflow.keras.layers import Dense, SimpleRNN, LSTM, GRU\n",
    "from tensorflow.keras.callbacks import EarlyStopping\n",
    "from sklearn import preprocessing\n",
    "from sklearn.model_selection import train_test_split\n",
    "import mplfinance as mpf\n",
    "from sklearn import metrics"
   ]
  },
  {
   "cell_type": "code",
   "execution_count": 2,
   "id": "5be3048d",
   "metadata": {},
   "outputs": [
    {
     "name": "stdout",
     "output_type": "stream",
     "text": [
      "[*********************100%***********************]  1 of 1 completed\n"
     ]
    }
   ],
   "source": [
    "df = yf.download(tickers = \"EURUSD=X\",period = \"2y\",interval = \"1h\",group_by = 'ticker',\n",
    "                 auto_adjust = True,prepost = True,threads = True,proxy = None)\n",
    "df = pd.DataFrame(df)\n",
    "df =df.drop(columns='Volume')\n",
    "df =df.drop(columns='Open')\n"
   ]
  },
  {
   "cell_type": "code",
   "execution_count": 3,
   "id": "e173656f",
   "metadata": {},
   "outputs": [
    {
     "name": "stdout",
     "output_type": "stream",
     "text": [
      "                               High       Low     Close\n",
      "2020-07-09 00:00:00+01:00  1.134301  1.133530  1.134044\n",
      "2020-07-09 01:00:00+01:00  1.135332  1.133658  1.133787\n",
      "2020-07-09 02:00:00+01:00  1.134430  1.133144  1.134173\n",
      "2020-07-09 03:00:00+01:00  1.135074  1.134044  1.135074\n",
      "2020-07-09 04:00:00+01:00  1.136751  1.134687  1.136493\n",
      "...                             ...       ...       ...\n",
      "2022-07-07 18:00:00+01:00  1.016260  1.014816  1.015950\n",
      "2022-07-07 19:00:00+01:00  1.017191  1.015950  1.016260\n",
      "2022-07-07 20:00:00+01:00  1.016777  1.015744  1.016673\n",
      "2022-07-07 21:00:00+01:00  1.016777  1.015950  1.016363\n",
      "2022-07-07 22:00:00+01:00  1.016777  1.016157  1.016467\n",
      "\n",
      "[12357 rows x 3 columns]\n"
     ]
    }
   ],
   "source": [
    "df = df[:-24]\n",
    "print(df)"
   ]
  },
  {
   "cell_type": "code",
   "execution_count": 4,
   "id": "7b64c1b3",
   "metadata": {},
   "outputs": [],
   "source": [
    "df['High1'] = df['High'].shift(-1)\n",
    "df['Low1'] = df['Low'].shift(-1)\n",
    "df['Close1'] = df['Close'].shift(-1)\n",
    "\n",
    "df['High2'] = df['High'].shift(-2)\n",
    "df['Low2'] = df['Low'].shift(-2)\n",
    "df['Close2'] = df['Close'].shift(-2)\n",
    "\n",
    "df['High3'] = df['High'].shift(-3)\n",
    "df['Low3'] = df['Low'].shift(-3)\n",
    "df['Close3'] = df['Close'].shift(-3)\n",
    "\n",
    "df['High4'] = df['High'].shift(-4)\n",
    "df['Low4'] = df['Low'].shift(-4)\n",
    "df['Close4'] = df['Close'].shift(-4)\n",
    "\n",
    "df['High5'] = df['High'].shift(-5)\n",
    "df['Low5'] = df['Low'].shift(-5)\n",
    "df['Close5'] = df['Close'].shift(-5)\n",
    "\n",
    "df['High6'] = df['High'].shift(-6)\n",
    "df['Low6'] = df['Low'].shift(-6)\n",
    "df['Close6'] = df['Close'].shift(-6)\n",
    "\n",
    "df['High7'] = df['High'].shift(-7)\n",
    "df['Low7'] = df['Low'].shift(-7)\n",
    "df['Close7'] = df['Close'].shift(-7)\n",
    "\n",
    "df['High8'] = df['High'].shift(-8)\n",
    "df['Low8'] = df['Low'].shift(-8)\n",
    "df['Close8'] = df['Close'].shift(-8)\n",
    "\n",
    "df['High9'] = df['High'].shift(-9)\n",
    "df['Low9'] = df['Low'].shift(-9)\n",
    "df['Close9'] = df['Close'].shift(-9)\n",
    "\n",
    "df['High10'] = df['High'].shift(-10)\n",
    "df['Low10'] = df['Low'].shift(-10)\n",
    "df['Close10'] = df['Close'].shift(-10)\n",
    "\n",
    "df['High11'] = df['High'].shift(-11)\n",
    "df['Low11'] = df['Low'].shift(-11)\n",
    "df['Close11'] = df['Close'].shift(-11)\n",
    "\n",
    "df['High12'] = df['High'].shift(-12)\n",
    "df['Low12'] = df['Low'].shift(-12)\n",
    "df['Close12'] = df['Close'].shift(-12)\n",
    "\n",
    "df['High13'] = df['High'].shift(-13)\n",
    "df['Low13'] = df['Low'].shift(-13)\n",
    "df['Close13'] = df['Close'].shift(-13)\n",
    "\n",
    "df['High14'] = df['High'].shift(-14)\n",
    "df['Low14'] = df['Low'].shift(-14)\n",
    "df['Close14'] = df['Close'].shift(-14)\n",
    "\n",
    "df['High15'] = df['High'].shift(-15)\n",
    "df['Low15'] = df['Low'].shift(-15)\n",
    "df['Close15'] = df['Close'].shift(-15)\n",
    "\n",
    "df['High16'] = df['High'].shift(-16)\n",
    "df['Low16'] = df['Low'].shift(-16)\n",
    "df['Close16'] = df['Close'].shift(-16)\n",
    "\n",
    "df['High17'] = df['High'].shift(-17)\n",
    "df['Low17'] = df['Low'].shift(-17)\n",
    "df['Close17'] = df['Close'].shift(-17)\n",
    "\n",
    "df['High18'] = df['High'].shift(-18)\n",
    "df['Low18'] = df['Low'].shift(-18)\n",
    "df['Close18'] = df['Close'].shift(-18)\n",
    "\n",
    "df['High19'] = df['High'].shift(-19)\n",
    "df['Low19'] = df['Low'].shift(-19)\n",
    "df['Close19'] = df['Close'].shift(-19)\n",
    "\n",
    "df['High20'] = df['High'].shift(-20)\n",
    "df['Low20'] = df['Low'].shift(-20)\n",
    "df['Close20'] = df['Close'].shift(-20)\n",
    "\n",
    "df = df[:-20]\n",
    "#print(df)"
   ]
  },
  {
   "cell_type": "code",
   "execution_count": 5,
   "id": "88527688",
   "metadata": {},
   "outputs": [],
   "source": [
    "forecast_out = int(12)\n",
    "df['Prediction'] = df['Close20'].shift(-forecast_out)\n",
    "#print(df) \n"
   ]
  },
  {
   "cell_type": "code",
   "execution_count": 6,
   "id": "623c943d",
   "metadata": {},
   "outputs": [],
   "source": [
    "X = pd.DataFrame(df.drop(columns='Prediction'))\n",
    "#X = preprocessing.scale(X)\n",
    "X_forecast = X[-forecast_out:]\n",
    "df = df[:-forecast_out]\n",
    "#print(df)"
   ]
  },
  {
   "cell_type": "code",
   "execution_count": 7,
   "id": "cb1e14ed",
   "metadata": {},
   "outputs": [],
   "source": [
    "features = X.shape[1]\n",
    "\n",
    "test_point = np.round(len(df)*0.1)\n",
    "test_index = int(len(df)-test_point)\n",
    "\n",
    "train = df.iloc[:test_index]\n",
    "test = df.iloc[test_index:]\n",
    "\n",
    "X_train, Y_train = train.iloc[:, :-1], pd.DataFrame(train.iloc[:, -1])\n",
    "X_test, Y_test = test.iloc[:, :-1], pd.DataFrame(test.iloc[:, -1])\n",
    "\n",
    "length = 1\n",
    "\n",
    "trainX = np.array([X_train], order='C')\n",
    "trainX.resize((X_train.shape[0], length, features))\n",
    "testX = np.array([X_test], order='C')\n",
    "testX.resize((X_test.shape[0], length, features))\n",
    "forecastX = np.array([X_forecast], order='C')\n",
    "forecastX.resize((X_forecast.shape[0], length, features))\n"
   ]
  },
  {
   "cell_type": "code",
   "execution_count": 8,
   "id": "d6afae42",
   "metadata": {},
   "outputs": [
    {
     "name": "stdout",
     "output_type": "stream",
     "text": [
      "Epoch 1/100\n",
      "159/159 [==============================] - 2s 4ms/step - loss: 0.0444 - val_loss: 0.0013\n",
      "Epoch 2/100\n",
      "159/159 [==============================] - 0s 2ms/step - loss: 1.5152e-04 - val_loss: 0.0011\n",
      "Epoch 3/100\n",
      "159/159 [==============================] - 0s 2ms/step - loss: 1.4066e-04 - val_loss: 0.0010\n",
      "Epoch 4/100\n",
      "159/159 [==============================] - 1s 4ms/step - loss: 1.2818e-04 - val_loss: 9.9078e-04\n",
      "Epoch 5/100\n",
      "159/159 [==============================] - 0s 3ms/step - loss: 1.1445e-04 - val_loss: 7.9155e-04\n",
      "Epoch 6/100\n",
      "159/159 [==============================] - 0s 3ms/step - loss: 9.8014e-05 - val_loss: 6.0481e-04\n",
      "Epoch 7/100\n",
      "159/159 [==============================] - 0s 3ms/step - loss: 8.4428e-05 - val_loss: 5.7305e-04\n",
      "Epoch 8/100\n",
      "159/159 [==============================] - 0s 3ms/step - loss: 6.8820e-05 - val_loss: 4.2705e-04\n",
      "Epoch 9/100\n",
      "159/159 [==============================] - 0s 3ms/step - loss: 5.6084e-05 - val_loss: 3.3587e-04\n",
      "Epoch 10/100\n",
      "159/159 [==============================] - 0s 3ms/step - loss: 4.4366e-05 - val_loss: 2.5017e-04\n",
      "Epoch 11/100\n",
      "159/159 [==============================] - 0s 2ms/step - loss: 3.4386e-05 - val_loss: 1.2045e-04\n",
      "Epoch 12/100\n",
      "159/159 [==============================] - 0s 2ms/step - loss: 2.7727e-05 - val_loss: 1.1587e-04\n",
      "Epoch 13/100\n",
      "159/159 [==============================] - 0s 2ms/step - loss: 2.3223e-05 - val_loss: 6.2471e-05\n",
      "Epoch 14/100\n",
      "159/159 [==============================] - 1s 3ms/step - loss: 2.1057e-05 - val_loss: 4.4806e-05\n",
      "Epoch 15/100\n",
      "159/159 [==============================] - 1s 4ms/step - loss: 1.9909e-05 - val_loss: 4.9420e-05\n",
      "Epoch 16/100\n",
      "159/159 [==============================] - 1s 3ms/step - loss: 2.0285e-05 - val_loss: 5.5515e-05\n",
      "Epoch 17/100\n",
      "159/159 [==============================] - 0s 3ms/step - loss: 2.1996e-05 - val_loss: 3.6221e-05\n",
      "Epoch 18/100\n",
      "159/159 [==============================] - 0s 3ms/step - loss: 2.0011e-05 - val_loss: 4.1149e-05\n",
      "Epoch 19/100\n",
      "159/159 [==============================] - 0s 3ms/step - loss: 2.0856e-05 - val_loss: 3.6256e-05\n",
      "Epoch 20/100\n",
      "159/159 [==============================] - 0s 2ms/step - loss: 2.0920e-05 - val_loss: 3.6898e-05\n",
      "Epoch 21/100\n",
      "159/159 [==============================] - 0s 3ms/step - loss: 1.9927e-05 - val_loss: 3.5802e-05\n",
      "Epoch 22/100\n",
      "159/159 [==============================] - 0s 3ms/step - loss: 2.2221e-05 - val_loss: 4.8017e-05\n",
      "Epoch 23/100\n",
      "159/159 [==============================] - 0s 3ms/step - loss: 2.1033e-05 - val_loss: 3.6827e-05\n",
      "Epoch 24/100\n",
      "159/159 [==============================] - 0s 3ms/step - loss: 2.3165e-05 - val_loss: 3.5660e-05\n",
      "Epoch 25/100\n",
      "159/159 [==============================] - 0s 2ms/step - loss: 2.0094e-05 - val_loss: 3.8181e-05\n",
      "Epoch 26/100\n",
      "159/159 [==============================] - 0s 2ms/step - loss: 2.1552e-05 - val_loss: 3.7636e-05\n",
      "Epoch 27/100\n",
      "159/159 [==============================] - 0s 3ms/step - loss: 2.1845e-05 - val_loss: 3.9627e-05\n",
      "Epoch 28/100\n",
      "159/159 [==============================] - 0s 3ms/step - loss: 2.0535e-05 - val_loss: 3.6053e-05\n",
      "Epoch 29/100\n",
      "159/159 [==============================] - 0s 3ms/step - loss: 2.3002e-05 - val_loss: 3.5143e-05\n",
      "Epoch 30/100\n",
      "159/159 [==============================] - 0s 3ms/step - loss: 2.1322e-05 - val_loss: 3.6285e-05\n",
      "Epoch 31/100\n",
      "159/159 [==============================] - 0s 2ms/step - loss: 2.4706e-05 - val_loss: 5.4759e-05\n",
      "Epoch 32/100\n",
      "159/159 [==============================] - 0s 2ms/step - loss: 2.9475e-05 - val_loss: 3.7067e-05\n",
      "Epoch 33/100\n",
      "159/159 [==============================] - 0s 2ms/step - loss: 2.4483e-05 - val_loss: 4.3828e-05\n",
      "Epoch 34/100\n",
      "159/159 [==============================] - 0s 2ms/step - loss: 2.3941e-05 - val_loss: 4.1702e-05\n",
      "Epoch 34: early stopping\n"
     ]
    },
    {
     "data": {
      "text/plain": [
       "<keras.callbacks.History at 0x23e07e75c10>"
      ]
     },
     "execution_count": 8,
     "metadata": {},
     "output_type": "execute_result"
    }
   ],
   "source": [
    "#Training\n",
    "early_stop = EarlyStopping(monitor='val_loss', mode='min', verbose=1, patience=5)\n",
    "model = Sequential()\n",
    "model.add(LSTM(features, input_shape=(length,features), activation='relu'))\n",
    "model.add(Dense(1))\n",
    "model.compile(optimizer='Adam', loss='mse')\n",
    "model.fit(trainX, Y_train,\n",
    "          epochs=100,\n",
    "          batch_size=70, \n",
    "          validation_data=(testX, Y_test),\n",
    "          callbacks=[early_stop]\n",
    "          )"
   ]
  },
  {
   "cell_type": "code",
   "execution_count": 9,
   "id": "edc67dbf",
   "metadata": {},
   "outputs": [
    {
     "data": {
      "text/plain": [
       "<AxesSubplot:>"
      ]
     },
     "execution_count": 9,
     "metadata": {},
     "output_type": "execute_result"
    },
    {
     "data": {
      "image/png": "[encoded data removed]",
      "text/plain": [
       "<Figure size 432x288 with 1 Axes>"
      ]
     },
     "metadata": {
      "needs_background": "light"
     },
     "output_type": "display_data"
    }
   ],
   "source": [
    "losses=pd.DataFrame(model.history.history)\n",
    "losses.plot()"
   ]
  },
  {
   "cell_type": "code",
   "execution_count": 10,
   "id": "1b607e50",
   "metadata": {},
   "outputs": [
    {
     "name": "stdout",
     "output_type": "stream",
     "text": [
      "39/39 [==============================] - 0s 1ms/step\n",
      "R2 Score is:  0.7890779087530622\n",
      "Root Mean Squared Error is:  0.006457704930605051\n",
      "Mean Absolute Error is:  0.004947920898338417\n",
      "Mean Absolute Percentage Error is:  0.004704169617688594\n"
     ]
    }
   ],
   "source": [
    "#Testing\n",
    "testpredictions = model.predict(testX)\n",
    "print('R2 Score is: ', metrics.explained_variance_score(Y_test, testpredictions))\n",
    "print('Root Mean Squared Error is: ', np.sqrt(metrics.mean_squared_error(Y_test, testpredictions)))\n",
    "print('Mean Absolute Error is: ', metrics.mean_absolute_error(Y_test, testpredictions))\n",
    "print('Mean Absolute Percentage Error is: ', metrics.mean_absolute_percentage_error(Y_test, testpredictions))"
   ]
  },
  {
   "cell_type": "code",
   "execution_count": 11,
   "id": "e201e314",
   "metadata": {},
   "outputs": [
    {
     "name": "stdout",
     "output_type": "stream",
     "text": [
      "1/1 [==============================] - 0s 16ms/step\n",
      "[[-1.6240526]\n",
      " [-1.6130873]\n",
      " [-1.5921862]\n",
      " [-1.6051366]\n",
      " [-1.6066413]\n",
      " [-1.5979444]\n",
      " [-1.5970604]\n",
      " [-1.6037514]\n",
      " [-1.6063564]\n",
      " [-1.6005671]\n",
      " [-1.5990689]\n",
      " [-1.6031961]]\n"
     ]
    }
   ],
   "source": [
    "forecast_prediction = model.predict(forecastX)\n",
    "print(forecast_prediction)"
   ]
  },
  {
   "cell_type": "code",
   "execution_count": 12,
   "id": "45431651",
   "metadata": {},
   "outputs": [
    {
     "name": "stdout",
     "output_type": "stream",
     "text": [
      "Max = [-1.5921862]\n",
      "Min = [-1.6240526]\n"
     ]
    },
    {
     "data": {
      "text/plain": [
       "[<matplotlib.lines.Line2D at 0x23e0d42ec10>]"
      ]
     },
     "execution_count": 12,
     "metadata": {},
     "output_type": "execute_result"
    },
    {
     "data": {
      "image/png": "[encoded data removed]",
      "text/plain": [
       "<Figure size 432x288 with 1 Axes>"
      ]
     },
     "metadata": {
      "needs_background": "light"
     },
     "output_type": "display_data"
    }
   ],
   "source": [
    "print('Max =',max(forecast_prediction))\n",
    "print('Min =',min(forecast_prediction))\n",
    "plt.axes([1, 2, 1.5 , 1.5])\n",
    "plt.plot(forecast_prediction)"
   ]
  },
  {
   "cell_type": "code",
   "execution_count": null,
   "id": "0bff3229",
   "metadata": {},
   "outputs": [],
   "source": []
  }
 ],
 "metadata": {
  "kernelspec": {
   "display_name": "Python 3 (ipykernel)",
   "language": "python",
   "name": "python3"
  },
  "language_info": {
   "codemirror_mode": {
    "name": "ipython",
    "version": 3
   },
   "file_extension": ".py",
   "mimetype": "text/x-python",
   "name": "python",
   "nbconvert_exporter": "python",
   "pygments_lexer": "ipython3",
   "version": "3.9.12"
  }
 },
 "nbformat": 4,
 "nbformat_minor": 5
}

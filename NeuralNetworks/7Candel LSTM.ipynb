{
 "cells": [
  {
   "cell_type": "code",
   "execution_count": 1,
   "id": "aaa7af73",
   "metadata": {},
   "outputs": [],
   "source": [
    "import pandas as pd \n",
    "import numpy as np\n",
    "import yfinance as yf\n",
    "yf.pdr_override()\n",
    "import matplotlib.pyplot as plt \n",
    "%matplotlib inline \n",
    "import seaborn as sns\n",
    "from tensorflow.keras.models import Sequential\n",
    "from tensorflow.keras.layers import Dense, SimpleRNN, LSTM, GRU\n",
    "from tensorflow.keras.callbacks import EarlyStopping\n",
    "from sklearn import preprocessing\n",
    "from sklearn.model_selection import train_test_split\n",
    "import mplfinance as mpf\n",
    "from sklearn import metrics\n"
   ]
  },
  {
   "cell_type": "code",
   "execution_count": 2,
   "id": "63560855",
   "metadata": {},
   "outputs": [
    {
     "name": "stdout",
     "output_type": "stream",
     "text": [
      "[*********************100%***********************]  1 of 1 completed\n",
      "                High       Low     Close\n",
      "Date                                    \n",
      "2003-12-01  1.204007  1.194401  1.196501\n",
      "2003-12-02  1.210903  1.194600  1.208897\n",
      "2003-12-03  1.213003  1.207700  1.212298\n",
      "2003-12-04  1.214403  1.204398  1.208094\n",
      "2003-12-05  1.219096  1.206593  1.218695\n",
      "...              ...       ...       ...\n",
      "2022-09-19  1.002808  0.996681  1.002235\n",
      "2022-09-20  1.005025  0.995708  1.002959\n",
      "2022-09-21  0.997407  0.986914  0.997079\n",
      "2022-09-22  0.990619  0.981104  0.983072\n",
      "2022-09-23  0.985610  0.974089  0.975705\n",
      "\n",
      "[4881 rows x 3 columns]\n"
     ]
    }
   ],
   "source": [
    "df = yf.download(tickers = \"EURUSD=X\",period = \"20y\",interval = \"1d\",group_by = 'ticker',\n",
    "                 auto_adjust = True,prepost = True,threads = True,proxy = None)\n",
    "df = pd.DataFrame(df)\n",
    "df =df.drop(columns='Volume')\n",
    "df =df.drop(columns='Open')\n",
    "#df = df[:-22]\n",
    "print(df)"
   ]
  },
  {
   "cell_type": "code",
   "execution_count": 3,
   "id": "c08a4c6d",
   "metadata": {},
   "outputs": [
    {
     "name": "stdout",
     "output_type": "stream",
     "text": [
      "                High       Low     Close     High1      Low1    Close1  \\\n",
      "Date                                                                     \n",
      "2003-12-01  1.204007  1.194401  1.196501  1.210903  1.194600  1.208897   \n",
      "2003-12-02  1.210903  1.194600  1.208897  1.213003  1.207700  1.212298   \n",
      "2003-12-03  1.213003  1.207700  1.212298  1.214403  1.204398  1.208094   \n",
      "2003-12-04  1.214403  1.204398  1.208094  1.219096  1.206593  1.218695   \n",
      "2003-12-05  1.219096  1.206593  1.218695  1.224005  1.215407  1.222001   \n",
      "...              ...       ...       ...       ...       ...       ...   \n",
      "2022-09-15  1.001793  0.995748  0.998403  1.003563  0.994580  0.998831   \n",
      "2022-09-16  1.003563  0.994580  0.998831  1.002808  0.996681  1.002235   \n",
      "2022-09-19  1.002808  0.996681  1.002235  1.005025  0.995708  1.002959   \n",
      "2022-09-20  1.005025  0.995708  1.002959  0.997407  0.986914  0.997079   \n",
      "2022-09-21  0.997407  0.986914  0.997079  0.990619  0.981104  0.983072   \n",
      "\n",
      "               High2      Low2    Close2  \n",
      "Date                                      \n",
      "2003-12-01  1.213003  1.207700  1.212298  \n",
      "2003-12-02  1.214403  1.204398  1.208094  \n",
      "2003-12-03  1.219096  1.206593  1.218695  \n",
      "2003-12-04  1.224005  1.215407  1.222001  \n",
      "2003-12-05  1.227702  1.219795  1.224995  \n",
      "...              ...       ...       ...  \n",
      "2022-09-15  1.002808  0.996681  1.002235  \n",
      "2022-09-16  1.005025  0.995708  1.002959  \n",
      "2022-09-19  0.997407  0.986914  0.997079  \n",
      "2022-09-20  0.990619  0.981104  0.983072  \n",
      "2022-09-21  0.985610  0.974089  0.975705  \n",
      "\n",
      "[4879 rows x 9 columns]\n"
     ]
    }
   ],
   "source": [
    "df['High1'] = df['High'].shift(-1)\n",
    "df['Low1'] = df['Low'].shift(-1)\n",
    "df['Close1'] = df['Close'].shift(-1)\n",
    "\n",
    "df['High2'] = df['High'].shift(-2)\n",
    "df['Low2'] = df['Low'].shift(-2)\n",
    "df['Close2'] = df['Close'].shift(-2)\n",
    "'''\n",
    "df['High3'] = df['High'].shift(-3)\n",
    "df['Low3'] = df['Low'].shift(-3)\n",
    "df['Close3'] = df['Close'].shift(-3)\n",
    "\n",
    "df['High4'] = df['High'].shift(-4)\n",
    "df['Low4'] = df['Low'].shift(-4)\n",
    "df['Close4'] = df['Close'].shift(-4)\n",
    "\n",
    "df['High5'] = df['High'].shift(-5)\n",
    "df['Low5'] = df['Low'].shift(-5)\n",
    "df['Close5'] = df['Close'].shift(-5)\n",
    "\n",
    "df['High6'] = df['High'].shift(-6)\n",
    "df['Low6'] = df['Low'].shift(-6)\n",
    "df['Close6'] = df['Close'].shift(-6)\n",
    "'''\n",
    "\n",
    "df = df[:-2]\n",
    "print(df)\n"
   ]
  },
  {
   "cell_type": "code",
   "execution_count": 4,
   "id": "b9379198",
   "metadata": {
    "scrolled": false
   },
   "outputs": [
    {
     "name": "stdout",
     "output_type": "stream",
     "text": [
      "                High       Low     Close     High1      Low1    Close1  \\\n",
      "Date                                                                     \n",
      "2003-12-01  1.204007  1.194401  1.196501  1.210903  1.194600  1.208897   \n",
      "2003-12-02  1.210903  1.194600  1.208897  1.213003  1.207700  1.212298   \n",
      "2003-12-03  1.213003  1.207700  1.212298  1.214403  1.204398  1.208094   \n",
      "2003-12-04  1.214403  1.204398  1.208094  1.219096  1.206593  1.218695   \n",
      "2003-12-05  1.219096  1.206593  1.218695  1.224005  1.215407  1.222001   \n",
      "...              ...       ...       ...       ...       ...       ...   \n",
      "2022-09-15  1.001793  0.995748  0.998403  1.003563  0.994580  0.998831   \n",
      "2022-09-16  1.003563  0.994580  0.998831  1.002808  0.996681  1.002235   \n",
      "2022-09-19  1.002808  0.996681  1.002235  1.005025  0.995708  1.002959   \n",
      "2022-09-20  1.005025  0.995708  1.002959  0.997407  0.986914  0.997079   \n",
      "2022-09-21  0.997407  0.986914  0.997079  0.990619  0.981104  0.983072   \n",
      "\n",
      "               High2      Low2    Close2  Prediction  \n",
      "Date                                                  \n",
      "2003-12-01  1.213003  1.207700  1.212298    1.208094  \n",
      "2003-12-02  1.214403  1.204398  1.208094    1.218695  \n",
      "2003-12-03  1.219096  1.206593  1.218695    1.222001  \n",
      "2003-12-04  1.224005  1.215407  1.222001    1.224995  \n",
      "2003-12-05  1.227702  1.219795  1.224995    1.219096  \n",
      "...              ...       ...       ...         ...  \n",
      "2022-09-15  1.002808  0.996681  1.002235    1.002959  \n",
      "2022-09-16  1.005025  0.995708  1.002959    0.997079  \n",
      "2022-09-19  0.997407  0.986914  0.997079    0.983072  \n",
      "2022-09-20  0.990619  0.981104  0.983072    0.975705  \n",
      "2022-09-21  0.985610  0.974089  0.975705         NaN  \n",
      "\n",
      "[4879 rows x 10 columns]\n"
     ]
    }
   ],
   "source": [
    "forecast_out = int(1)\n",
    "df['Prediction'] = df['Close2'].shift(-forecast_out)\n",
    "print(df) "
   ]
  },
  {
   "cell_type": "code",
   "execution_count": 5,
   "id": "d1481098",
   "metadata": {},
   "outputs": [
    {
     "name": "stdout",
     "output_type": "stream",
     "text": [
      "                High       Low     Close     High1      Low1    Close1  \\\n",
      "Date                                                                     \n",
      "2003-12-01  1.204007  1.194401  1.196501  1.210903  1.194600  1.208897   \n",
      "2003-12-02  1.210903  1.194600  1.208897  1.213003  1.207700  1.212298   \n",
      "2003-12-03  1.213003  1.207700  1.212298  1.214403  1.204398  1.208094   \n",
      "2003-12-04  1.214403  1.204398  1.208094  1.219096  1.206593  1.218695   \n",
      "2003-12-05  1.219096  1.206593  1.218695  1.224005  1.215407  1.222001   \n",
      "...              ...       ...       ...       ...       ...       ...   \n",
      "2022-09-14  1.002275  0.996363  0.998203  1.001793  0.995748  0.998403   \n",
      "2022-09-15  1.001793  0.995748  0.998403  1.003563  0.994580  0.998831   \n",
      "2022-09-16  1.003563  0.994580  0.998831  1.002808  0.996681  1.002235   \n",
      "2022-09-19  1.002808  0.996681  1.002235  1.005025  0.995708  1.002959   \n",
      "2022-09-20  1.005025  0.995708  1.002959  0.997407  0.986914  0.997079   \n",
      "\n",
      "               High2      Low2    Close2  Prediction  \n",
      "Date                                                  \n",
      "2003-12-01  1.213003  1.207700  1.212298    1.208094  \n",
      "2003-12-02  1.214403  1.204398  1.208094    1.218695  \n",
      "2003-12-03  1.219096  1.206593  1.218695    1.222001  \n",
      "2003-12-04  1.224005  1.215407  1.222001    1.224995  \n",
      "2003-12-05  1.227702  1.219795  1.224995    1.219096  \n",
      "...              ...       ...       ...         ...  \n",
      "2022-09-14  1.003563  0.994580  0.998831    1.002235  \n",
      "2022-09-15  1.002808  0.996681  1.002235    1.002959  \n",
      "2022-09-16  1.005025  0.995708  1.002959    0.997079  \n",
      "2022-09-19  0.997407  0.986914  0.997079    0.983072  \n",
      "2022-09-20  0.990619  0.981104  0.983072    0.975705  \n",
      "\n",
      "[4878 rows x 10 columns]\n"
     ]
    }
   ],
   "source": [
    "X = pd.DataFrame(df.drop(columns='Prediction'))\n",
    "#X = preprocessing.scale(X)\n",
    "X_forecast = X[-forecast_out:]\n",
    "X = X[:-forecast_out]\n",
    "\n",
    "df = df[:-forecast_out]\n",
    "\n",
    "print(df)\n"
   ]
  },
  {
   "cell_type": "code",
   "execution_count": 6,
   "id": "99001aaf",
   "metadata": {},
   "outputs": [
    {
     "name": "stdout",
     "output_type": "stream",
     "text": [
      "9\n"
     ]
    }
   ],
   "source": [
    "features = X.shape[1]\n",
    "print( features)\n",
    "\n",
    "test_point = np.round(len(df)*0.1)\n",
    "test_index = int(len(df)-test_point)\n",
    "\n",
    "train = df.iloc[:test_index]\n",
    "test = df.iloc[test_index:]\n",
    "\n",
    "X_train, Y_train = train.iloc[:, :-1], pd.DataFrame(train.iloc[:, -1])\n",
    "X_test, Y_test = test.iloc[:, :-1], pd.DataFrame(test.iloc[:, -1])\n",
    "\n"
   ]
  },
  {
   "cell_type": "code",
   "execution_count": 7,
   "id": "dea12f83",
   "metadata": {},
   "outputs": [],
   "source": [
    "length = 1\n",
    "\n",
    "trainX = np.array([X_train], order='C')\n",
    "trainX.resize((X_train.shape[0], length, features))\n",
    "testX = np.array([X_test], order='C')\n",
    "testX.resize((X_test.shape[0], length, features))\n",
    "\n",
    "forecastX = np.array([X_forecast], order='C')\n",
    "forecastX.resize((X_forecast.shape[0], length, features))\n"
   ]
  },
  {
   "cell_type": "code",
   "execution_count": 8,
   "id": "37c72d77",
   "metadata": {},
   "outputs": [
    {
     "name": "stdout",
     "output_type": "stream",
     "text": [
      "Epoch 1/100\n",
      "220/220 [==============================] - 2s 3ms/step - loss: 0.1149 - val_loss: 0.0027\n",
      "Epoch 2/100\n",
      "220/220 [==============================] - 0s 2ms/step - loss: 0.0021 - val_loss: 0.0026\n",
      "Epoch 3/100\n",
      "220/220 [==============================] - 0s 2ms/step - loss: 0.0019 - val_loss: 0.0024\n",
      "Epoch 4/100\n",
      "220/220 [==============================] - 0s 2ms/step - loss: 0.0017 - val_loss: 0.0020\n",
      "Epoch 5/100\n",
      "220/220 [==============================] - 0s 2ms/step - loss: 0.0015 - val_loss: 0.0021\n",
      "Epoch 6/100\n",
      "220/220 [==============================] - 0s 2ms/step - loss: 0.0012 - val_loss: 0.0010\n",
      "Epoch 7/100\n",
      "220/220 [==============================] - 0s 2ms/step - loss: 9.6804e-04 - val_loss: 8.2565e-04\n",
      "Epoch 8/100\n",
      "220/220 [==============================] - 0s 2ms/step - loss: 7.3643e-04 - val_loss: 7.6660e-04\n",
      "Epoch 9/100\n",
      "220/220 [==============================] - 0s 2ms/step - loss: 5.5047e-04 - val_loss: 3.0542e-04\n",
      "Epoch 10/100\n",
      "220/220 [==============================] - 0s 2ms/step - loss: 4.0453e-04 - val_loss: 1.9094e-04\n",
      "Epoch 11/100\n",
      "220/220 [==============================] - 0s 2ms/step - loss: 3.0000e-04 - val_loss: 9.4315e-05\n",
      "Epoch 12/100\n",
      "220/220 [==============================] - 0s 2ms/step - loss: 2.3107e-04 - val_loss: 9.0866e-05\n",
      "Epoch 13/100\n",
      "220/220 [==============================] - 0s 2ms/step - loss: 1.9131e-04 - val_loss: 4.2399e-05\n",
      "Epoch 14/100\n",
      "220/220 [==============================] - 0s 2ms/step - loss: 1.6868e-04 - val_loss: 3.2945e-05\n",
      "Epoch 15/100\n",
      "220/220 [==============================] - 0s 2ms/step - loss: 1.5642e-04 - val_loss: 2.7767e-05\n",
      "Epoch 16/100\n",
      "220/220 [==============================] - 0s 2ms/step - loss: 1.4965e-04 - val_loss: 2.9808e-05\n",
      "Epoch 17/100\n",
      "220/220 [==============================] - 1s 2ms/step - loss: 1.4658e-04 - val_loss: 3.5407e-05\n",
      "Epoch 18/100\n",
      "220/220 [==============================] - 0s 2ms/step - loss: 1.4464e-04 - val_loss: 2.8771e-05\n",
      "Epoch 19/100\n",
      "220/220 [==============================] - 0s 2ms/step - loss: 1.4561e-04 - val_loss: 3.9864e-05\n",
      "Epoch 20/100\n",
      "220/220 [==============================] - 0s 2ms/step - loss: 1.4561e-04 - val_loss: 3.0791e-05\n",
      "Epoch 20: early stopping\n"
     ]
    },
    {
     "data": {
      "text/plain": [
       "<keras.callbacks.History at 0x20d3d783b50>"
      ]
     },
     "execution_count": 8,
     "metadata": {},
     "output_type": "execute_result"
    }
   ],
   "source": [
    "early_stop = EarlyStopping(monitor='val_loss', mode='min', verbose=1, patience=5)\n",
    "model = Sequential()\n",
    "model.add(LSTM(features, input_shape=(length,features), activation='relu'))\n",
    "model.add(Dense(1))\n",
    "model.compile(optimizer='Adam', loss='mse')\n",
    "model.fit(trainX, Y_train,\n",
    "          epochs=100,\n",
    "          batch_size=20, \n",
    "          validation_data=(testX, Y_test),\n",
    "          callbacks=[early_stop]\n",
    "          )"
   ]
  },
  {
   "cell_type": "code",
   "execution_count": 9,
   "id": "85dfee25",
   "metadata": {},
   "outputs": [
    {
     "data": {
      "text/plain": [
       "<AxesSubplot:>"
      ]
     },
     "execution_count": 9,
     "metadata": {},
     "output_type": "execute_result"
    },
    {
     "data": {
      "image/png": "[encoded data removed]",
      "text/plain": [
       "<Figure size 432x288 with 1 Axes>"
      ]
     },
     "metadata": {
      "needs_background": "light"
     },
     "output_type": "display_data"
    }
   ],
   "source": [
    "losses=pd.DataFrame(model.history.history)\n",
    "losses.plot()"
   ]
  },
  {
   "cell_type": "code",
   "execution_count": 10,
   "id": "c16c5042",
   "metadata": {},
   "outputs": [
    {
     "name": "stdout",
     "output_type": "stream",
     "text": [
      "138/138 [==============================] - 0s 1ms/step\n",
      "16/16 [==============================] - 0s 2ms/step\n"
     ]
    }
   ],
   "source": [
    "trainpredictions = model.predict(trainX)\n",
    "testpredictions = model.predict(testX)"
   ]
  },
  {
   "cell_type": "code",
   "execution_count": 11,
   "id": "03ffde91",
   "metadata": {},
   "outputs": [
    {
     "name": "stdout",
     "output_type": "stream",
     "text": [
      "R2 Score is:  0.9939403071636362\n",
      "Root Mean Squared Error is:  0.005548951935391213\n",
      "Mean Absolute Error is:  0.004138452474211083\n",
      "Mean Absolute Percentage Error is:  0.0037040522187990026\n"
     ]
    }
   ],
   "source": [
    "print('R2 Score is: ', metrics.explained_variance_score(Y_test, testpredictions))\n",
    "print('Root Mean Squared Error is: ', np.sqrt(metrics.mean_squared_error(Y_test, testpredictions)))\n",
    "print('Mean Absolute Error is: ', metrics.mean_absolute_error(Y_test, testpredictions))\n",
    "print('Mean Absolute Percentage Error is: ', metrics.mean_absolute_percentage_error(Y_test, testpredictions))"
   ]
  },
  {
   "cell_type": "code",
   "execution_count": 12,
   "id": "1b0aecaa",
   "metadata": {},
   "outputs": [
    {
     "name": "stdout",
     "output_type": "stream",
     "text": [
      "1/1 [==============================] - 0s 32ms/step\n",
      "[[0.98693]]\n"
     ]
    }
   ],
   "source": [
    "forecast_prediction = model.predict(forecastX)\n",
    "print(forecast_prediction)"
   ]
  },
  {
   "cell_type": "code",
   "execution_count": 13,
   "id": "e3506375",
   "metadata": {},
   "outputs": [
    {
     "name": "stdout",
     "output_type": "stream",
     "text": [
      "Max = [0.98693]\n",
      "Min = [0.98693]\n"
     ]
    },
    {
     "data": {
      "text/plain": [
       "[<matplotlib.lines.Line2D at 0x20d4179dac0>]"
      ]
     },
     "execution_count": 13,
     "metadata": {},
     "output_type": "execute_result"
    },
    {
     "data": {
      "image/png": "[encoded data removed]",
      "text/plain": [
       "<Figure size 432x288 with 1 Axes>"
      ]
     },
     "metadata": {
      "needs_background": "light"
     },
     "output_type": "display_data"
    }
   ],
   "source": [
    "print('Max =',max(forecast_prediction))\n",
    "print('Min =',min(forecast_prediction))\n",
    "plt.axes([1, 2, 1.5 , 1.5])\n",
    "plt.plot(forecast_prediction)"
   ]
  },
  {
   "cell_type": "code",
   "execution_count": null,
   "id": "6394a76a",
   "metadata": {},
   "outputs": [],
   "source": []
  }
 ],
 "metadata": {
  "kernelspec": {
   "display_name": "Python 3 (ipykernel)",
   "language": "python",
   "name": "python3"
  },
  "language_info": {
   "codemirror_mode": {
    "name": "ipython",
    "version": 3
   },
   "file_extension": ".py",
   "mimetype": "text/x-python",
   "name": "python",
   "nbconvert_exporter": "python",
   "pygments_lexer": "ipython3",
   "version": "3.9.12"
  }
 },
 "nbformat": 4,
 "nbformat_minor": 5
}

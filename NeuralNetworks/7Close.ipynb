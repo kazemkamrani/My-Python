{
 "cells": [
  {
   "cell_type": "code",
   "execution_count": 1,
   "id": "f217f47d",
   "metadata": {},
   "outputs": [],
   "source": [
    "import pandas as pd \n",
    "import numpy as np\n",
    "import yfinance as yf\n",
    "yf.pdr_override()\n",
    "import matplotlib.pyplot as plt \n",
    "%matplotlib inline \n",
    "import seaborn as sns\n",
    "from tensorflow.keras.models import Sequential\n",
    "from tensorflow.keras.layers import Dense, SimpleRNN, LSTM, GRU\n",
    "from tensorflow.keras.callbacks import EarlyStopping\n",
    "from sklearn import preprocessing\n",
    "from sklearn.model_selection import train_test_split\n",
    "import mplfinance as mpf\n",
    "from sklearn import metrics\n",
    "\n"
   ]
  },
  {
   "cell_type": "code",
   "execution_count": 2,
   "id": "a727dcf1",
   "metadata": {},
   "outputs": [
    {
     "name": "stdout",
     "output_type": "stream",
     "text": [
      "[*********************100%***********************]  1 of 1 completed\n",
      "               Close\n",
      "Date                \n",
      "2003-12-01  1.196501\n",
      "2003-12-02  1.208897\n",
      "2003-12-03  1.212298\n",
      "2003-12-04  1.208094\n",
      "2003-12-05  1.218695\n",
      "...              ...\n",
      "2022-06-24  1.052011\n",
      "2022-06-27  1.056613\n",
      "2022-06-28  1.058089\n",
      "2022-06-29  1.052355\n",
      "2022-06-30  1.044659\n",
      "\n",
      "[4820 rows x 1 columns]\n"
     ]
    },
    {
     "name": "stderr",
     "output_type": "stream",
     "text": [
      "C:\\Users\\Kazem Kamrani\\AppData\\Local\\Temp\\ipykernel_892\\2908193313.py:4: FutureWarning: In a future version of pandas all arguments of DataFrame.drop except for the argument 'labels' will be keyword-only.\n",
      "  df =df.drop(['Volume'],1)\n",
      "C:\\Users\\Kazem Kamrani\\AppData\\Local\\Temp\\ipykernel_892\\2908193313.py:5: FutureWarning: In a future version of pandas all arguments of DataFrame.drop except for the argument 'labels' will be keyword-only.\n",
      "  df =df.drop(['Open'],1)\n",
      "C:\\Users\\Kazem Kamrani\\AppData\\Local\\Temp\\ipykernel_892\\2908193313.py:6: FutureWarning: In a future version of pandas all arguments of DataFrame.drop except for the argument 'labels' will be keyword-only.\n",
      "  df =df.drop(['High'],1)\n",
      "C:\\Users\\Kazem Kamrani\\AppData\\Local\\Temp\\ipykernel_892\\2908193313.py:7: FutureWarning: In a future version of pandas all arguments of DataFrame.drop except for the argument 'labels' will be keyword-only.\n",
      "  df =df.drop(['Low'],1)\n"
     ]
    }
   ],
   "source": [
    "df = yf.download(tickers = \"EURUSD=X\",period = \"20y\",interval = \"1d\",group_by = 'ticker',\n",
    "                 auto_adjust = True,prepost = True,threads = True,proxy = None)\n",
    "df = pd.DataFrame(df)\n",
    "df =df.drop(['Volume'],1)\n",
    "df =df.drop(['Open'],1)\n",
    "df =df.drop(['High'],1)\n",
    "df =df.drop(['Low'],1)\n",
    "df = df[:-7]\n",
    "print(df)"
   ]
  },
  {
   "cell_type": "code",
   "execution_count": 3,
   "id": "4294aacb",
   "metadata": {},
   "outputs": [],
   "source": [
    "for i in range(1, 7):\n",
    "    df[f\"Close{i}\"] = df[\"Close\"].shift(-i)\n",
    "    \n",
    "df = df[:-6]\n",
    "#print(df)   "
   ]
  },
  {
   "cell_type": "code",
   "execution_count": 4,
   "id": "60f1a0f8",
   "metadata": {},
   "outputs": [
    {
     "name": "stdout",
     "output_type": "stream",
     "text": [
      "               Close    Close1    Close2    Close3    Close4    Close5  \\\n",
      "Date                                                                     \n",
      "2003-12-01  1.196501  1.208897  1.212298  1.208094  1.218695  1.222001   \n",
      "2003-12-02  1.208897  1.212298  1.208094  1.218695  1.222001  1.224995   \n",
      "2003-12-03  1.212298  1.208094  1.218695  1.222001  1.224995  1.219096   \n",
      "2003-12-04  1.208094  1.218695  1.222001  1.224995  1.219096  1.222404   \n",
      "2003-12-05  1.218695  1.222001  1.224995  1.219096  1.222404  1.227898   \n",
      "...              ...       ...       ...       ...       ...       ...   \n",
      "2022-06-16  1.045620  1.054685  1.049142  1.052078  1.053264  1.056412   \n",
      "2022-06-17  1.054685  1.049142  1.052078  1.053264  1.056412  1.052011   \n",
      "2022-06-20  1.049142  1.052078  1.053264  1.056412  1.052011  1.056613   \n",
      "2022-06-21  1.052078  1.053264  1.056412  1.052011  1.056613  1.058089   \n",
      "2022-06-22  1.053264  1.056412  1.052011  1.056613  1.058089  1.052355   \n",
      "\n",
      "              Close6  PredictionClose  \n",
      "Date                                   \n",
      "2003-12-01  1.224995         1.219096  \n",
      "2003-12-02  1.219096         1.222404  \n",
      "2003-12-03  1.222404         1.227898  \n",
      "2003-12-04  1.227898         1.231997  \n",
      "2003-12-05  1.231997         1.232195  \n",
      "...              ...              ...  \n",
      "2022-06-16  1.052011         1.056613  \n",
      "2022-06-17  1.056613         1.058089  \n",
      "2022-06-20  1.058089         1.052355  \n",
      "2022-06-21  1.052355         1.044659  \n",
      "2022-06-22  1.044659              NaN  \n",
      "\n",
      "[4814 rows x 8 columns]\n"
     ]
    }
   ],
   "source": [
    "forecast_out = int(1)\n",
    "df['PredictionClose'] = df['Close6'].shift(-forecast_out)\n",
    "print(df)"
   ]
  },
  {
   "cell_type": "code",
   "execution_count": 5,
   "id": "fbe034e1",
   "metadata": {},
   "outputs": [
    {
     "name": "stderr",
     "output_type": "stream",
     "text": [
      "C:\\Users\\Kazem Kamrani\\AppData\\Local\\Temp\\ipykernel_892\\3182839119.py:1: FutureWarning: In a future version of pandas all arguments of DataFrame.drop except for the argument 'labels' will be keyword-only.\n",
      "  X = np.array(df.drop(['PredictionClose'],1))\n"
     ]
    }
   ],
   "source": [
    "X = np.array(df.drop(['PredictionClose'],1))\n",
    "#X = preprocessing.scale(X)\n",
    "X_forecast = X[-forecast_out:]\n",
    "df = df[:-forecast_out]\n",
    "#print(df)\n"
   ]
  },
  {
   "cell_type": "code",
   "execution_count": 6,
   "id": "a39ea285",
   "metadata": {},
   "outputs": [
    {
     "name": "stdout",
     "output_type": "stream",
     "text": [
      "7\n"
     ]
    }
   ],
   "source": [
    "features = X.shape[1]\n",
    "print( features)\n",
    "\n",
    "test_point = np.round(len(df)*0.1)\n",
    "test_index = int(len(df)-test_point)\n",
    "\n",
    "train = df.iloc[:test_index]\n",
    "test = df.iloc[test_index:]\n",
    "\n",
    "X_train, Y_train = train.iloc[:, :-1], pd.DataFrame(train.iloc[:, -1])\n",
    "X_test, Y_test = test.iloc[:, :-1], pd.DataFrame(test.iloc[:, -1])\n",
    "\n",
    "length = 1\n",
    "\n",
    "trainX = np.array([X_train], order='C')\n",
    "trainX.resize((X_train.shape[0], length, features))\n",
    "testX = np.array([X_test], order='C')\n",
    "testX.resize((X_test.shape[0], length, features))\n",
    "\n",
    "forecastX = np.array([X_forecast], order='C')\n",
    "forecastX.resize((X_forecast.shape[0], length, features))"
   ]
  },
  {
   "cell_type": "code",
   "execution_count": 7,
   "id": "64106541",
   "metadata": {},
   "outputs": [
    {
     "name": "stdout",
     "output_type": "stream",
     "text": [
      "Epoch 1/100\n",
      "434/434 [==============================] - 2s 2ms/step - loss: 0.2075 - val_loss: 6.4101e-05\n",
      "Epoch 2/100\n",
      "434/434 [==============================] - 1s 2ms/step - loss: 1.9685e-04 - val_loss: 6.6239e-05\n",
      "Epoch 3/100\n",
      "434/434 [==============================] - 1s 2ms/step - loss: 1.9680e-04 - val_loss: 6.4971e-05\n",
      "Epoch 4/100\n",
      "434/434 [==============================] - 1s 2ms/step - loss: 1.9294e-04 - val_loss: 7.8882e-05\n",
      "Epoch 5/100\n",
      "434/434 [==============================] - 1s 1ms/step - loss: 1.9346e-04 - val_loss: 7.3108e-05\n",
      "Epoch 6/100\n",
      "434/434 [==============================] - 1s 1ms/step - loss: 1.9465e-04 - val_loss: 6.6917e-05\n",
      "Epoch 6: early stopping\n"
     ]
    },
    {
     "data": {
      "text/plain": [
       "<keras.callbacks.History at 0x24fa6d79430>"
      ]
     },
     "execution_count": 7,
     "metadata": {},
     "output_type": "execute_result"
    }
   ],
   "source": [
    "# Training\n",
    "early_stop = EarlyStopping(monitor='val_loss', mode='min', verbose=1, patience=5)\n",
    "model = Sequential()\n",
    "model.add(LSTM(features, input_shape=(length,features), activation='relu'))\n",
    "model.add(Dense(1))\n",
    "model.compile(optimizer='Adam', loss='mse')\n",
    "model.fit(trainX, Y_train,\n",
    "          epochs=100,\n",
    "          batch_size=10, \n",
    "          validation_data=(testX, Y_test),\n",
    "          callbacks=[early_stop]\n",
    "          )"
   ]
  },
  {
   "cell_type": "code",
   "execution_count": 8,
   "id": "638a66ea",
   "metadata": {},
   "outputs": [
    {
     "data": {
      "text/plain": [
       "<AxesSubplot:>"
      ]
     },
     "execution_count": 8,
     "metadata": {},
     "output_type": "execute_result"
    },
    {
     "data": {
      "image/png": "[encoded data removed]",
      "text/plain": [
       "<Figure size 1008x576 with 1 Axes>"
      ]
     },
     "metadata": {
      "needs_background": "light"
     },
     "output_type": "display_data"
    }
   ],
   "source": [
    "loss = pd.DataFrame(model.history.history)\n",
    "loss.plot(figsize=(14,8))"
   ]
  },
  {
   "cell_type": "code",
   "execution_count": 9,
   "id": "afbd622d",
   "metadata": {},
   "outputs": [
    {
     "name": "stdout",
     "output_type": "stream",
     "text": [
      "16/16 [==============================] - 0s 1000us/step\n",
      "R2 Score is:  0.9730533259528523\n",
      "Mean Squared Error is:  6.691693723199093e-05\n",
      "Root Mean Squared Error is:  0.008180277332217469\n",
      "Mean Absolute Error is:  0.006354566423412172\n",
      "Mean Absolute Percentage Error is:  0.005508565052917939\n"
     ]
    }
   ],
   "source": [
    "#Testing\n",
    "testpredictions = model.predict(testX)\n",
    "print('R2 Score is: ', metrics.explained_variance_score(Y_test, testpredictions))\n",
    "print('Mean Squared Error is: ', metrics.mean_squared_error(Y_test, testpredictions))\n",
    "print('Root Mean Squared Error is: ', np.sqrt(metrics.mean_squared_error(Y_test, testpredictions)))\n",
    "print('Mean Absolute Error is: ', metrics.mean_absolute_error(Y_test, testpredictions))\n",
    "print('Mean Absolute Percentage Error is: ', metrics.mean_absolute_percentage_error(Y_test, testpredictions))"
   ]
  },
  {
   "cell_type": "code",
   "execution_count": 18,
   "id": "46c3af97",
   "metadata": {},
   "outputs": [
    {
     "name": "stdout",
     "output_type": "stream",
     "text": [
      "1/1 [==============================] - 0s 14ms/step\n",
      "1/1 [==============================] - 0s 14ms/step\n",
      "1/1 [==============================] - 0s 18ms/step\n",
      "1/1 [==============================] - 0s 14ms/step\n",
      "1/1 [==============================] - 0s 14ms/step\n",
      "1/1 [==============================] - 0s 14ms/step\n",
      "1/1 [==============================] - 0s 14ms/step\n",
      "1/1 [==============================] - 0s 14ms/step\n",
      "1/1 [==============================] - 0s 15ms/step\n",
      "1/1 [==============================] - 0s 15ms/step\n",
      "1/1 [==============================] - 0s 14ms/step\n",
      "1/1 [==============================] - 0s 14ms/step\n",
      "1/1 [==============================] - 0s 14ms/step\n",
      "1/1 [==============================] - 0s 15ms/step\n",
      "1/1 [==============================] - 0s 14ms/step\n",
      "1/1 [==============================] - 0s 15ms/step\n",
      "1/1 [==============================] - 0s 15ms/step\n",
      "1/1 [==============================] - 0s 15ms/step\n",
      "1/1 [==============================] - 0s 16ms/step\n",
      "1/1 [==============================] - 0s 27ms/step\n",
      "1/1 [==============================] - 0s 3ms/step\n",
      "1/1 [==============================] - 0s 27ms/step\n",
      "1/1 [==============================] - 0s 18ms/step\n",
      "1/1 [==============================] - 0s 17ms/step\n"
     ]
    }
   ],
   "source": [
    "forecast_prediction = []\n",
    "temp =  model.predict(forecastX)\n",
    "forecast_prediction.append(temp)\n",
    "features = np.roll(forecastX, -1)\n",
    "features[:, : , -1] = temp\n",
    "for i in range(23):\n",
    "    predicted_value = model.predict(features)\n",
    "    features = np.roll(features, -1)\n",
    "    features[:, :, -1] = predicted_value\n",
    "    forecast_prediction.append(predicted_value)"
   ]
  },
  {
   "cell_type": "code",
   "execution_count": 19,
   "id": "dea8be86",
   "metadata": {},
   "outputs": [
    {
     "data": {
      "text/plain": [
       "array([1.0566026, 1.0533179, 1.0526022, 1.0545611, 1.0538282, 1.0531849,\n",
       "       1.0549328, 1.0545993, 1.0545715, 1.0552104, 1.0552651, 1.0553613,\n",
       "       1.0558038, 1.0559348, 1.0561044, 1.0563967, 1.0565792, 1.056769 ,\n",
       "       1.057012 , 1.057204 , 1.0573995, 1.0576144, 1.0578088, 1.0580022],\n",
       "      dtype=float32)"
      ]
     },
     "execution_count": 19,
     "metadata": {},
     "output_type": "execute_result"
    }
   ],
   "source": [
    "forecast_prediction = np.asarray(forecast_prediction).reshape(-1)\n",
    "forecast_prediction"
   ]
  },
  {
   "cell_type": "code",
   "execution_count": 20,
   "id": "8c7c6a4c",
   "metadata": {},
   "outputs": [
    {
     "name": "stdout",
     "output_type": "stream",
     "text": [
      "Max = 1.0580022\n",
      "Min = 1.0526022\n"
     ]
    },
    {
     "data": {
      "text/plain": [
       "[<matplotlib.lines.Line2D at 0x24fa6d49670>]"
      ]
     },
     "execution_count": 20,
     "metadata": {},
     "output_type": "execute_result"
    },
    {
     "data": {
      "image/png": "[encoded data removed]",
      "text/plain": [
       "<Figure size 432x288 with 1 Axes>"
      ]
     },
     "metadata": {
      "needs_background": "light"
     },
     "output_type": "display_data"
    }
   ],
   "source": [
    "print('Max =',max(forecast_prediction))\n",
    "print('Min =',min(forecast_prediction))\n",
    "plt.axes([1, 2, 1.5 , 1.5])\n",
    "plt.plot(forecast_prediction)"
   ]
  },
  {
   "cell_type": "code",
   "execution_count": null,
   "id": "0134ff12",
   "metadata": {},
   "outputs": [],
   "source": []
  }
 ],
 "metadata": {
  "kernelspec": {
   "display_name": "Python 3 (ipykernel)",
   "language": "python",
   "name": "python3"
  },
  "language_info": {
   "codemirror_mode": {
    "name": "ipython",
    "version": 3
   },
   "file_extension": ".py",
   "mimetype": "text/x-python",
   "name": "python",
   "nbconvert_exporter": "python",
   "pygments_lexer": "ipython3",
   "version": "3.9.12"
  }
 },
 "nbformat": 4,
 "nbformat_minor": 5
}

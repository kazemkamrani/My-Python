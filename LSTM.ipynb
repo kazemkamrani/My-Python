{
 "cells": [
  {
   "cell_type": "code",
   "execution_count": 1,
   "id": "49ad4d15",
   "metadata": {},
   "outputs": [],
   "source": [
    "import pandas as pd \n",
    "import numpy as np\n",
    "import yfinance as yf\n",
    "yf.pdr_override()\n",
    "import matplotlib.pyplot as plt \n",
    "%matplotlib inline \n",
    "import seaborn as sns\n",
    "from tensorflow.keras.models import Sequential\n",
    "from tensorflow.keras.layers import Dense, SimpleRNN, LSTM, GRU\n",
    "from tensorflow.keras.callbacks import EarlyStopping\n",
    "from sklearn import preprocessing\n",
    "from sklearn.model_selection import train_test_split\n",
    "import mplfinance as mpf\n",
    "from sklearn import metrics"
   ]
  },
  {
   "cell_type": "code",
   "execution_count": 2,
   "id": "4ce93bbb",
   "metadata": {},
   "outputs": [
    {
     "name": "stdout",
     "output_type": "stream",
     "text": [
      "[*********************100%***********************]  1 of 1 completed\n"
     ]
    },
    {
     "name": "stderr",
     "output_type": "stream",
     "text": [
      "C:\\Users\\Kazem Kamrani\\AppData\\Local\\Temp\\ipykernel_16924\\2287746577.py:4: FutureWarning: In a future version of pandas all arguments of DataFrame.drop except for the argument 'labels' will be keyword-only.\n",
      "  df =df.drop(['Volume'],1)\n",
      "C:\\Users\\Kazem Kamrani\\AppData\\Local\\Temp\\ipykernel_16924\\2287746577.py:5: FutureWarning: In a future version of pandas all arguments of DataFrame.drop except for the argument 'labels' will be keyword-only.\n",
      "  df =df.drop(['Open'],1)\n",
      "C:\\Users\\Kazem Kamrani\\AppData\\Local\\Temp\\ipykernel_16924\\2287746577.py:6: FutureWarning: In a future version of pandas all arguments of DataFrame.drop except for the argument 'labels' will be keyword-only.\n",
      "  df =df.drop(['High'],1)\n",
      "C:\\Users\\Kazem Kamrani\\AppData\\Local\\Temp\\ipykernel_16924\\2287746577.py:7: FutureWarning: In a future version of pandas all arguments of DataFrame.drop except for the argument 'labels' will be keyword-only.\n",
      "  df =df.drop(['Low'],1)\n"
     ]
    }
   ],
   "source": [
    "df = yf.download(tickers = \"EURUSD=X\",period = \"2y\",interval = \"1h\",group_by = 'ticker',\n",
    "                 auto_adjust = True,prepost = True,threads = True,proxy = None)\n",
    "df = pd.DataFrame(df)\n",
    "df =df.drop(['Volume'],1)\n",
    "df =df.drop(['Open'],1)\n",
    "df =df.drop(['High'],1)\n",
    "df =df.drop(['Low'],1)\n",
    "\n",
    "#df = df[:-24]\n",
    "\n",
    "df['Close1'] = df['Close'].shift(-1)\n",
    "df['Close2'] = df['Close'].shift(-2)\n",
    "df['Close3'] = df['Close'].shift(-3)\n",
    "df['Close4'] = df['Close'].shift(-4)\n",
    "df['Close5'] = df['Close'].shift(-5)\n",
    "df['Close6'] = df['Close'].shift(-6)\n",
    "df['Close7'] = df['Close'].shift(-7)\n",
    "df['Close8'] = df['Close'].shift(-8)\n",
    "df['Close9'] = df['Close'].shift(-9)\n",
    "df['Close10'] = df['Close'].shift(-10)\n",
    "df['Close11'] = df['Close'].shift(-11)\n",
    "df['Close12'] = df['Close'].shift(-12)\n",
    "df['Close13'] = df['Close'].shift(-13)\n",
    "df['Close14'] = df['Close'].shift(-14)\n",
    "df['Close15'] = df['Close'].shift(-15)\n",
    "df['Close16'] = df['Close'].shift(-16)\n",
    "df['Close17'] = df['Close'].shift(-17)\n",
    "df['Close18'] = df['Close'].shift(-18)\n",
    "df['Close19'] = df['Close'].shift(-19)\n",
    "df['Close20'] = df['Close'].shift(-20)\n",
    "df['Close21'] = df['Close'].shift(-21)\n",
    "df['Close22'] = df['Close'].shift(-12)\n",
    "df['Close23'] = df['Close'].shift(-23)\n",
    "df['Close24'] = df['Close'].shift(-24)\n",
    "df['Close25'] = df['Close'].shift(-25)\n",
    "df['Close26'] = df['Close'].shift(-26)\n",
    "df['Close27'] = df['Close'].shift(-27)\n",
    "df['Close28'] = df['Close'].shift(-28)\n",
    "df['Close29'] = df['Close'].shift(-29)\n",
    "df['Close30'] = df['Close'].shift(-30)\n",
    "df['Close31'] = df['Close'].shift(-31)\n",
    "df['Close32'] = df['Close'].shift(-32)\n",
    "df['Close33'] = df['Close'].shift(-33)\n",
    "df['Close34'] = df['Close'].shift(-34)\n",
    "df['Close35'] = df['Close'].shift(-35)\n",
    "df['Close36'] = df['Close'].shift(-36)\n",
    "df['Close37'] = df['Close'].shift(-37)\n",
    "df['Close38'] = df['Close'].shift(-38)\n",
    "df['Close39'] = df['Close'].shift(-39)\n",
    "df['Close40'] = df['Close'].shift(-40)\n",
    "df['Close41'] = df['Close'].shift(-41)\n",
    "df['Close42'] = df['Close'].shift(-42)\n",
    "df['Close43'] = df['Close'].shift(-43)\n",
    "df['Close44'] = df['Close'].shift(-44)\n",
    "df['Close45'] = df['Close'].shift(-45)\n",
    "df['Close46'] = df['Close'].shift(-46)\n",
    "df['Close47'] = df['Close'].shift(-47)\n",
    "df['Close48'] = df['Close'].shift(-48)\n",
    "df['Close49'] = df['Close'].shift(-49)\n",
    "df['Close50'] = df['Close'].shift(-50)\n",
    "df['Close51'] = df['Close'].shift(-51)\n",
    "df['Close52'] = df['Close'].shift(-52)\n",
    "df['Close53'] = df['Close'].shift(-53)\n",
    "df['Close54'] = df['Close'].shift(-54)\n",
    "df['Close55'] = df['Close'].shift(-55)\n",
    "\n",
    "df = df[:-55]\n",
    "#print(df)"
   ]
  },
  {
   "cell_type": "code",
   "execution_count": 3,
   "id": "34eefffa",
   "metadata": {},
   "outputs": [
    {
     "name": "stderr",
     "output_type": "stream",
     "text": [
      "C:\\Users\\Kazem Kamrani\\AppData\\Local\\Temp\\ipykernel_16924\\4054200054.py:4: FutureWarning: In a future version of pandas all arguments of DataFrame.drop except for the argument 'labels' will be keyword-only.\n",
      "  X = np.array(df.drop(['PredictionClose'],1))\n"
     ]
    }
   ],
   "source": [
    "forecast_out = int(24)\n",
    "df['PredictionClose'] = df['Close55'].shift(-forecast_out)\n",
    "\n",
    "X = np.array(df.drop(['PredictionClose'],1))\n",
    "X = preprocessing.scale(X)\n",
    "\n",
    "X_forecast = X[-forecast_out:]\n",
    "X = X[:-forecast_out]\n",
    "\n",
    "Y = np.array(df['PredictionClose'])\n",
    "Y = Y[:-forecast_out]\n",
    "X_train, X_test, Y_train, Y_test = train_test_split(X, Y, test_size = 0.3)"
   ]
  },
  {
   "cell_type": "code",
   "execution_count": 4,
   "id": "0777fcad",
   "metadata": {},
   "outputs": [],
   "source": [
    "features = X.shape[1]\n",
    "\n",
    "test_point = np.round(len(df)*0.1)\n",
    "test_index = int(len(df)-test_point)\n",
    "\n",
    "train = df.iloc[:test_index]\n",
    "test = df.iloc[test_index:]\n",
    "\n",
    "X_train, Y_train = train.iloc[:, :-1], pd.DataFrame(train.iloc[:, -1])\n",
    "X_test, Y_test = test.iloc[:, :-1], pd.DataFrame(test.iloc[:, -1])\n",
    "\n",
    "length = 1\n",
    "\n",
    "trainX = np.array([X_train], order='C')\n",
    "trainX.resize((X_train.shape[0], length, features))\n",
    "testX = np.array([X_test], order='C')\n",
    "testX.resize((X_test.shape[0], length, features))"
   ]
  },
  {
   "cell_type": "markdown",
   "id": "2dc5a0d3",
   "metadata": {},
   "source": [
    "## Training"
   ]
  },
  {
   "cell_type": "code",
   "execution_count": 5,
   "id": "8e614f54",
   "metadata": {},
   "outputs": [
    {
     "name": "stdout",
     "output_type": "stream",
     "text": [
      "Epoch 1/100\n",
      "1110/1110 [==============================] - 4s 2ms/step - loss: 0.0084 - val_loss: nan\n",
      "Epoch 2/100\n",
      "1110/1110 [==============================] - 2s 2ms/step - loss: 8.8989e-05 - val_loss: nan\n",
      "Epoch 3/100\n",
      "1110/1110 [==============================] - 2s 2ms/step - loss: 5.1204e-05 - val_loss: nan\n",
      "Epoch 4/100\n",
      "1110/1110 [==============================] - 2s 2ms/step - loss: 6.2655e-05 - val_loss: nan\n",
      "Epoch 5/100\n",
      "1110/1110 [==============================] - 2s 2ms/step - loss: 6.3491e-05 - val_loss: nan\n",
      "Epoch 5: early stopping\n"
     ]
    },
    {
     "data": {
      "text/plain": [
       "<keras.callbacks.History at 0x1cc24a927c0>"
      ]
     },
     "execution_count": 5,
     "metadata": {},
     "output_type": "execute_result"
    }
   ],
   "source": [
    "early_stop = EarlyStopping(monitor='val_loss', mode='min', verbose=1, patience=5)\n",
    "model = Sequential()\n",
    "model.add(LSTM(features, input_shape=(length,features), activation='relu'))\n",
    "model.add(Dense(1))\n",
    "model.compile(optimizer='Adam', loss='mse')\n",
    "model.fit(trainX, Y_train,\n",
    "          epochs=100,\n",
    "          batch_size=10, \n",
    "          validation_data=(testX, Y_test),\n",
    "          callbacks=[early_stop]\n",
    "          )\n"
   ]
  },
  {
   "cell_type": "markdown",
   "id": "5e94611e",
   "metadata": {},
   "source": [
    "## Testing"
   ]
  },
  {
   "cell_type": "code",
   "execution_count": 6,
   "id": "189d2dc5",
   "metadata": {},
   "outputs": [
    {
     "data": {
      "text/plain": [
       "<AxesSubplot:>"
      ]
     },
     "execution_count": 6,
     "metadata": {},
     "output_type": "execute_result"
    },
    {
     "data": {
      "image/png": "[encoded data removed]",
      "text/plain": [
       "<Figure size 432x288 with 1 Axes>"
      ]
     },
     "metadata": {
      "needs_background": "light"
     },
     "output_type": "display_data"
    }
   ],
   "source": [
    "losses=pd.DataFrame(model.history.history)\n",
    "losses.plot()"
   ]
  },
  {
   "cell_type": "code",
   "execution_count": 7,
   "id": "5631aef5",
   "metadata": {},
   "outputs": [
    {
     "name": "stdout",
     "output_type": "stream",
     "text": [
      "347/347 [==============================] - 1s 1ms/step\n",
      "39/39 [==============================] - 0s 1ms/step\n"
     ]
    }
   ],
   "source": [
    "trainpredictions = model.predict(trainX)\n",
    "testpredictions = model.predict(testX)"
   ]
  },
  {
   "cell_type": "code",
   "execution_count": 10,
   "id": "d278053e",
   "metadata": {},
   "outputs": [
    {
     "name": "stdout",
     "output_type": "stream",
     "text": [
      "[[1.0618892]\n",
      " [1.0623161]\n",
      " [1.0618154]\n",
      " ...\n",
      " [1.0154141]\n",
      " [1.0149169]\n",
      " [1.0155017]]\n"
     ]
    }
   ],
   "source": [
    "print(testpredictions)"
   ]
  },
  {
   "cell_type": "code",
   "execution_count": 8,
   "id": "4b15ed51",
   "metadata": {},
   "outputs": [
    {
     "ename": "ValueError",
     "evalue": "Input contains NaN, infinity or a value too large for dtype('float64').",
     "output_type": "error",
     "traceback": [
      "\u001b[1;31m---------------------------------------------------------------------------\u001b[0m",
      "\u001b[1;31mValueError\u001b[0m                                Traceback (most recent call last)",
      "Input \u001b[1;32mIn [8]\u001b[0m, in \u001b[0;36m<cell line: 1>\u001b[1;34m()\u001b[0m\n\u001b[1;32m----> 1\u001b[0m \u001b[38;5;28mprint\u001b[39m(\u001b[38;5;124m'\u001b[39m\u001b[38;5;124mR2 Score is: \u001b[39m\u001b[38;5;124m'\u001b[39m, \u001b[43mmetrics\u001b[49m\u001b[38;5;241;43m.\u001b[39;49m\u001b[43mexplained_variance_score\u001b[49m\u001b[43m(\u001b[49m\u001b[43mY_test\u001b[49m\u001b[43m,\u001b[49m\u001b[43m \u001b[49m\u001b[43mtestpredictions\u001b[49m\u001b[43m)\u001b[49m)\n\u001b[0;32m      2\u001b[0m \u001b[38;5;28mprint\u001b[39m(\u001b[38;5;124m'\u001b[39m\u001b[38;5;124mRoot Mean Squared Error is: \u001b[39m\u001b[38;5;124m'\u001b[39m, np\u001b[38;5;241m.\u001b[39msqrt(metrics\u001b[38;5;241m.\u001b[39mmean_squared_error(Y_test, testpredictions)))\n\u001b[0;32m      3\u001b[0m \u001b[38;5;28mprint\u001b[39m(\u001b[38;5;124m'\u001b[39m\u001b[38;5;124mMean Absolute Error is: \u001b[39m\u001b[38;5;124m'\u001b[39m, metrics\u001b[38;5;241m.\u001b[39mmean_absolute_error(Y_test, testpredictions))\n",
      "File \u001b[1;32m~\\anaconda3\\lib\\site-packages\\sklearn\\metrics\\_regression.py:667\u001b[0m, in \u001b[0;36mexplained_variance_score\u001b[1;34m(y_true, y_pred, sample_weight, multioutput)\u001b[0m\n\u001b[0;32m    611\u001b[0m \u001b[38;5;28;01mdef\u001b[39;00m \u001b[38;5;21mexplained_variance_score\u001b[39m(\n\u001b[0;32m    612\u001b[0m     y_true, y_pred, \u001b[38;5;241m*\u001b[39m, sample_weight\u001b[38;5;241m=\u001b[39m\u001b[38;5;28;01mNone\u001b[39;00m, multioutput\u001b[38;5;241m=\u001b[39m\u001b[38;5;124m\"\u001b[39m\u001b[38;5;124muniform_average\u001b[39m\u001b[38;5;124m\"\u001b[39m\n\u001b[0;32m    613\u001b[0m ):\n\u001b[0;32m    614\u001b[0m     \u001b[38;5;124;03m\"\"\"Explained variance regression score function.\u001b[39;00m\n\u001b[0;32m    615\u001b[0m \n\u001b[0;32m    616\u001b[0m \u001b[38;5;124;03m    Best possible score is 1.0, lower values are worse.\u001b[39;00m\n\u001b[1;32m   (...)\u001b[0m\n\u001b[0;32m    665\u001b[0m \u001b[38;5;124;03m    0.983...\u001b[39;00m\n\u001b[0;32m    666\u001b[0m \u001b[38;5;124;03m    \"\"\"\u001b[39;00m\n\u001b[1;32m--> 667\u001b[0m     y_type, y_true, y_pred, multioutput \u001b[38;5;241m=\u001b[39m \u001b[43m_check_reg_targets\u001b[49m\u001b[43m(\u001b[49m\n\u001b[0;32m    668\u001b[0m \u001b[43m        \u001b[49m\u001b[43my_true\u001b[49m\u001b[43m,\u001b[49m\u001b[43m \u001b[49m\u001b[43my_pred\u001b[49m\u001b[43m,\u001b[49m\u001b[43m \u001b[49m\u001b[43mmultioutput\u001b[49m\n\u001b[0;32m    669\u001b[0m \u001b[43m    \u001b[49m\u001b[43m)\u001b[49m\n\u001b[0;32m    670\u001b[0m     check_consistent_length(y_true, y_pred, sample_weight)\n\u001b[0;32m    672\u001b[0m     y_diff_avg \u001b[38;5;241m=\u001b[39m np\u001b[38;5;241m.\u001b[39maverage(y_true \u001b[38;5;241m-\u001b[39m y_pred, weights\u001b[38;5;241m=\u001b[39msample_weight, axis\u001b[38;5;241m=\u001b[39m\u001b[38;5;241m0\u001b[39m)\n",
      "File \u001b[1;32m~\\anaconda3\\lib\\site-packages\\sklearn\\metrics\\_regression.py:95\u001b[0m, in \u001b[0;36m_check_reg_targets\u001b[1;34m(y_true, y_pred, multioutput, dtype)\u001b[0m\n\u001b[0;32m     61\u001b[0m \u001b[38;5;124;03m\"\"\"Check that y_true and y_pred belong to the same regression task.\u001b[39;00m\n\u001b[0;32m     62\u001b[0m \n\u001b[0;32m     63\u001b[0m \u001b[38;5;124;03mParameters\u001b[39;00m\n\u001b[1;32m   (...)\u001b[0m\n\u001b[0;32m     92\u001b[0m \u001b[38;5;124;03m    the dtype argument passed to check_array.\u001b[39;00m\n\u001b[0;32m     93\u001b[0m \u001b[38;5;124;03m\"\"\"\u001b[39;00m\n\u001b[0;32m     94\u001b[0m check_consistent_length(y_true, y_pred)\n\u001b[1;32m---> 95\u001b[0m y_true \u001b[38;5;241m=\u001b[39m \u001b[43mcheck_array\u001b[49m\u001b[43m(\u001b[49m\u001b[43my_true\u001b[49m\u001b[43m,\u001b[49m\u001b[43m \u001b[49m\u001b[43mensure_2d\u001b[49m\u001b[38;5;241;43m=\u001b[39;49m\u001b[38;5;28;43;01mFalse\u001b[39;49;00m\u001b[43m,\u001b[49m\u001b[43m \u001b[49m\u001b[43mdtype\u001b[49m\u001b[38;5;241;43m=\u001b[39;49m\u001b[43mdtype\u001b[49m\u001b[43m)\u001b[49m\n\u001b[0;32m     96\u001b[0m y_pred \u001b[38;5;241m=\u001b[39m check_array(y_pred, ensure_2d\u001b[38;5;241m=\u001b[39m\u001b[38;5;28;01mFalse\u001b[39;00m, dtype\u001b[38;5;241m=\u001b[39mdtype)\n\u001b[0;32m     98\u001b[0m \u001b[38;5;28;01mif\u001b[39;00m y_true\u001b[38;5;241m.\u001b[39mndim \u001b[38;5;241m==\u001b[39m \u001b[38;5;241m1\u001b[39m:\n",
      "File \u001b[1;32m~\\anaconda3\\lib\\site-packages\\sklearn\\utils\\validation.py:800\u001b[0m, in \u001b[0;36mcheck_array\u001b[1;34m(array, accept_sparse, accept_large_sparse, dtype, order, copy, force_all_finite, ensure_2d, allow_nd, ensure_min_samples, ensure_min_features, estimator)\u001b[0m\n\u001b[0;32m    794\u001b[0m         \u001b[38;5;28;01mraise\u001b[39;00m \u001b[38;5;167;01mValueError\u001b[39;00m(\n\u001b[0;32m    795\u001b[0m             \u001b[38;5;124m\"\u001b[39m\u001b[38;5;124mFound array with dim \u001b[39m\u001b[38;5;132;01m%d\u001b[39;00m\u001b[38;5;124m. \u001b[39m\u001b[38;5;132;01m%s\u001b[39;00m\u001b[38;5;124m expected <= 2.\u001b[39m\u001b[38;5;124m\"\u001b[39m\n\u001b[0;32m    796\u001b[0m             \u001b[38;5;241m%\u001b[39m (array\u001b[38;5;241m.\u001b[39mndim, estimator_name)\n\u001b[0;32m    797\u001b[0m         )\n\u001b[0;32m    799\u001b[0m     \u001b[38;5;28;01mif\u001b[39;00m force_all_finite:\n\u001b[1;32m--> 800\u001b[0m         \u001b[43m_assert_all_finite\u001b[49m\u001b[43m(\u001b[49m\u001b[43marray\u001b[49m\u001b[43m,\u001b[49m\u001b[43m \u001b[49m\u001b[43mallow_nan\u001b[49m\u001b[38;5;241;43m=\u001b[39;49m\u001b[43mforce_all_finite\u001b[49m\u001b[43m \u001b[49m\u001b[38;5;241;43m==\u001b[39;49m\u001b[43m \u001b[49m\u001b[38;5;124;43m\"\u001b[39;49m\u001b[38;5;124;43mallow-nan\u001b[39;49m\u001b[38;5;124;43m\"\u001b[39;49m\u001b[43m)\u001b[49m\n\u001b[0;32m    802\u001b[0m \u001b[38;5;28;01mif\u001b[39;00m ensure_min_samples \u001b[38;5;241m>\u001b[39m \u001b[38;5;241m0\u001b[39m:\n\u001b[0;32m    803\u001b[0m     n_samples \u001b[38;5;241m=\u001b[39m _num_samples(array)\n",
      "File \u001b[1;32m~\\anaconda3\\lib\\site-packages\\sklearn\\utils\\validation.py:114\u001b[0m, in \u001b[0;36m_assert_all_finite\u001b[1;34m(X, allow_nan, msg_dtype)\u001b[0m\n\u001b[0;32m    107\u001b[0m     \u001b[38;5;28;01mif\u001b[39;00m (\n\u001b[0;32m    108\u001b[0m         allow_nan\n\u001b[0;32m    109\u001b[0m         \u001b[38;5;129;01mand\u001b[39;00m np\u001b[38;5;241m.\u001b[39misinf(X)\u001b[38;5;241m.\u001b[39many()\n\u001b[0;32m    110\u001b[0m         \u001b[38;5;129;01mor\u001b[39;00m \u001b[38;5;129;01mnot\u001b[39;00m allow_nan\n\u001b[0;32m    111\u001b[0m         \u001b[38;5;129;01mand\u001b[39;00m \u001b[38;5;129;01mnot\u001b[39;00m np\u001b[38;5;241m.\u001b[39misfinite(X)\u001b[38;5;241m.\u001b[39mall()\n\u001b[0;32m    112\u001b[0m     ):\n\u001b[0;32m    113\u001b[0m         type_err \u001b[38;5;241m=\u001b[39m \u001b[38;5;124m\"\u001b[39m\u001b[38;5;124minfinity\u001b[39m\u001b[38;5;124m\"\u001b[39m \u001b[38;5;28;01mif\u001b[39;00m allow_nan \u001b[38;5;28;01melse\u001b[39;00m \u001b[38;5;124m\"\u001b[39m\u001b[38;5;124mNaN, infinity\u001b[39m\u001b[38;5;124m\"\u001b[39m\n\u001b[1;32m--> 114\u001b[0m         \u001b[38;5;28;01mraise\u001b[39;00m \u001b[38;5;167;01mValueError\u001b[39;00m(\n\u001b[0;32m    115\u001b[0m             msg_err\u001b[38;5;241m.\u001b[39mformat(\n\u001b[0;32m    116\u001b[0m                 type_err, msg_dtype \u001b[38;5;28;01mif\u001b[39;00m msg_dtype \u001b[38;5;129;01mis\u001b[39;00m \u001b[38;5;129;01mnot\u001b[39;00m \u001b[38;5;28;01mNone\u001b[39;00m \u001b[38;5;28;01melse\u001b[39;00m X\u001b[38;5;241m.\u001b[39mdtype\n\u001b[0;32m    117\u001b[0m             )\n\u001b[0;32m    118\u001b[0m         )\n\u001b[0;32m    119\u001b[0m \u001b[38;5;66;03m# for object dtype data, we only check for NaNs (GH-13254)\u001b[39;00m\n\u001b[0;32m    120\u001b[0m \u001b[38;5;28;01melif\u001b[39;00m X\u001b[38;5;241m.\u001b[39mdtype \u001b[38;5;241m==\u001b[39m np\u001b[38;5;241m.\u001b[39mdtype(\u001b[38;5;124m\"\u001b[39m\u001b[38;5;124mobject\u001b[39m\u001b[38;5;124m\"\u001b[39m) \u001b[38;5;129;01mand\u001b[39;00m \u001b[38;5;129;01mnot\u001b[39;00m allow_nan:\n",
      "\u001b[1;31mValueError\u001b[0m: Input contains NaN, infinity or a value too large for dtype('float64')."
     ]
    }
   ],
   "source": [
    "print('R2 Score is: ', metrics.explained_variance_score(Y_test, testpredictions))\n",
    "print('Root Mean Squared Error is: ', np.sqrt(metrics.mean_squared_error(Y_test, testpredictions)))\n",
    "print('Mean Absolute Error is: ', metrics.mean_absolute_error(Y_test, testpredictions))\n",
    "print('Total Percentage Error: ',(abs(Y.sum()-(trainpredictions.sum()+testpredictions.sum()))/Y.sum())*100, '%' )"
   ]
  },
  {
   "cell_type": "code",
   "execution_count": 12,
   "id": "18a11588",
   "metadata": {},
   "outputs": [],
   "source": [
    "forecastX = np.array([X_forecast], order='C')\n",
    "forecastX.resize((X_forecast.shape[0], length, features))"
   ]
  },
  {
   "cell_type": "code",
   "execution_count": 15,
   "id": "ed66a0fc",
   "metadata": {},
   "outputs": [
    {
     "name": "stdout",
     "output_type": "stream",
     "text": [
      "1/1 [==============================] - 0s 16ms/step\n",
      "[[-0.47561243]\n",
      " [-0.46959946]\n",
      " [-0.46254465]\n",
      " [-0.4667968 ]\n",
      " [-0.47270092]\n",
      " [-0.47065273]\n",
      " [-0.46388337]\n",
      " [-0.4660871 ]\n",
      " [-0.473856  ]\n",
      " [-0.4609859 ]\n",
      " [-0.46177873]\n",
      " [-0.44960707]\n",
      " [-0.45365646]\n",
      " [-0.45101395]\n",
      " [-0.4534978 ]\n",
      " [-0.46023405]\n",
      " [-0.47045955]\n",
      " [-0.4724022 ]\n",
      " [-0.47777042]\n",
      " [-0.47890696]\n",
      " [-0.48871228]\n",
      " [-0.4838886 ]\n",
      " [-0.47808167]\n",
      " [-0.47724167]]\n"
     ]
    }
   ],
   "source": [
    "forecast_prediction = model.predict(forecastX)\n",
    "print(forecast_prediction)"
   ]
  },
  {
   "cell_type": "code",
   "execution_count": null,
   "id": "474f5c87",
   "metadata": {},
   "outputs": [],
   "source": []
  }
 ],
 "metadata": {
  "kernelspec": {
   "display_name": "Python 3 (ipykernel)",
   "language": "python",
   "name": "python3"
  },
  "language_info": {
   "codemirror_mode": {
    "name": "ipython",
    "version": 3
   },
   "file_extension": ".py",
   "mimetype": "text/x-python",
   "name": "python",
   "nbconvert_exporter": "python",
   "pygments_lexer": "ipython3",
   "version": "3.9.12"
  }
 },
 "nbformat": 4,
 "nbformat_minor": 5
}

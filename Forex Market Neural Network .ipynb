{
 "cells": [
  {
   "cell_type": "markdown",
   "id": "1d8a7334",
   "metadata": {},
   "source": [
    "## Import Packages"
   ]
  },
  {
   "cell_type": "code",
   "execution_count": 1,
   "id": "b54abdac",
   "metadata": {},
   "outputs": [],
   "source": [
    "import pandas as pd \n",
    "import numpy as np\n",
    "import yfinance as yf\n",
    "yf.pdr_override()\n",
    "import matplotlib.pyplot as plt \n",
    "%matplotlib inline \n",
    "import seaborn as sns\n",
    "from tensorflow.keras.models import Sequential\n",
    "from tensorflow.keras.layers import Dense\n",
    "from tensorflow.keras.callbacks import EarlyStopping\n",
    "from sklearn import preprocessing\n",
    "from sklearn.model_selection import train_test_split\n",
    "import mplfinance as mpf\n",
    "from sklearn import metrics"
   ]
  },
  {
   "cell_type": "markdown",
   "id": "87a6a281",
   "metadata": {},
   "source": [
    "## Data Preparation"
   ]
  },
  {
   "cell_type": "code",
   "execution_count": 2,
   "id": "684a172d",
   "metadata": {},
   "outputs": [
    {
     "name": "stdout",
     "output_type": "stream",
     "text": [
      "[*********************100%***********************]  1 of 1 completed\n"
     ]
    }
   ],
   "source": [
    "df = yf.download(tickers = \"EURUSD=X\",period = \"3mo\",interval = \"1h\",group_by = 'ticker',\n",
    "                 auto_adjust = True,prepost = True,threads = True,proxy = None)"
   ]
  },
  {
   "cell_type": "code",
   "execution_count": 3,
   "id": "69b7c3e1",
   "metadata": {},
   "outputs": [
    {
     "name": "stdout",
     "output_type": "stream",
     "text": [
      "                               High       Low     Close\n",
      "2022-04-07 17:00:00+01:00  1.090156  1.088021  1.088258\n",
      "2022-04-07 18:00:00+01:00  1.089443  1.088021  1.088732\n",
      "2022-04-07 19:00:00+01:00  1.089562  1.087666  1.088139\n",
      "2022-04-07 20:00:00+01:00  1.088495  1.087193  1.087666\n",
      "2022-04-07 21:00:00+01:00  1.088732  1.087311  1.088376\n",
      "...                             ...       ...       ...\n",
      "2022-07-07 14:00:00+01:00  1.019576  1.016880  1.018952\n",
      "2022-07-07 15:00:00+01:00  1.018952  1.017294  1.017501\n",
      "2022-07-07 16:00:00+01:00  1.017812  1.015538  1.015847\n",
      "2022-07-07 17:00:00+01:00  1.016984  1.015435  1.016054\n",
      "2022-07-07 17:47:24+01:00  1.016157  1.016157  1.016157\n",
      "\n",
      "[1549 rows x 3 columns]\n"
     ]
    },
    {
     "name": "stderr",
     "output_type": "stream",
     "text": [
      "C:\\Users\\Kazem Kamrani\\AppData\\Local\\Temp\\ipykernel_10564\\3078821658.py:2: FutureWarning: In a future version of pandas all arguments of DataFrame.drop except for the argument 'labels' will be keyword-only.\n",
      "  df =df.drop(['Volume'],1)\n",
      "C:\\Users\\Kazem Kamrani\\AppData\\Local\\Temp\\ipykernel_10564\\3078821658.py:3: FutureWarning: In a future version of pandas all arguments of DataFrame.drop except for the argument 'labels' will be keyword-only.\n",
      "  df =df.drop(['Open'],1)\n"
     ]
    }
   ],
   "source": [
    "df = pd.DataFrame(df)\n",
    "df =df.drop(['Volume'],1)\n",
    "df =df.drop(['Open'],1)\n",
    "print(df)\n"
   ]
  },
  {
   "cell_type": "code",
   "execution_count": 4,
   "id": "e2ca4cb0",
   "metadata": {},
   "outputs": [
    {
     "name": "stdout",
     "output_type": "stream",
     "text": [
      "                               High       Low     Close     High1      Low1  \\\n",
      "2022-04-07 17:00:00+01:00  1.090156  1.088021  1.088258  1.089443  1.088021   \n",
      "2022-04-07 18:00:00+01:00  1.089443  1.088021  1.088732  1.089562  1.087666   \n",
      "2022-04-07 19:00:00+01:00  1.089562  1.087666  1.088139  1.088495  1.087193   \n",
      "2022-04-07 20:00:00+01:00  1.088495  1.087193  1.087666  1.088732  1.087311   \n",
      "2022-04-07 21:00:00+01:00  1.088732  1.087311  1.088376  1.088850  1.088139   \n",
      "...                             ...       ...       ...       ...       ...   \n",
      "2022-07-07 12:00:00+01:00  1.020200  1.018952  1.019368  1.019888  1.017398   \n",
      "2022-07-07 13:00:00+01:00  1.019888  1.017398  1.017501  1.019576  1.016880   \n",
      "2022-07-07 14:00:00+01:00  1.019576  1.016880  1.018952  1.018952  1.017294   \n",
      "2022-07-07 15:00:00+01:00  1.018952  1.017294  1.017501  1.017812  1.015538   \n",
      "2022-07-07 16:00:00+01:00  1.017812  1.015538  1.015847  1.016984  1.015435   \n",
      "\n",
      "                             Close1     High2      Low2    Close2  \n",
      "2022-04-07 17:00:00+01:00  1.088732  1.089562  1.087666  1.088139  \n",
      "2022-04-07 18:00:00+01:00  1.088139  1.088495  1.087193  1.087666  \n",
      "2022-04-07 19:00:00+01:00  1.087666  1.088732  1.087311  1.088376  \n",
      "2022-04-07 20:00:00+01:00  1.088376  1.088850  1.088139  1.088258  \n",
      "2022-04-07 21:00:00+01:00  1.088258  1.088969  1.087666  1.087784  \n",
      "...                             ...       ...       ...       ...  \n",
      "2022-07-07 12:00:00+01:00  1.017501  1.019576  1.016880  1.018952  \n",
      "2022-07-07 13:00:00+01:00  1.018952  1.018952  1.017294  1.017501  \n",
      "2022-07-07 14:00:00+01:00  1.017501  1.017812  1.015538  1.015847  \n",
      "2022-07-07 15:00:00+01:00  1.015847  1.016984  1.015435  1.016054  \n",
      "2022-07-07 16:00:00+01:00  1.016054  1.016157  1.016157  1.016157  \n",
      "\n",
      "[1547 rows x 9 columns]\n"
     ]
    }
   ],
   "source": [
    "#df['Open1'] = df['Open'].shift(-1)\n",
    "df['High1'] = df['High'].shift(-1)\n",
    "df['Low1'] = df['Low'].shift(-1)\n",
    "df['Close1'] = df['Close'].shift(-1)\n",
    "\n",
    "#df['Open2'] = df['Open'].shift(-2)\n",
    "df['High2'] = df['High'].shift(-2)\n",
    "df['Low2'] = df['Low'].shift(-2)\n",
    "df['Close2'] = df['Close'].shift(-2)\n",
    "\n",
    "\"\"\"\n",
    "df['Open3'] = df['Open'].shift(-3)\n",
    "df['High3'] = df['High'].shift(-3)\n",
    "df['Low3'] = df['Low'].shift(-3)\n",
    "df['Close3'] = df['Close'].shift(-3)\n",
    "\n",
    "df['Open4'] = df['Open'].shift(-4)\n",
    "df['High4'] = df['High'].shift(-4)\n",
    "df['Low4'] = df['Low'].shift(-4)\n",
    "df['Close4'] = df['Close'].shift(-4)\n",
    "\"\"\"\n",
    "\n",
    "df = df[:-2]\n",
    "print(df)"
   ]
  },
  {
   "cell_type": "code",
   "execution_count": 5,
   "id": "68e3dbfb",
   "metadata": {},
   "outputs": [
    {
     "name": "stdout",
     "output_type": "stream",
     "text": [
      "                               High       Low     Close     High1      Low1  \\\n",
      "2022-04-07 17:00:00+01:00  1.090156  1.088021  1.088258  1.089443  1.088021   \n",
      "2022-04-07 18:00:00+01:00  1.089443  1.088021  1.088732  1.089562  1.087666   \n",
      "2022-04-07 19:00:00+01:00  1.089562  1.087666  1.088139  1.088495  1.087193   \n",
      "2022-04-07 20:00:00+01:00  1.088495  1.087193  1.087666  1.088732  1.087311   \n",
      "2022-04-07 21:00:00+01:00  1.088732  1.087311  1.088376  1.088850  1.088139   \n",
      "...                             ...       ...       ...       ...       ...   \n",
      "2022-07-07 12:00:00+01:00  1.020200  1.018952  1.019368  1.019888  1.017398   \n",
      "2022-07-07 13:00:00+01:00  1.019888  1.017398  1.017501  1.019576  1.016880   \n",
      "2022-07-07 14:00:00+01:00  1.019576  1.016880  1.018952  1.018952  1.017294   \n",
      "2022-07-07 15:00:00+01:00  1.018952  1.017294  1.017501  1.017812  1.015538   \n",
      "2022-07-07 16:00:00+01:00  1.017812  1.015538  1.015847  1.016984  1.015435   \n",
      "\n",
      "                             Close1     High2      Low2    Close2  \\\n",
      "2022-04-07 17:00:00+01:00  1.088732  1.089562  1.087666  1.088139   \n",
      "2022-04-07 18:00:00+01:00  1.088139  1.088495  1.087193  1.087666   \n",
      "2022-04-07 19:00:00+01:00  1.087666  1.088732  1.087311  1.088376   \n",
      "2022-04-07 20:00:00+01:00  1.088376  1.088850  1.088139  1.088258   \n",
      "2022-04-07 21:00:00+01:00  1.088258  1.088969  1.087666  1.087784   \n",
      "...                             ...       ...       ...       ...   \n",
      "2022-07-07 12:00:00+01:00  1.017501  1.019576  1.016880  1.018952   \n",
      "2022-07-07 13:00:00+01:00  1.018952  1.018952  1.017294  1.017501   \n",
      "2022-07-07 14:00:00+01:00  1.017501  1.017812  1.015538  1.015847   \n",
      "2022-07-07 15:00:00+01:00  1.015847  1.016984  1.015435  1.016054   \n",
      "2022-07-07 16:00:00+01:00  1.016054  1.016157  1.016157  1.016157   \n",
      "\n",
      "                           PredictionClose  \n",
      "2022-04-07 17:00:00+01:00         1.088613  \n",
      "2022-04-07 18:00:00+01:00         1.087903  \n",
      "2022-04-07 19:00:00+01:00         1.087903  \n",
      "2022-04-07 20:00:00+01:00         1.087548  \n",
      "2022-04-07 21:00:00+01:00         1.088850  \n",
      "...                                    ...  \n",
      "2022-07-07 12:00:00+01:00              NaN  \n",
      "2022-07-07 13:00:00+01:00              NaN  \n",
      "2022-07-07 14:00:00+01:00              NaN  \n",
      "2022-07-07 15:00:00+01:00              NaN  \n",
      "2022-07-07 16:00:00+01:00              NaN  \n",
      "\n",
      "[1547 rows x 10 columns]\n"
     ]
    }
   ],
   "source": [
    "forecast_out = int(24)\n",
    "df['PredictionClose'] = df['Close2'].shift(-forecast_out)\n",
    "print(df)"
   ]
  },
  {
   "cell_type": "code",
   "execution_count": 6,
   "id": "d9cfd1a3",
   "metadata": {},
   "outputs": [
    {
     "name": "stderr",
     "output_type": "stream",
     "text": [
      "C:\\Users\\Kazem Kamrani\\AppData\\Local\\Temp\\ipykernel_10564\\3375762268.py:1: FutureWarning: In a future version of pandas all arguments of DataFrame.drop except for the argument 'labels' will be keyword-only.\n",
      "  X = np.array(df.drop(['PredictionClose'],1))\n"
     ]
    }
   ],
   "source": [
    "X = np.array(df.drop(['PredictionClose'],1))\n",
    "X = preprocessing.scale(X)\n",
    "X_forecast = X[-(forecast_out):]\n",
    "X = X[:-(forecast_out)]\n",
    "Y = np.array(df['PredictionClose'])\n",
    "Y = Y[:-(forecast_out)]\n",
    "X_train, X_test, Y_train, Y_test = train_test_split(X, Y, test_size = 0.2)"
   ]
  },
  {
   "cell_type": "markdown",
   "id": "3702464b",
   "metadata": {},
   "source": [
    "## Neural Network"
   ]
  },
  {
   "cell_type": "code",
   "execution_count": 7,
   "id": "f2673155",
   "metadata": {},
   "outputs": [
    {
     "name": "stdout",
     "output_type": "stream",
     "text": [
      "Epoch 1/1000\n",
      "5/5 [==============================] - 1s 44ms/step - loss: 0.8779 - val_loss: 0.6052\n",
      "Epoch 2/1000\n",
      "5/5 [==============================] - 0s 9ms/step - loss: 0.5135 - val_loss: 0.3633\n",
      "Epoch 3/1000\n",
      "5/5 [==============================] - 0s 8ms/step - loss: 0.3358 - val_loss: 0.2776\n",
      "Epoch 4/1000\n",
      "5/5 [==============================] - 0s 8ms/step - loss: 0.2741 - val_loss: 0.2435\n",
      "Epoch 5/1000\n",
      "5/5 [==============================] - 0s 8ms/step - loss: 0.2539 - val_loss: 0.2262\n",
      "Epoch 6/1000\n",
      "5/5 [==============================] - 0s 7ms/step - loss: 0.2432 - val_loss: 0.2110\n",
      "Epoch 7/1000\n",
      "5/5 [==============================] - 0s 10ms/step - loss: 0.2291 - val_loss: 0.1951\n",
      "Epoch 8/1000\n",
      "5/5 [==============================] - 0s 8ms/step - loss: 0.2108 - val_loss: 0.1783\n",
      "Epoch 9/1000\n",
      "5/5 [==============================] - 0s 7ms/step - loss: 0.1914 - val_loss: 0.1671\n",
      "Epoch 10/1000\n",
      "5/5 [==============================] - 0s 8ms/step - loss: 0.1760 - val_loss: 0.1545\n",
      "Epoch 11/1000\n",
      "5/5 [==============================] - 0s 8ms/step - loss: 0.1574 - val_loss: 0.1339\n",
      "Epoch 12/1000\n",
      "5/5 [==============================] - 0s 8ms/step - loss: 0.1398 - val_loss: 0.1186\n",
      "Epoch 13/1000\n",
      "5/5 [==============================] - 0s 9ms/step - loss: 0.1222 - val_loss: 0.1005\n",
      "Epoch 14/1000\n",
      "5/5 [==============================] - 0s 8ms/step - loss: 0.1030 - val_loss: 0.0839\n",
      "Epoch 15/1000\n",
      "5/5 [==============================] - 0s 8ms/step - loss: 0.0841 - val_loss: 0.0667\n",
      "Epoch 16/1000\n",
      "5/5 [==============================] - 0s 9ms/step - loss: 0.0664 - val_loss: 0.0511\n",
      "Epoch 17/1000\n",
      "5/5 [==============================] - 0s 7ms/step - loss: 0.0502 - val_loss: 0.0359\n",
      "Epoch 18/1000\n",
      "5/5 [==============================] - 0s 10ms/step - loss: 0.0348 - val_loss: 0.0246\n",
      "Epoch 19/1000\n",
      "5/5 [==============================] - 0s 9ms/step - loss: 0.0234 - val_loss: 0.0157\n",
      "Epoch 20/1000\n",
      "5/5 [==============================] - 0s 7ms/step - loss: 0.0147 - val_loss: 0.0090\n",
      "Epoch 21/1000\n",
      "5/5 [==============================] - 0s 9ms/step - loss: 0.0081 - val_loss: 0.0047\n",
      "Epoch 22/1000\n",
      "5/5 [==============================] - 0s 8ms/step - loss: 0.0046 - val_loss: 0.0035\n",
      "Epoch 23/1000\n",
      "5/5 [==============================] - 0s 8ms/step - loss: 0.0035 - val_loss: 0.0034\n",
      "Epoch 24/1000\n",
      "5/5 [==============================] - 0s 9ms/step - loss: 0.0034 - val_loss: 0.0032\n",
      "Epoch 25/1000\n",
      "5/5 [==============================] - 0s 8ms/step - loss: 0.0030 - val_loss: 0.0027\n",
      "Epoch 26/1000\n",
      "5/5 [==============================] - 0s 10ms/step - loss: 0.0026 - val_loss: 0.0022\n",
      "Epoch 27/1000\n",
      "5/5 [==============================] - 0s 8ms/step - loss: 0.0022 - val_loss: 0.0019\n",
      "Epoch 28/1000\n",
      "5/5 [==============================] - 0s 8ms/step - loss: 0.0020 - val_loss: 0.0018\n",
      "Epoch 29/1000\n",
      "5/5 [==============================] - 0s 9ms/step - loss: 0.0018 - val_loss: 0.0017\n",
      "Epoch 30/1000\n",
      "5/5 [==============================] - 0s 8ms/step - loss: 0.0017 - val_loss: 0.0016\n",
      "Epoch 31/1000\n",
      "5/5 [==============================] - 0s 8ms/step - loss: 0.0016 - val_loss: 0.0015\n",
      "Epoch 32/1000\n",
      "5/5 [==============================] - 0s 9ms/step - loss: 0.0014 - val_loss: 0.0014\n",
      "Epoch 33/1000\n",
      "5/5 [==============================] - 0s 8ms/step - loss: 0.0013 - val_loss: 0.0014\n",
      "Epoch 34/1000\n",
      "5/5 [==============================] - 0s 8ms/step - loss: 0.0013 - val_loss: 0.0013\n",
      "Epoch 35/1000\n",
      "5/5 [==============================] - 0s 11ms/step - loss: 0.0012 - val_loss: 0.0013\n",
      "Epoch 36/1000\n",
      "5/5 [==============================] - 0s 13ms/step - loss: 0.0012 - val_loss: 0.0013\n",
      "Epoch 37/1000\n",
      "5/5 [==============================] - 0s 7ms/step - loss: 0.0011 - val_loss: 0.0012\n",
      "Epoch 38/1000\n",
      "5/5 [==============================] - 0s 8ms/step - loss: 0.0011 - val_loss: 0.0012\n",
      "Epoch 39/1000\n",
      "5/5 [==============================] - 0s 9ms/step - loss: 0.0011 - val_loss: 0.0012\n",
      "Epoch 40/1000\n",
      "5/5 [==============================] - 0s 8ms/step - loss: 0.0010 - val_loss: 0.0012\n",
      "Epoch 41/1000\n",
      "5/5 [==============================] - 0s 8ms/step - loss: 0.0010 - val_loss: 0.0011\n",
      "Epoch 42/1000\n",
      "5/5 [==============================] - 0s 8ms/step - loss: 9.8052e-04 - val_loss: 0.0011\n",
      "Epoch 43/1000\n",
      "5/5 [==============================] - 0s 8ms/step - loss: 9.6684e-04 - val_loss: 0.0011\n",
      "Epoch 44/1000\n",
      "5/5 [==============================] - 0s 7ms/step - loss: 9.5318e-04 - val_loss: 0.0011\n",
      "Epoch 45/1000\n",
      "5/5 [==============================] - 0s 8ms/step - loss: 9.1813e-04 - val_loss: 0.0010\n",
      "Epoch 46/1000\n",
      "5/5 [==============================] - 0s 8ms/step - loss: 8.9038e-04 - val_loss: 0.0010\n",
      "Epoch 47/1000\n",
      "5/5 [==============================] - 0s 8ms/step - loss: 8.7072e-04 - val_loss: 9.9666e-04\n",
      "Epoch 48/1000\n",
      "5/5 [==============================] - 0s 9ms/step - loss: 8.5300e-04 - val_loss: 9.7535e-04\n",
      "Epoch 49/1000\n",
      "5/5 [==============================] - 0s 8ms/step - loss: 8.2461e-04 - val_loss: 9.5657e-04\n",
      "Epoch 50/1000\n",
      "5/5 [==============================] - 0s 8ms/step - loss: 8.0514e-04 - val_loss: 9.4023e-04\n",
      "Epoch 51/1000\n",
      "5/5 [==============================] - 0s 9ms/step - loss: 7.8581e-04 - val_loss: 9.2331e-04\n",
      "Epoch 52/1000\n",
      "5/5 [==============================] - 0s 8ms/step - loss: 7.7301e-04 - val_loss: 8.9435e-04\n",
      "Epoch 53/1000\n",
      "5/5 [==============================] - 0s 10ms/step - loss: 7.5910e-04 - val_loss: 8.9328e-04\n",
      "Epoch 54/1000\n",
      "5/5 [==============================] - 0s 8ms/step - loss: 7.4140e-04 - val_loss: 8.6196e-04\n",
      "Epoch 55/1000\n",
      "5/5 [==============================] - 0s 8ms/step - loss: 7.2164e-04 - val_loss: 8.4703e-04\n",
      "Epoch 56/1000\n",
      "5/5 [==============================] - 0s 7ms/step - loss: 7.0547e-04 - val_loss: 8.2699e-04\n",
      "Epoch 57/1000\n",
      "5/5 [==============================] - 0s 7ms/step - loss: 6.9233e-04 - val_loss: 8.1897e-04\n",
      "Epoch 58/1000\n",
      "5/5 [==============================] - 0s 7ms/step - loss: 6.7943e-04 - val_loss: 7.9421e-04\n",
      "Epoch 59/1000\n",
      "5/5 [==============================] - 0s 7ms/step - loss: 6.5833e-04 - val_loss: 7.8574e-04\n",
      "Epoch 60/1000\n",
      "5/5 [==============================] - 0s 8ms/step - loss: 6.4599e-04 - val_loss: 7.6170e-04\n",
      "Epoch 61/1000\n",
      "5/5 [==============================] - 0s 7ms/step - loss: 6.3531e-04 - val_loss: 7.5015e-04\n",
      "Epoch 62/1000\n",
      "5/5 [==============================] - 0s 7ms/step - loss: 6.2337e-04 - val_loss: 7.2790e-04\n",
      "Epoch 63/1000\n",
      "5/5 [==============================] - 0s 7ms/step - loss: 6.2340e-04 - val_loss: 7.4969e-04\n",
      "Epoch 64/1000\n",
      "5/5 [==============================] - 0s 7ms/step - loss: 6.0708e-04 - val_loss: 7.0555e-04\n",
      "Epoch 65/1000\n",
      "5/5 [==============================] - 0s 7ms/step - loss: 5.8629e-04 - val_loss: 7.1317e-04\n",
      "Epoch 66/1000\n",
      "5/5 [==============================] - 0s 7ms/step - loss: 5.7573e-04 - val_loss: 6.7475e-04\n",
      "Epoch 67/1000\n",
      "5/5 [==============================] - 0s 7ms/step - loss: 5.5934e-04 - val_loss: 6.6643e-04\n",
      "Epoch 68/1000\n",
      "5/5 [==============================] - 0s 7ms/step - loss: 5.4672e-04 - val_loss: 6.4592e-04\n",
      "Epoch 69/1000\n",
      "5/5 [==============================] - 0s 7ms/step - loss: 5.3922e-04 - val_loss: 6.3500e-04\n",
      "Epoch 70/1000\n",
      "5/5 [==============================] - 0s 7ms/step - loss: 5.2459e-04 - val_loss: 6.1811e-04\n",
      "Epoch 71/1000\n",
      "5/5 [==============================] - 0s 7ms/step - loss: 5.1509e-04 - val_loss: 6.0967e-04\n",
      "Epoch 72/1000\n",
      "5/5 [==============================] - 0s 7ms/step - loss: 5.0551e-04 - val_loss: 5.9525e-04\n",
      "Epoch 73/1000\n",
      "5/5 [==============================] - 0s 7ms/step - loss: 4.9481e-04 - val_loss: 5.9538e-04\n",
      "Epoch 74/1000\n",
      "5/5 [==============================] - 0s 7ms/step - loss: 4.9433e-04 - val_loss: 5.7415e-04\n",
      "Epoch 75/1000\n",
      "5/5 [==============================] - 0s 8ms/step - loss: 5.0026e-04 - val_loss: 5.5948e-04\n",
      "Epoch 76/1000\n",
      "5/5 [==============================] - 0s 7ms/step - loss: 4.8395e-04 - val_loss: 5.6235e-04\n",
      "Epoch 77/1000\n",
      "5/5 [==============================] - 0s 7ms/step - loss: 4.8516e-04 - val_loss: 5.3503e-04\n",
      "Epoch 78/1000\n",
      "5/5 [==============================] - 0s 7ms/step - loss: 4.7583e-04 - val_loss: 5.7159e-04\n",
      "Epoch 79/1000\n",
      "5/5 [==============================] - 0s 7ms/step - loss: 4.5705e-04 - val_loss: 5.1167e-04\n",
      "Epoch 80/1000\n",
      "5/5 [==============================] - 0s 7ms/step - loss: 4.3814e-04 - val_loss: 5.3984e-04\n"
     ]
    },
    {
     "name": "stdout",
     "output_type": "stream",
     "text": [
      "Epoch 81/1000\n",
      "5/5 [==============================] - 0s 7ms/step - loss: 4.3405e-04 - val_loss: 5.0401e-04\n",
      "Epoch 82/1000\n",
      "5/5 [==============================] - 0s 7ms/step - loss: 4.2239e-04 - val_loss: 5.3740e-04\n",
      "Epoch 83/1000\n",
      "5/5 [==============================] - 0s 7ms/step - loss: 4.0586e-04 - val_loss: 4.7626e-04\n",
      "Epoch 84/1000\n",
      "5/5 [==============================] - 0s 8ms/step - loss: 4.0236e-04 - val_loss: 4.9364e-04\n",
      "Epoch 85/1000\n",
      "5/5 [==============================] - 0s 7ms/step - loss: 3.9087e-04 - val_loss: 4.6304e-04\n",
      "Epoch 86/1000\n",
      "5/5 [==============================] - 0s 7ms/step - loss: 3.5195e-04 - val_loss: 4.1204e-04\n",
      "Epoch 87/1000\n",
      "5/5 [==============================] - 0s 7ms/step - loss: 3.3443e-04 - val_loss: 3.9146e-04\n",
      "Epoch 88/1000\n",
      "5/5 [==============================] - 0s 7ms/step - loss: 3.2864e-04 - val_loss: 3.8089e-04\n",
      "Epoch 89/1000\n",
      "5/5 [==============================] - 0s 7ms/step - loss: 3.1667e-04 - val_loss: 3.7623e-04\n",
      "Epoch 90/1000\n",
      "5/5 [==============================] - 0s 7ms/step - loss: 3.1363e-04 - val_loss: 3.7017e-04\n",
      "Epoch 91/1000\n",
      "5/5 [==============================] - 0s 7ms/step - loss: 3.0459e-04 - val_loss: 3.6172e-04\n",
      "Epoch 92/1000\n",
      "5/5 [==============================] - 0s 7ms/step - loss: 2.9646e-04 - val_loss: 3.5240e-04\n",
      "Epoch 93/1000\n",
      "5/5 [==============================] - 0s 7ms/step - loss: 2.9099e-04 - val_loss: 3.7680e-04\n",
      "Epoch 94/1000\n",
      "5/5 [==============================] - 0s 7ms/step - loss: 2.9626e-04 - val_loss: 3.3717e-04\n",
      "Epoch 95/1000\n",
      "5/5 [==============================] - 0s 7ms/step - loss: 2.8029e-04 - val_loss: 3.3274e-04\n",
      "Epoch 96/1000\n",
      "5/5 [==============================] - 0s 7ms/step - loss: 2.7481e-04 - val_loss: 3.4371e-04\n",
      "Epoch 97/1000\n",
      "5/5 [==============================] - 0s 7ms/step - loss: 2.7426e-04 - val_loss: 3.3816e-04\n",
      "Epoch 98/1000\n",
      "5/5 [==============================] - 0s 7ms/step - loss: 2.7254e-04 - val_loss: 3.1645e-04\n",
      "Epoch 99/1000\n",
      "5/5 [==============================] - 0s 6ms/step - loss: 2.6537e-04 - val_loss: 3.1372e-04\n",
      "Epoch 100/1000\n",
      "5/5 [==============================] - 0s 7ms/step - loss: 2.6339e-04 - val_loss: 3.0117e-04\n",
      "Epoch 101/1000\n",
      "5/5 [==============================] - 0s 7ms/step - loss: 2.5662e-04 - val_loss: 3.0015e-04\n",
      "Epoch 102/1000\n",
      "5/5 [==============================] - 0s 7ms/step - loss: 2.5185e-04 - val_loss: 3.1874e-04\n",
      "Epoch 103/1000\n",
      "5/5 [==============================] - 0s 7ms/step - loss: 2.5087e-04 - val_loss: 3.1140e-04\n",
      "Epoch 104/1000\n",
      "5/5 [==============================] - 0s 7ms/step - loss: 2.4963e-04 - val_loss: 2.8242e-04\n",
      "Epoch 105/1000\n",
      "5/5 [==============================] - 0s 7ms/step - loss: 2.5435e-04 - val_loss: 2.7416e-04\n",
      "Epoch 106/1000\n",
      "5/5 [==============================] - 0s 13ms/step - loss: 2.5460e-04 - val_loss: 3.2123e-04\n",
      "Epoch 107/1000\n",
      "5/5 [==============================] - 0s 7ms/step - loss: 2.3458e-04 - val_loss: 2.6766e-04\n",
      "Epoch 108/1000\n",
      "5/5 [==============================] - 0s 7ms/step - loss: 2.3286e-04 - val_loss: 2.6616e-04\n",
      "Epoch 109/1000\n",
      "5/5 [==============================] - 0s 7ms/step - loss: 2.3060e-04 - val_loss: 2.9608e-04\n",
      "Epoch 110/1000\n",
      "5/5 [==============================] - 0s 7ms/step - loss: 2.2824e-04 - val_loss: 2.5515e-04\n",
      "Epoch 111/1000\n",
      "5/5 [==============================] - 0s 7ms/step - loss: 2.2057e-04 - val_loss: 2.5016e-04\n",
      "Epoch 112/1000\n",
      "5/5 [==============================] - 0s 7ms/step - loss: 2.2595e-04 - val_loss: 3.3202e-04\n",
      "Epoch 113/1000\n",
      "5/5 [==============================] - 0s 7ms/step - loss: 2.4080e-04 - val_loss: 2.6346e-04\n",
      "Epoch 114/1000\n",
      "5/5 [==============================] - 0s 7ms/step - loss: 2.2060e-04 - val_loss: 2.4272e-04\n",
      "Epoch 115/1000\n",
      "5/5 [==============================] - 0s 7ms/step - loss: 2.1253e-04 - val_loss: 2.4408e-04\n",
      "Epoch 116/1000\n",
      "5/5 [==============================] - 0s 7ms/step - loss: 2.0823e-04 - val_loss: 2.6285e-04\n",
      "Epoch 117/1000\n",
      "5/5 [==============================] - 0s 7ms/step - loss: 2.0296e-04 - val_loss: 2.4700e-04\n",
      "Epoch 118/1000\n",
      "5/5 [==============================] - 0s 7ms/step - loss: 1.9692e-04 - val_loss: 2.3245e-04\n",
      "Epoch 119/1000\n",
      "5/5 [==============================] - 0s 7ms/step - loss: 1.9348e-04 - val_loss: 2.2889e-04\n",
      "Epoch 120/1000\n",
      "5/5 [==============================] - 0s 7ms/step - loss: 1.9259e-04 - val_loss: 2.2200e-04\n",
      "Epoch 121/1000\n",
      "5/5 [==============================] - 0s 7ms/step - loss: 1.8895e-04 - val_loss: 2.3978e-04\n",
      "Epoch 122/1000\n",
      "5/5 [==============================] - 0s 7ms/step - loss: 1.8743e-04 - val_loss: 2.1668e-04\n",
      "Epoch 123/1000\n",
      "5/5 [==============================] - 0s 7ms/step - loss: 1.8928e-04 - val_loss: 2.1589e-04\n",
      "Epoch 124/1000\n",
      "5/5 [==============================] - 0s 7ms/step - loss: 1.8432e-04 - val_loss: 2.4329e-04\n",
      "Epoch 125/1000\n",
      "5/5 [==============================] - 0s 8ms/step - loss: 1.8659e-04 - val_loss: 2.2181e-04\n",
      "Epoch 126/1000\n",
      "5/5 [==============================] - 0s 7ms/step - loss: 1.7873e-04 - val_loss: 2.0658e-04\n",
      "Epoch 127/1000\n",
      "5/5 [==============================] - 0s 7ms/step - loss: 1.7822e-04 - val_loss: 2.0438e-04\n",
      "Epoch 128/1000\n",
      "5/5 [==============================] - 0s 7ms/step - loss: 1.7650e-04 - val_loss: 2.0430e-04\n",
      "Epoch 129/1000\n",
      "5/5 [==============================] - 0s 7ms/step - loss: 1.7254e-04 - val_loss: 2.0451e-04\n",
      "Epoch 130/1000\n",
      "5/5 [==============================] - 0s 7ms/step - loss: 1.6873e-04 - val_loss: 2.0355e-04\n",
      "Epoch 131/1000\n",
      "5/5 [==============================] - 0s 7ms/step - loss: 1.6814e-04 - val_loss: 2.0884e-04\n",
      "Epoch 132/1000\n",
      "5/5 [==============================] - 0s 7ms/step - loss: 1.6752e-04 - val_loss: 2.0290e-04\n",
      "Epoch 133/1000\n",
      "5/5 [==============================] - 0s 7ms/step - loss: 1.6610e-04 - val_loss: 1.9645e-04\n",
      "Epoch 134/1000\n",
      "5/5 [==============================] - 0s 7ms/step - loss: 1.6655e-04 - val_loss: 1.9318e-04\n",
      "Epoch 135/1000\n",
      "5/5 [==============================] - 0s 8ms/step - loss: 1.6913e-04 - val_loss: 2.0604e-04\n",
      "Epoch 136/1000\n",
      "5/5 [==============================] - 0s 7ms/step - loss: 1.6615e-04 - val_loss: 1.9573e-04\n",
      "Epoch 137/1000\n",
      "5/5 [==============================] - 0s 7ms/step - loss: 1.6253e-04 - val_loss: 1.9353e-04\n",
      "Epoch 138/1000\n",
      "5/5 [==============================] - 0s 7ms/step - loss: 1.5680e-04 - val_loss: 1.8257e-04\n",
      "Epoch 139/1000\n",
      "5/5 [==============================] - 0s 6ms/step - loss: 1.5591e-04 - val_loss: 1.9166e-04\n",
      "Epoch 140/1000\n",
      "5/5 [==============================] - 0s 7ms/step - loss: 1.5827e-04 - val_loss: 1.9544e-04\n",
      "Epoch 141/1000\n",
      "5/5 [==============================] - 0s 7ms/step - loss: 1.5883e-04 - val_loss: 1.8008e-04\n",
      "Epoch 142/1000\n",
      "5/5 [==============================] - 0s 7ms/step - loss: 1.5242e-04 - val_loss: 1.7485e-04\n",
      "Epoch 143/1000\n",
      "5/5 [==============================] - 0s 7ms/step - loss: 1.5101e-04 - val_loss: 1.6805e-04\n",
      "Epoch 144/1000\n",
      "5/5 [==============================] - 0s 7ms/step - loss: 1.4713e-04 - val_loss: 1.7813e-04\n",
      "Epoch 145/1000\n",
      "5/5 [==============================] - 0s 7ms/step - loss: 1.4512e-04 - val_loss: 1.7136e-04\n",
      "Epoch 146/1000\n",
      "5/5 [==============================] - 0s 8ms/step - loss: 1.4322e-04 - val_loss: 1.5872e-04\n",
      "Epoch 147/1000\n",
      "5/5 [==============================] - 0s 7ms/step - loss: 1.4259e-04 - val_loss: 1.5587e-04\n",
      "Epoch 148/1000\n",
      "5/5 [==============================] - 0s 7ms/step - loss: 1.4023e-04 - val_loss: 1.6298e-04\n",
      "Epoch 149/1000\n",
      "5/5 [==============================] - 0s 8ms/step - loss: 1.4157e-04 - val_loss: 1.6045e-04\n",
      "Epoch 150/1000\n",
      "5/5 [==============================] - 0s 8ms/step - loss: 1.3962e-04 - val_loss: 1.6278e-04\n",
      "Epoch 151/1000\n",
      "5/5 [==============================] - 0s 8ms/step - loss: 1.3658e-04 - val_loss: 1.4957e-04\n",
      "Epoch 152/1000\n",
      "5/5 [==============================] - 0s 7ms/step - loss: 1.3716e-04 - val_loss: 1.5363e-04\n",
      "Epoch 153/1000\n",
      "5/5 [==============================] - 0s 7ms/step - loss: 1.3613e-04 - val_loss: 1.4918e-04\n",
      "Epoch 154/1000\n",
      "5/5 [==============================] - 0s 7ms/step - loss: 1.3001e-04 - val_loss: 1.4388e-04\n",
      "Epoch 155/1000\n",
      "5/5 [==============================] - 0s 7ms/step - loss: 1.2885e-04 - val_loss: 1.3688e-04\n",
      "Epoch 156/1000\n",
      "5/5 [==============================] - 0s 7ms/step - loss: 1.2409e-04 - val_loss: 1.3815e-04\n",
      "Epoch 157/1000\n"
     ]
    },
    {
     "name": "stdout",
     "output_type": "stream",
     "text": [
      "5/5 [==============================] - 0s 8ms/step - loss: 1.2336e-04 - val_loss: 1.3860e-04\n",
      "Epoch 158/1000\n",
      "5/5 [==============================] - 0s 7ms/step - loss: 1.2189e-04 - val_loss: 1.3299e-04\n",
      "Epoch 159/1000\n",
      "5/5 [==============================] - 0s 8ms/step - loss: 1.1882e-04 - val_loss: 1.3136e-04\n",
      "Epoch 160/1000\n",
      "5/5 [==============================] - 0s 7ms/step - loss: 1.1787e-04 - val_loss: 1.2592e-04\n",
      "Epoch 161/1000\n",
      "5/5 [==============================] - 0s 7ms/step - loss: 1.1599e-04 - val_loss: 1.4298e-04\n",
      "Epoch 162/1000\n",
      "5/5 [==============================] - 0s 7ms/step - loss: 1.2125e-04 - val_loss: 1.3636e-04\n",
      "Epoch 163/1000\n",
      "5/5 [==============================] - 0s 7ms/step - loss: 1.1888e-04 - val_loss: 1.3981e-04\n",
      "Epoch 164/1000\n",
      "5/5 [==============================] - 0s 7ms/step - loss: 1.1808e-04 - val_loss: 1.1890e-04\n",
      "Epoch 165/1000\n",
      "5/5 [==============================] - 0s 7ms/step - loss: 1.1536e-04 - val_loss: 1.2504e-04\n",
      "Epoch 166/1000\n",
      "5/5 [==============================] - 0s 7ms/step - loss: 1.1851e-04 - val_loss: 1.1931e-04\n",
      "Epoch 167/1000\n",
      "5/5 [==============================] - 0s 7ms/step - loss: 1.1346e-04 - val_loss: 1.1664e-04\n",
      "Epoch 168/1000\n",
      "5/5 [==============================] - 0s 7ms/step - loss: 1.1071e-04 - val_loss: 1.1322e-04\n",
      "Epoch 169/1000\n",
      "5/5 [==============================] - 0s 7ms/step - loss: 1.0893e-04 - val_loss: 1.1539e-04\n",
      "Epoch 170/1000\n",
      "5/5 [==============================] - 0s 7ms/step - loss: 1.0941e-04 - val_loss: 1.0996e-04\n",
      "Epoch 171/1000\n",
      "5/5 [==============================] - 0s 7ms/step - loss: 1.0746e-04 - val_loss: 1.0716e-04\n",
      "Epoch 172/1000\n",
      "5/5 [==============================] - 0s 7ms/step - loss: 1.0650e-04 - val_loss: 1.1082e-04\n",
      "Epoch 173/1000\n",
      "5/5 [==============================] - 0s 9ms/step - loss: 1.0574e-04 - val_loss: 1.0937e-04\n",
      "Epoch 174/1000\n",
      "5/5 [==============================] - 0s 7ms/step - loss: 1.0503e-04 - val_loss: 1.0800e-04\n",
      "Epoch 175/1000\n",
      "5/5 [==============================] - 0s 6ms/step - loss: 1.0251e-04 - val_loss: 1.2064e-04\n",
      "Epoch 176/1000\n",
      "5/5 [==============================] - 0s 7ms/step - loss: 1.0543e-04 - val_loss: 1.1054e-04\n",
      "Epoch 176: early stopping\n"
     ]
    },
    {
     "data": {
      "text/plain": [
       "<keras.callbacks.History at 0x251a4b91910>"
      ]
     },
     "execution_count": 7,
     "metadata": {},
     "output_type": "execute_result"
    }
   ],
   "source": [
    "# Training\n",
    "Neurons = 24\n",
    "model = Sequential()\n",
    "model.add(Dense(Neurons,activation='relu')) # Input Layer \n",
    "model.add(Dense(Neurons,activation='relu'))       \n",
    "model.add(Dense(Neurons,activation='relu')) \n",
    "model.add(Dense(1)) # Output Layer\n",
    "model.compile(optimizer='Adam', loss='mse')\n",
    "early_stop = EarlyStopping(monitor='val_loss', mode='min', verbose= 1, patience= 5)\n",
    "model.fit(x = X_train, y = Y_train,\n",
    "          validation_data=(X_test, Y_test),\n",
    "          batch_size= 256,\n",
    "          epochs= 1000,\n",
    "          callbacks=[early_stop]\n",
    "          )"
   ]
  },
  {
   "cell_type": "code",
   "execution_count": 8,
   "id": "3186e8eb",
   "metadata": {},
   "outputs": [
    {
     "data": {
      "text/plain": [
       "<AxesSubplot:>"
      ]
     },
     "execution_count": 8,
     "metadata": {},
     "output_type": "execute_result"
    },
    {
     "data": {
      "image/png": "[encoded data removed]",
      "text/plain": [
       "<Figure size 1008x576 with 1 Axes>"
      ]
     },
     "metadata": {
      "needs_background": "light"
     },
     "output_type": "display_data"
    }
   ],
   "source": [
    "loss = pd.DataFrame(model.history.history)\n",
    "loss.plot(figsize=(14,8))"
   ]
  },
  {
   "cell_type": "code",
   "execution_count": 9,
   "id": "21959f59",
   "metadata": {},
   "outputs": [
    {
     "name": "stdout",
     "output_type": "stream",
     "text": [
      "10/10 [==============================] - 0s 1ms/step\n",
      "R2 Score is:  0.5866153310073943\n",
      "Mean Squared Error is:  0.0001105374228397996\n",
      "Root Mean Squared Error is:  0.010513677893097144\n",
      "Mean Absolute Error is:  0.007632479511323523\n",
      "Mean Absolute Percentage Error is:  0.007215535579454357\n"
     ]
    }
   ],
   "source": [
    "#Testing\n",
    "testpredictions = model.predict(X_test)\n",
    "print('R2 Score is: ', metrics.explained_variance_score(Y_test, testpredictions))\n",
    "print('Mean Squared Error is: ', metrics.mean_squared_error(Y_test, testpredictions))\n",
    "print('Root Mean Squared Error is: ', np.sqrt(metrics.mean_squared_error(Y_test, testpredictions)))\n",
    "print('Mean Absolute Error is: ', metrics.mean_absolute_error(Y_test, testpredictions))\n",
    "print('Mean Absolute Percentage Error is: ', metrics.mean_absolute_percentage_error(Y_test, testpredictions))"
   ]
  },
  {
   "cell_type": "code",
   "execution_count": 10,
   "id": "9cbb011e",
   "metadata": {},
   "outputs": [
    {
     "name": "stdout",
     "output_type": "stream",
     "text": [
      "[[-2.76493866 -2.70169341 -2.72542999 -2.68562419 -2.66220045 -2.63346269\n",
      "  -2.63228184 -2.64899767 -2.65903553]\n",
      " [-2.69274906 -2.66921282 -2.64059456 -2.63967723 -2.65570677 -2.66606172\n",
      "  -2.68470602 -2.62306012 -2.62648641]\n",
      " [-2.64673138 -2.66270922 -2.67324551 -2.69218912 -2.62973204 -2.63346269\n",
      "  -2.68470602 -2.59710018 -2.63951055]\n",
      " [-2.69932409 -2.63669481 -2.64059456 -2.69218912 -2.60373489 -2.6465068\n",
      "  -2.67160561 -2.61008388 -2.63951055]\n",
      " [-2.69932409 -2.61065795 -2.65365944 -2.6790668  -2.6167372  -2.6465068\n",
      "  -2.67160561 -2.62306012 -2.6199706 ]\n",
      " [-2.68618157 -2.62368012 -2.65365944 -2.6790668  -2.62973204 -2.62693689\n",
      "  -2.67160561 -2.59710018 -2.63299474]\n",
      " [-2.68618157 -2.63669481 -2.63405837 -2.6790668  -2.60373489 -2.639981\n",
      "  -2.66505917 -2.62306012 -2.6134548 ]\n",
      " [-2.68618157 -2.61065795 -2.64712325 -2.6725094  -2.62973204 -2.62041109\n",
      "  -2.67160561 -2.59710018 -2.63299474]\n",
      " [-2.67961408 -2.63669481 -2.62752218 -2.6790668  -2.60373489 -2.639981\n",
      "  -2.56006048 -2.57112532 -2.50901485]\n",
      " [-2.68618157 -2.61065795 -2.64712325 -2.56733505 -2.5777228  -2.51581098\n",
      "  -2.56006048 -2.48002304 -2.5155531 ]\n",
      " [-2.57427787 -2.58460612 -2.5227555  -2.56733505 -2.48648992 -2.52235926\n",
      "  -2.56006048 -2.48653727 -2.52862212]\n",
      " [-2.57427787 -2.49323388 -2.5293142  -2.56733505 -2.49301349 -2.53544832\n",
      "  -2.48767376 -2.4735088  -2.41734469]\n",
      " [-2.57427787 -2.49976742 -2.54242411 -2.49482724 -2.47996635 -2.42400025\n",
      "  -2.51401738 -2.4735088  -2.52862212]\n",
      " [-2.50165847 -2.48670034 -2.43079856 -2.52121493 -2.47996635 -2.53544832\n",
      "  -2.58634397 -2.59060833 -2.59389989]\n",
      " [-2.52808677 -2.48670034 -2.54242411 -2.59366252 -2.59723373 -2.6008262\n",
      "  -2.53375443 -2.57112532 -2.60693151]\n",
      " [-2.60064585 -2.60414687 -2.6079061  -2.540985   -2.5777228  -2.6138778\n",
      "  -2.54691497 -2.61657573 -2.47630864]\n",
      " [-2.54788727 -2.58460612 -2.62097848 -2.55416755 -2.62323835 -2.48305462\n",
      "  -2.50084933 -2.5581267  -2.60693151]\n",
      " [-2.56109011 -2.63019121 -2.48994697 -2.50802485 -2.56470554 -2.6138778\n",
      "  -2.6125974  -2.56462601 -2.59389989]\n",
      " [-2.51487639 -2.57156898 -2.62097848 -2.61995987 -2.57121417 -2.6008262\n",
      "  -2.63228184 -2.66195898 -2.71105726]\n",
      " [-2.62698367 -2.57808755 -2.6079061  -2.63967723 -2.66868666 -2.71816322\n",
      "  -2.65195124 -2.69433615 -2.6199706 ]\n",
      " [-2.64673138 -2.67570894 -2.72542999 -2.65937954 -2.70111024 -2.62693689\n",
      "  -2.69125247 -2.66843591 -2.71105726]\n",
      " [-2.66646402 -2.70818204 -2.63405837 -2.69874652 -2.67517287 -2.71816322\n",
      "  -2.76318071 -2.77837202 -2.81483889]\n",
      " [-2.70589158 -2.68220506 -2.72542999 -2.77079509 -2.78526657 -2.82210401\n",
      "  -2.81538693 -2.78482656 -2.80188208]\n",
      " [-2.77805102 -2.79246693 -2.82953629 -2.82308864 -2.79173036 -2.80912733\n",
      "  -2.86751048 -2.73961493 -2.79540368]]\n"
     ]
    }
   ],
   "source": [
    "print(X_forecast)"
   ]
  },
  {
   "cell_type": "code",
   "execution_count": 11,
   "id": "1d2540b9",
   "metadata": {},
   "outputs": [
    {
     "name": "stdout",
     "output_type": "stream",
     "text": [
      "1/1 [==============================] - 0s 15ms/step\n",
      "[[1.0240405]\n",
      " [1.0291048]\n",
      " [1.0145872]\n",
      " [1.019113 ]\n",
      " [1.0141857]\n",
      " [1.0132947]\n",
      " [1.0213681]\n",
      " [1.0109626]\n",
      " [1.052429 ]\n",
      " [1.0120646]\n",
      " [1.0242075]\n",
      " [1.0378841]\n",
      " [0.9947318]\n",
      " [1.0183065]\n",
      " [1.0369025]\n",
      " [1.0370826]\n",
      " [1.0234079]\n",
      " [1.0467662]\n",
      " [1.0138795]\n",
      " [1.0425416]\n",
      " [1.0185875]\n",
      " [1.0244775]\n",
      " [1.0258596]\n",
      " [1.0271548]]\n"
     ]
    }
   ],
   "source": [
    "forecast_prediction = model.predict(X_forecast)\n",
    "print(forecast_prediction)"
   ]
  },
  {
   "cell_type": "code",
   "execution_count": 12,
   "id": "8bfa734b",
   "metadata": {},
   "outputs": [
    {
     "data": {
      "text/plain": [
       "[<matplotlib.lines.Line2D at 0x251a68670a0>]"
      ]
     },
     "execution_count": 12,
     "metadata": {},
     "output_type": "execute_result"
    },
    {
     "data": {
      "image/png": "[encoded data removed]",
      "text/plain": [
       "<Figure size 432x288 with 1 Axes>"
      ]
     },
     "metadata": {
      "needs_background": "light"
     },
     "output_type": "display_data"
    }
   ],
   "source": [
    "plt.axes([1, 2, 1.5 , 1.5])\n",
    "plt.plot(forecast_prediction)"
   ]
  },
  {
   "cell_type": "code",
   "execution_count": 13,
   "id": "ce443d57",
   "metadata": {},
   "outputs": [
    {
     "data": {
      "text/plain": [
       "[<matplotlib.lines.Line2D at 0x251a6a392b0>]"
      ]
     },
     "execution_count": 13,
     "metadata": {},
     "output_type": "execute_result"
    },
    {
     "data": {
      "image/png": "[encoded data removed]",
      "text/plain": [
       "<Figure size 432x288 with 1 Axes>"
      ]
     },
     "metadata": {
      "needs_background": "light"
     },
     "output_type": "display_data"
    }
   ],
   "source": [
    "plt.axes([1, 1.5, 1.5 , 1.5])\n",
    "plt.scatter(Y_test, testpredictions,s=20)\n",
    "plt.plot(Y_test, Y_test, 'b')"
   ]
  },
  {
   "cell_type": "code",
   "execution_count": 14,
   "id": "5c4965cd",
   "metadata": {},
   "outputs": [
    {
     "name": "stderr",
     "output_type": "stream",
     "text": [
      "C:\\Users\\Kazem Kamrani\\anaconda3\\lib\\site-packages\\seaborn\\distributions.py:2619: FutureWarning: `distplot` is a deprecated function and will be removed in a future version. Please adapt your code to use either `displot` (a figure-level function with similar flexibility) or `histplot` (an axes-level function for histograms).\n",
      "  warnings.warn(msg, FutureWarning)\n"
     ]
    },
    {
     "data": {
      "text/plain": [
       "<Axes:ylabel='Density'>"
      ]
     },
     "execution_count": 14,
     "metadata": {},
     "output_type": "execute_result"
    },
    {
     "data": {
      "image/png": "[encoded data removed]",
      "text/plain": [
       "<Figure size 432x288 with 1 Axes>"
      ]
     },
     "metadata": {
      "needs_background": "light"
     },
     "output_type": "display_data"
    }
   ],
   "source": [
    "plt.axes([1, 2, 1.5 , 1.5])\n",
    "sns.distplot(Y_test-testpredictions, kde=True, kde_kws={'color':'b'}, bins=50)"
   ]
  },
  {
   "cell_type": "code",
   "execution_count": null,
   "id": "122d27bb",
   "metadata": {},
   "outputs": [],
   "source": []
  }
 ],
 "metadata": {
  "kernelspec": {
   "display_name": "Python 3 (ipykernel)",
   "language": "python",
   "name": "python3"
  },
  "language_info": {
   "codemirror_mode": {
    "name": "ipython",
    "version": 3
   },
   "file_extension": ".py",
   "mimetype": "text/x-python",
   "name": "python",
   "nbconvert_exporter": "python",
   "pygments_lexer": "ipython3",
   "version": "3.9.12"
  }
 },
 "nbformat": 4,
 "nbformat_minor": 5
}

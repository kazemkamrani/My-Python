{
 "cells": [
  {
   "cell_type": "code",
   "execution_count": null,
   "id": "5e9678cd",
   "metadata": {},
   "outputs": [],
   "source": [
    "import pandas as pd\n",
    "import numpy as np\n",
    "import matplotlib.pyplot as plt\n",
    "from statsmodels.tsa.arima.model import ARIMA\n",
    "import yfinance as yf\n",
    "from pandas_datareader import data as pdr \n",
    "from statsmodels.tsa.stattools import adfuller\n",
    "import pmdarima as pm "
   ]
  },
  {
   "cell_type": "code",
   "execution_count": null,
   "id": "0fff0995",
   "metadata": {},
   "outputs": [],
   "source": [
    "df = pdr.get_data_yahoo('EURUSD=X',start = '2010-01-01')\n",
    "df['Ret'] = df['Close'].diff()\n",
    "df['LogClose'] = np.log(df['Close'])\n",
    "df['LogRet'] = df['LogClose'].diff()"
   ]
  },
  {
   "cell_type": "code",
   "execution_count": null,
   "id": "50427dad",
   "metadata": {},
   "outputs": [],
   "source": [
    "def adf(x):\n",
    "    res = adfuller(x)\n",
    "    print(\"Test-Statistic:\", res[0])\n",
    "    print(\"P-Value:\", res[1])\n",
    "    if res [1] < 0.05:\n",
    "        print(\"Stationary\")\n",
    "    else:\n",
    "        print(\"Non-Stationary\")"
   ]
  },
  {
   "cell_type": "code",
   "execution_count": null,
   "id": "9ebc13be",
   "metadata": {},
   "outputs": [],
   "source": [
    "EURUSD = df['Close']\n",
    "Ntest = 12\n",
    "train = EURUSD.iloc[:-Ntest]\n",
    "test = EURUSD.iloc[-Ntest:]"
   ]
  },
  {
   "cell_type": "code",
   "execution_count": null,
   "id": "6ca0c5d3",
   "metadata": {},
   "outputs": [],
   "source": [
    "test"
   ]
  },
  {
   "cell_type": "code",
   "execution_count": null,
   "id": "152f725a",
   "metadata": {},
   "outputs": [],
   "source": [
    "model = pm.auto_arima(train,\n",
    "                     error_action='ignore',trace=True,\n",
    "                     suppress_warnings=True, maxiter=10,\n",
    "                     seasonal=False)"
   ]
  },
  {
   "cell_type": "code",
   "execution_count": null,
   "id": "f5633d85",
   "metadata": {},
   "outputs": [],
   "source": [
    "model.summary()"
   ]
  },
  {
   "cell_type": "code",
   "execution_count": null,
   "id": "bfb963e7",
   "metadata": {},
   "outputs": [],
   "source": [
    "def plot_result(model,fulldata,train,test):\n",
    "    params = model.get_params()\n",
    "    d = params['order'][1]\n",
    "    \n",
    "    train_pred = model.predict_in_sample(start=d, end=-1)\n",
    "    test_pred, confint = model.predict(n_periods=Ntest, return_conf_int=True)\n",
    "    \n",
    "    fig, ax = plt.subplots(figsize=(10,5))\n",
    "    ax.plot(fulldata.index,fulldata, label = 'data')\n",
    "    ax.plot(train.index[d:],train_pred, label = 'fitted')\n",
    "    ax.plot(test.index, test_pred, label = 'forecast')\n",
    "    ax.fill_between(test.index, \\\n",
    "                   confint[:,0], confint[:,1], \\\n",
    "                   color='red', alpha=0.3)\n",
    "    ax.legend();"
   ]
  },
  {
   "cell_type": "code",
   "execution_count": null,
   "id": "c2ec3c9a",
   "metadata": {},
   "outputs": [],
   "source": [
    "plot_result(model,EURUSD, train, test )"
   ]
  },
  {
   "cell_type": "code",
   "execution_count": null,
   "id": "5eb9df17",
   "metadata": {},
   "outputs": [],
   "source": [
    "def plot_test(model,test):\n",
    "    test_pred, confint = model.predict(n_periods=Ntest, return_conf_int=True)\n",
    "    \n",
    "    fig, ax = plt.subplots(figsize=(10,10))\n",
    "    ax.plot(test.index, test, label='data')\n",
    "    ax.plot(test.index, test_pred, label='forecast')\n",
    "    ax.fill_between(test.index, \\\n",
    "                   confint[:,0], confint[:,1], \\\n",
    "                   color='red', alpha=0.3)\n",
    "    ax.legend();"
   ]
  },
  {
   "cell_type": "code",
   "execution_count": null,
   "id": "e1988c97",
   "metadata": {},
   "outputs": [],
   "source": [
    "plot_test(model, test)"
   ]
  },
  {
   "cell_type": "code",
   "execution_count": null,
   "id": "6ed78668",
   "metadata": {},
   "outputs": [],
   "source": [
    "armia = ARIMA(train, order=(1,1,0))"
   ]
  },
  {
   "cell_type": "code",
   "execution_count": null,
   "id": "105c531a",
   "metadata": {},
   "outputs": [],
   "source": [
    "arima_result = armia.fit()\n",
    "prediction_result = arima_result.get_forecast(Ntest)\n",
    "forecast = prediction_result.predicted_mean"
   ]
  },
  {
   "cell_type": "code",
   "execution_count": null,
   "id": "f146201b",
   "metadata": {},
   "outputs": [],
   "source": [
    "prediction_result.conf_int()"
   ]
  },
  {
   "cell_type": "code",
   "execution_count": null,
   "id": "ab6b8e77",
   "metadata": {},
   "outputs": [],
   "source": [
    "train_idx = df.index <= train.index[-1]\n",
    "test_idx = df.index > train.index[-1]\n",
    "\n",
    "def plot_fit_and_forecast(result):\n",
    "    fig, ax = plt.subplots(figsize=(15,5))\n",
    "    ax.plot(df['Close'], label='data')\n",
    "    \n",
    "    #plot the curve fitted on train set \n",
    "    train_pred = result.fittedvalues\n",
    "    ax.plot(train.index, train_pred, color='green', label='fitted')\n",
    "    \n",
    "    # forecast the test set \n",
    "    prediction_result = result.get_forecast(Ntest)\n",
    "    conf_int = prediction_result.conf_int()\n",
    "    lower, upper = conf_int['lower Close'], conf_int['lower Close']\n",
    "    forecast = prediction_result.predicted_mean \n",
    "    ax.plot(test.index, forecast, label='forecast')\n",
    "    ax.fill_between(test.index, \\\n",
    "                    lower, upper, \\\n",
    "                    color='red', alpha=0.3)\n",
    "    ax.legend()"
   ]
  },
  {
   "cell_type": "code",
   "execution_count": null,
   "id": "111145ce",
   "metadata": {},
   "outputs": [],
   "source": [
    "plot_fit_and_forecast(arima_result)"
   ]
  },
  {
   "cell_type": "code",
   "execution_count": null,
   "id": "aedb26a8",
   "metadata": {},
   "outputs": [],
   "source": [
    "def plot_forecast(result):\n",
    "    fig, ax = plt.subplots(figsize=(15,5))\n",
    "   # ax.plot(df['Close'], label='data')\n",
    "    \n",
    "    \n",
    "    # forecast the test set \n",
    "    prediction_result = result.get_forecast(Ntest)\n",
    "    conf_int = prediction_result.conf_int()\n",
    "    lower, upper = conf_int['lower Close'], conf_int['lower Close']\n",
    "    forecast = prediction_result.predicted_mean \n",
    "    ax.plot(test.index, forecast, label='forecast')\n",
    "    ax.fill_between(test.index, \\\n",
    "                    lower, upper, \\\n",
    "                    color='red', alpha=0.3)\n",
    "    ax.legend()"
   ]
  },
  {
   "cell_type": "code",
   "execution_count": null,
   "id": "a86ab5c7",
   "metadata": {},
   "outputs": [],
   "source": [
    "plot_forecast(arima_result)"
   ]
  },
  {
   "cell_type": "code",
   "execution_count": null,
   "id": "661e9f5c",
   "metadata": {},
   "outputs": [],
   "source": []
  }
 ],
 "metadata": {
  "kernelspec": {
   "display_name": "Python 3 (ipykernel)",
   "language": "python",
   "name": "python3"
  },
  "language_info": {
   "codemirror_mode": {
    "name": "ipython",
    "version": 3
   },
   "file_extension": ".py",
   "mimetype": "text/x-python",
   "name": "python",
   "nbconvert_exporter": "python",
   "pygments_lexer": "ipython3",
   "version": "3.9.12"
  }
 },
 "nbformat": 4,
 "nbformat_minor": 5
}

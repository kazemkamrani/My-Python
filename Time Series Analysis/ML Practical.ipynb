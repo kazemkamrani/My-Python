{
 "cells": [
  {
   "cell_type": "code",
   "execution_count": 1,
   "id": "8a92270e",
   "metadata": {},
   "outputs": [],
   "source": [
    "import pandas as pd\n",
    "import numpy as np \n",
    "import matplotlib.pyplot as plt\n",
    "from pandas_datareader import data as pdr \n",
    "import yfinance as yf\n",
    "from sklearn.linear_model import LinearRegression\n",
    "from sklearn.metrics import mean_absolute_percentage_error,r2_score\n",
    "from sklearn.model_selection import train_test_split\n",
    "from sklearn import metrics"
   ]
  },
  {
   "cell_type": "code",
   "execution_count": 2,
   "id": "4c27597a",
   "metadata": {},
   "outputs": [
    {
     "name": "stdout",
     "output_type": "stream",
     "text": [
      "[*********************100%***********************]  1 of 1 completed\n"
     ]
    },
    {
     "name": "stderr",
     "output_type": "stream",
     "text": [
      "C:\\Users\\Kazem Kamrani\\AppData\\Local\\Temp\\ipykernel_12520\\304943898.py:3: FutureWarning: In a future version of pandas all arguments of DataFrame.drop except for the argument 'labels' will be keyword-only.\n",
      "  df =df.drop(['Volume'],1)\n",
      "C:\\Users\\Kazem Kamrani\\AppData\\Local\\Temp\\ipykernel_12520\\304943898.py:4: FutureWarning: In a future version of pandas all arguments of DataFrame.drop except for the argument 'labels' will be keyword-only.\n",
      "  df =df.drop(['Open'],1)\n",
      "C:\\Users\\Kazem Kamrani\\AppData\\Local\\Temp\\ipykernel_12520\\304943898.py:5: FutureWarning: In a future version of pandas all arguments of DataFrame.drop except for the argument 'labels' will be keyword-only.\n",
      "  df =df.drop(['High'],1)\n",
      "C:\\Users\\Kazem Kamrani\\AppData\\Local\\Temp\\ipykernel_12520\\304943898.py:6: FutureWarning: In a future version of pandas all arguments of DataFrame.drop except for the argument 'labels' will be keyword-only.\n",
      "  df =df.drop(['Low'],1)\n"
     ]
    },
    {
     "data": {
      "text/html": [
       "<div>\n",
       "<style scoped>\n",
       "    .dataframe tbody tr th:only-of-type {\n",
       "        vertical-align: middle;\n",
       "    }\n",
       "\n",
       "    .dataframe tbody tr th {\n",
       "        vertical-align: top;\n",
       "    }\n",
       "\n",
       "    .dataframe thead th {\n",
       "        text-align: right;\n",
       "    }\n",
       "</style>\n",
       "<table border=\"1\" class=\"dataframe\">\n",
       "  <thead>\n",
       "    <tr style=\"text-align: right;\">\n",
       "      <th></th>\n",
       "      <th>Close</th>\n",
       "      <th>LogClose</th>\n",
       "      <th>DiffLogClose</th>\n",
       "    </tr>\n",
       "    <tr>\n",
       "      <th>Date</th>\n",
       "      <th></th>\n",
       "      <th></th>\n",
       "      <th></th>\n",
       "    </tr>\n",
       "  </thead>\n",
       "  <tbody>\n",
       "    <tr>\n",
       "      <th>2012-10-11</th>\n",
       "      <td>1.285843</td>\n",
       "      <td>0.251414</td>\n",
       "      <td>0.000000</td>\n",
       "    </tr>\n",
       "    <tr>\n",
       "      <th>2012-10-12</th>\n",
       "      <td>1.293326</td>\n",
       "      <td>0.257218</td>\n",
       "      <td>0.005803</td>\n",
       "    </tr>\n",
       "    <tr>\n",
       "      <th>2012-10-15</th>\n",
       "      <td>1.294331</td>\n",
       "      <td>0.257994</td>\n",
       "      <td>0.000776</td>\n",
       "    </tr>\n",
       "    <tr>\n",
       "      <th>2012-10-16</th>\n",
       "      <td>1.296849</td>\n",
       "      <td>0.259937</td>\n",
       "      <td>0.001943</td>\n",
       "    </tr>\n",
       "    <tr>\n",
       "      <th>2012-10-17</th>\n",
       "      <td>1.310788</td>\n",
       "      <td>0.270628</td>\n",
       "      <td>0.010691</td>\n",
       "    </tr>\n",
       "    <tr>\n",
       "      <th>...</th>\n",
       "      <td>...</td>\n",
       "      <td>...</td>\n",
       "      <td>...</td>\n",
       "    </tr>\n",
       "    <tr>\n",
       "      <th>2022-10-03</th>\n",
       "      <td>0.979269</td>\n",
       "      <td>-0.020949</td>\n",
       "      <td>-0.003758</td>\n",
       "    </tr>\n",
       "    <tr>\n",
       "      <th>2022-10-04</th>\n",
       "      <td>0.983207</td>\n",
       "      <td>-0.016936</td>\n",
       "      <td>0.004013</td>\n",
       "    </tr>\n",
       "    <tr>\n",
       "      <th>2022-10-05</th>\n",
       "      <td>0.998432</td>\n",
       "      <td>-0.001569</td>\n",
       "      <td>0.015367</td>\n",
       "    </tr>\n",
       "    <tr>\n",
       "      <th>2022-10-06</th>\n",
       "      <td>0.991100</td>\n",
       "      <td>-0.008940</td>\n",
       "      <td>-0.007371</td>\n",
       "    </tr>\n",
       "    <tr>\n",
       "      <th>2022-10-07</th>\n",
       "      <td>0.978905</td>\n",
       "      <td>-0.021321</td>\n",
       "      <td>-0.012381</td>\n",
       "    </tr>\n",
       "  </tbody>\n",
       "</table>\n",
       "<p>2602 rows × 3 columns</p>\n",
       "</div>"
      ],
      "text/plain": [
       "               Close  LogClose  DiffLogClose\n",
       "Date                                        \n",
       "2012-10-11  1.285843  0.251414      0.000000\n",
       "2012-10-12  1.293326  0.257218      0.005803\n",
       "2012-10-15  1.294331  0.257994      0.000776\n",
       "2012-10-16  1.296849  0.259937      0.001943\n",
       "2012-10-17  1.310788  0.270628      0.010691\n",
       "...              ...       ...           ...\n",
       "2022-10-03  0.979269 -0.020949     -0.003758\n",
       "2022-10-04  0.983207 -0.016936      0.004013\n",
       "2022-10-05  0.998432 -0.001569      0.015367\n",
       "2022-10-06  0.991100 -0.008940     -0.007371\n",
       "2022-10-07  0.978905 -0.021321     -0.012381\n",
       "\n",
       "[2602 rows x 3 columns]"
      ]
     },
     "execution_count": 2,
     "metadata": {},
     "output_type": "execute_result"
    }
   ],
   "source": [
    "df = yf.download(tickers = \"EURUSD=X\", period = \"10y\", interval = \"1d\", group_by = 'ticker', auto_adjust = True,\n",
    "                   prepost = True, threads = True, proxy = None)\n",
    "df =df.drop(['Volume'],1)\n",
    "df =df.drop(['Open'],1)\n",
    "df =df.drop(['High'],1)\n",
    "df =df.drop(['Low'],1)\n",
    "df['LogClose'] = np.log(df['Close'])\n",
    "df['DiffLogClose'] = df['LogClose'].diff()\n",
    "df = df[1:]\n",
    "df = df[:-1]\n",
    "last_train = df.iloc[-1]['LogClose']\n",
    "df"
   ]
  },
  {
   "cell_type": "code",
   "execution_count": 3,
   "id": "cf28e8c2",
   "metadata": {},
   "outputs": [
    {
     "name": "stderr",
     "output_type": "stream",
     "text": [
      "C:\\Users\\Kazem Kamrani\\AppData\\Local\\Temp\\ipykernel_12520\\1581316184.py:6: FutureWarning: In a future version of pandas all arguments of DataFrame.drop except for the argument 'labels' will be keyword-only.\n",
      "  df =df.drop(['Close'],1)\n",
      "C:\\Users\\Kazem Kamrani\\AppData\\Local\\Temp\\ipykernel_12520\\1581316184.py:7: FutureWarning: In a future version of pandas all arguments of DataFrame.drop except for the argument 'labels' will be keyword-only.\n",
      "  df =df.drop(['LogClose'],1)\n"
     ]
    }
   ],
   "source": [
    "for i in range(1, 7):\n",
    "    df[f\"DiffLogClose{i}\"] = df[\"DiffLogClose\"].shift(-i)\n",
    "    \n",
    "df = df[:-6]\n",
    "\n",
    "df =df.drop(['Close'],1)\n",
    "df =df.drop(['LogClose'],1)  \n"
   ]
  },
  {
   "cell_type": "code",
   "execution_count": 4,
   "id": "784b060c",
   "metadata": {},
   "outputs": [
    {
     "name": "stdout",
     "output_type": "stream",
     "text": [
      "            DiffLogClose  DiffLogClose1  DiffLogClose2  DiffLogClose3  \\\n",
      "Date                                                                    \n",
      "2012-10-11      0.000000       0.005803       0.000776       0.001943   \n",
      "2012-10-12      0.005803       0.000776       0.001943       0.010691   \n",
      "2012-10-15      0.000776       0.001943       0.010691       0.000656   \n",
      "2012-10-16      0.001943       0.010691       0.000656      -0.003614   \n",
      "2012-10-17      0.010691       0.000656      -0.003614      -0.003574   \n",
      "...                  ...            ...            ...            ...   \n",
      "2022-09-23      0.001102      -0.015527      -0.006856      -0.002864   \n",
      "2022-09-26     -0.015527      -0.006856      -0.002864       0.011602   \n",
      "2022-09-27     -0.006856      -0.002864       0.011602       0.012426   \n",
      "2022-09-28     -0.002864       0.011602       0.012426      -0.003758   \n",
      "2022-09-29      0.011602       0.012426      -0.003758       0.004013   \n",
      "\n",
      "            DiffLogClose4  DiffLogClose5  DiffLogClose6  \\\n",
      "Date                                                      \n",
      "2012-10-11       0.010691       0.000656      -0.003614   \n",
      "2012-10-12       0.000656      -0.003614      -0.003574   \n",
      "2012-10-15      -0.003614      -0.003574       0.003653   \n",
      "2012-10-16      -0.003574       0.003653      -0.007422   \n",
      "2012-10-17       0.003653      -0.007422      -0.000648   \n",
      "...                   ...            ...            ...   \n",
      "2022-09-23       0.011602       0.012426      -0.003758   \n",
      "2022-09-26       0.012426      -0.003758       0.004013   \n",
      "2022-09-27      -0.003758       0.004013       0.015367   \n",
      "2022-09-28       0.004013       0.015367      -0.007371   \n",
      "2022-09-29       0.015367      -0.007371      -0.012381   \n",
      "\n",
      "            PredictionDiffLogClose  \n",
      "Date                                \n",
      "2012-10-11               -0.003574  \n",
      "2012-10-12                0.003653  \n",
      "2012-10-15               -0.007422  \n",
      "2012-10-16               -0.000648  \n",
      "2012-10-17               -0.002072  \n",
      "...                            ...  \n",
      "2022-09-23                0.004013  \n",
      "2022-09-26                0.015367  \n",
      "2022-09-27               -0.007371  \n",
      "2022-09-28               -0.012381  \n",
      "2022-09-29                     NaN  \n",
      "\n",
      "[2596 rows x 8 columns]\n"
     ]
    }
   ],
   "source": [
    "forecast_out = int(1)\n",
    "df['PredictionDiffLogClose'] = df['DiffLogClose6'].shift(-forecast_out)\n",
    "print(df)"
   ]
  },
  {
   "cell_type": "code",
   "execution_count": 5,
   "id": "ce66db1b",
   "metadata": {},
   "outputs": [
    {
     "name": "stderr",
     "output_type": "stream",
     "text": [
      "C:\\Users\\Kazem Kamrani\\AppData\\Local\\Temp\\ipykernel_12520\\523623850.py:1: FutureWarning: In a future version of pandas all arguments of DataFrame.drop except for the argument 'labels' will be keyword-only.\n",
      "  X = np.array(df.drop(['PredictionDiffLogClose'],1))\n"
     ]
    }
   ],
   "source": [
    "X = np.array(df.drop(['PredictionDiffLogClose'],1))\n",
    "#X = preprocessing.scale(X)\n",
    "X_forecast = X[-forecast_out:]\n",
    "X = X[:-forecast_out]"
   ]
  },
  {
   "cell_type": "code",
   "execution_count": 6,
   "id": "f2db8c8b",
   "metadata": {},
   "outputs": [],
   "source": [
    "Y = np.array(df['PredictionDiffLogClose'])\n",
    "Y = Y[:-forecast_out]"
   ]
  },
  {
   "cell_type": "code",
   "execution_count": 7,
   "id": "db9f885a",
   "metadata": {},
   "outputs": [],
   "source": [
    "X_train, X_test, Y_train, Y_test = train_test_split(X, Y, test_size = 0.2)"
   ]
  },
  {
   "cell_type": "code",
   "execution_count": 8,
   "id": "de945004",
   "metadata": {},
   "outputs": [
    {
     "name": "stdout",
     "output_type": "stream",
     "text": [
      "confidence: -0.006331384655240635\n",
      "R2 Score is:  0.002247046590566404\n",
      "Mean Squared Error is:  2.5274056727851307e-05\n",
      "Root Mean Squared Error is:  0.005027330974568047\n",
      "Mean Absolute Error is:  0.003686038311302076\n",
      "Mean Absolute Percentage Error is:  4673938574.479123\n"
     ]
    }
   ],
   "source": [
    "# Training\n",
    "LR = LinearRegression()\n",
    "LR.fit(X_train, Y_train)\n",
    "testpredictions = LR.predict(X_test)\n",
    "#Testing\n",
    "confidence = LR.score(X_test,Y_test)\n",
    "print(\"confidence:\", confidence)\n",
    "print('R2 Score is: ', metrics.explained_variance_score(Y_test, testpredictions))\n",
    "print('Mean Squared Error is: ', metrics.mean_squared_error(Y_test, testpredictions))\n",
    "print('Root Mean Squared Error is: ', np.sqrt(metrics.mean_squared_error(Y_test, testpredictions)))\n",
    "print('Mean Absolute Error is: ', metrics.mean_absolute_error(Y_test, testpredictions))\n",
    "print('Mean Absolute Percentage Error is: ', metrics.mean_absolute_percentage_error(Y_test, testpredictions))"
   ]
  },
  {
   "cell_type": "code",
   "execution_count": 9,
   "id": "1006bf5b",
   "metadata": {},
   "outputs": [
    {
     "name": "stdout",
     "output_type": "stream",
     "text": [
      "[-0.0011325]\n"
     ]
    }
   ],
   "source": [
    "forecast_prediction = LR.predict(X_forecast)\n",
    "print(forecast_prediction)"
   ]
  },
  {
   "cell_type": "code",
   "execution_count": 10,
   "id": "8127ac20",
   "metadata": {},
   "outputs": [
    {
     "data": {
      "text/plain": [
       "array([0.94961236])"
      ]
     },
     "execution_count": 10,
     "metadata": {},
     "output_type": "execute_result"
    }
   ],
   "source": [
    "forecast_Price = 10 ** (last_train + forecast_prediction)\n",
    "forecast_Price"
   ]
  },
  {
   "cell_type": "code",
   "execution_count": 16,
   "id": "6a0026e5",
   "metadata": {},
   "outputs": [
    {
     "ename": "NameError",
     "evalue": "name 'exp' is not defined",
     "output_type": "error",
     "traceback": [
      "\u001b[1;31m---------------------------------------------------------------------------\u001b[0m",
      "\u001b[1;31mNameError\u001b[0m                                 Traceback (most recent call last)",
      "Input \u001b[1;32mIn [16]\u001b[0m, in \u001b[0;36m<cell line: 1>\u001b[1;34m()\u001b[0m\n\u001b[1;32m----> 1\u001b[0m qq \u001b[38;5;241m=\u001b[39m \u001b[43mexp\u001b[49m( last_train)\n\u001b[0;32m      2\u001b[0m qq\n",
      "\u001b[1;31mNameError\u001b[0m: name 'exp' is not defined"
     ]
    }
   ],
   "source": [
    "qq = exp( last_train)\n",
    "qq"
   ]
  },
  {
   "cell_type": "code",
   "execution_count": 13,
   "id": "c0288fc5",
   "metadata": {},
   "outputs": [
    {
     "data": {
      "text/plain": [
       "-0.02132067895376495"
      ]
     },
     "execution_count": 13,
     "metadata": {},
     "output_type": "execute_result"
    }
   ],
   "source": [
    "b = np.log(0.978905)\n",
    "b"
   ]
  },
  {
   "cell_type": "code",
   "execution_count": 14,
   "id": "db93d15b",
   "metadata": {},
   "outputs": [
    {
     "data": {
      "text/plain": [
       "-0.02132114344515707"
      ]
     },
     "execution_count": 14,
     "metadata": {},
     "output_type": "execute_result"
    }
   ],
   "source": [
    "last_train"
   ]
  },
  {
   "cell_type": "code",
   "execution_count": null,
   "id": "ab283bd7",
   "metadata": {},
   "outputs": [],
   "source": []
  }
 ],
 "metadata": {
  "kernelspec": {
   "display_name": "Python 3 (ipykernel)",
   "language": "python",
   "name": "python3"
  },
  "language_info": {
   "codemirror_mode": {
    "name": "ipython",
    "version": 3
   },
   "file_extension": ".py",
   "mimetype": "text/x-python",
   "name": "python",
   "nbconvert_exporter": "python",
   "pygments_lexer": "ipython3",
   "version": "3.9.12"
  }
 },
 "nbformat": 4,
 "nbformat_minor": 5
}

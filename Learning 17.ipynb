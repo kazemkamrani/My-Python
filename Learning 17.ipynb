{
 "cells": [
  {
   "cell_type": "code",
   "execution_count": 1,
   "id": "93976723",
   "metadata": {},
   "outputs": [],
   "source": [
    "import numpy as np\n",
    "import pandas as pd\n",
    "import matplotlib.pyplot as plt \n",
    "from pandas_datareader import data as pdr \n",
    "import yfinance as yf\n",
    "yf.pdr_override()\n",
    "%matplotlib inline"
   ]
  },
  {
   "cell_type": "code",
   "execution_count": 2,
   "id": "a18b03c4",
   "metadata": {},
   "outputs": [
    {
     "name": "stdout",
     "output_type": "stream",
     "text": [
      "[*********************100%***********************]  1 of 1 completed\n"
     ]
    }
   ],
   "source": [
    "SP = pdr.get_data_yahoo('SPY',start = \"2008-01-01\", end = \"2018-04-01\")['Close']"
   ]
  },
  {
   "cell_type": "code",
   "execution_count": 3,
   "id": "a1905943",
   "metadata": {},
   "outputs": [],
   "source": [
    "SP = pd.DataFrame(SP)"
   ]
  },
  {
   "cell_type": "code",
   "execution_count": 4,
   "id": "6dbe7c9c",
   "metadata": {},
   "outputs": [
    {
     "name": "stdout",
     "output_type": "stream",
     "text": [
      "                 Close TDOM\n",
      "Date                       \n",
      "2007-12-31  146.210007     \n",
      "2008-01-02  144.929993    1\n",
      "2008-01-03  144.860001    2\n",
      "2008-01-04  141.309998    3\n",
      "2008-01-07  141.190002    4\n"
     ]
    }
   ],
   "source": [
    "_month = 0 \n",
    "_tdom = ''\n",
    "\n",
    "def TDOM(a):\n",
    "    global _tdom, _month \n",
    "    if _tdom == '' and a.month >1:\n",
    "        _tdom = ''\n",
    "    elif _month != a.month:\n",
    "        _tdom = 1 \n",
    "        _month = a.month\n",
    "    else:\n",
    "        _tdom += 1\n",
    "    return _tdom\n",
    "\n",
    "SP['TDOM'] = SP.index\n",
    "SP['TDOM'] = SP.TDOM.apply(TDOM)\n",
    "print (SP.head())\n",
    "        "
   ]
  },
  {
   "cell_type": "code",
   "execution_count": 5,
   "id": "29be4142",
   "metadata": {},
   "outputs": [
    {
     "data": {
      "text/plain": [
       "DatetimeIndex(['2007-12-31', '2008-01-02', '2008-01-03', '2008-01-04',\n",
       "               '2008-01-07', '2008-01-08', '2008-01-09', '2008-01-10',\n",
       "               '2008-01-11', '2008-01-14',\n",
       "               ...\n",
       "               '2018-03-16', '2018-03-19', '2018-03-20', '2018-03-21',\n",
       "               '2018-03-22', '2018-03-23', '2018-03-26', '2018-03-27',\n",
       "               '2018-03-28', '2018-03-29'],\n",
       "              dtype='datetime64[ns]', name='Date', length=2580, freq=None)"
      ]
     },
     "execution_count": 5,
     "metadata": {},
     "output_type": "execute_result"
    }
   ],
   "source": [
    "SP.index"
   ]
  },
  {
   "cell_type": "code",
   "execution_count": 6,
   "id": "304ec225",
   "metadata": {},
   "outputs": [],
   "source": [
    "#P['Days'] = list(map(lambda x: x.day, (SP.index.tolist())))\n",
    "#rint (SP)"
   ]
  },
  {
   "cell_type": "code",
   "execution_count": 7,
   "id": "ba614091",
   "metadata": {},
   "outputs": [],
   "source": [
    "#SP['Months'] = list(map(lambda x: x.month, (SP.index.tolist())))\n",
    "#print (SP)"
   ]
  },
  {
   "cell_type": "code",
   "execution_count": 8,
   "id": "a46ce85b",
   "metadata": {},
   "outputs": [],
   "source": [
    "#SP['Years'] = list(map(lambda x: x.year, (SP.index.tolist())))\n",
    "#print (SP)"
   ]
  },
  {
   "cell_type": "code",
   "execution_count": 9,
   "id": "95128b5e",
   "metadata": {},
   "outputs": [],
   "source": [
    "#Creating functions for Modular Coding Experience \n",
    "def monthly_returns(a):\n",
    "    monthly = a.asfreq('M').ffill()\n",
    "    monthly_pc = monthly/monthly.shift(1) - 1 \n",
    "    monthly_cr = (1 + monthly_pc).cumprod()\n",
    "    return monthly_cr\n",
    "\n",
    "def Correlation_Coefficient(b):\n",
    "    return b.corr(method='pearson')\n",
    "\n",
    "def graph(c):\n",
    "    c.plot(kind='scatter', x='SP Close', y='DIS Close')\n",
    "    plt.title('Monthly Returns')\n",
    "    plt.show()"
   ]
  },
  {
   "cell_type": "code",
   "execution_count": 10,
   "id": "118c4a92",
   "metadata": {},
   "outputs": [],
   "source": [
    "Stock = monthly_returns(SP['Close'])"
   ]
  },
  {
   "cell_type": "code",
   "execution_count": 11,
   "id": "f6df88a5",
   "metadata": {},
   "outputs": [
    {
     "name": "stdout",
     "output_type": "stream",
     "text": [
      "Date\n",
      "2007-12-31         NaN\n",
      "2008-01-31    0.939539\n",
      "2008-02-29    0.915259\n",
      "2008-03-31    0.902606\n",
      "2008-04-30    0.945626\n",
      "                ...   \n",
      "2017-10-31    1.758772\n",
      "2017-11-30    1.812530\n",
      "2017-12-31    1.812530\n",
      "2018-01-31    1.928049\n",
      "2018-02-28    1.857944\n",
      "Freq: M, Name: Close, Length: 123, dtype: float64\n"
     ]
    }
   ],
   "source": [
    "print (Stock)"
   ]
  },
  {
   "cell_type": "code",
   "execution_count": 12,
   "id": "7f7a137e",
   "metadata": {},
   "outputs": [
    {
     "data": {
      "image/png": "[encoded data removed]",
      "text/plain": [
       "<Figure size 432x288 with 1 Axes>"
      ]
     },
     "metadata": {
      "needs_background": "light"
     },
     "output_type": "display_data"
    }
   ],
   "source": [
    "plt.plot(Stock)\n",
    "plt.show()"
   ]
  },
  {
   "cell_type": "code",
   "execution_count": 13,
   "id": "012852d3",
   "metadata": {},
   "outputs": [
    {
     "name": "stdout",
     "output_type": "stream",
     "text": [
      "[*********************100%***********************]  1 of 1 completed\n"
     ]
    }
   ],
   "source": [
    "DIS = pdr.get_data_yahoo('DIS',start = \"2008-01-01\", end = \"2018-04-01\")['Close']"
   ]
  },
  {
   "cell_type": "code",
   "execution_count": 14,
   "id": "1dbdef1b",
   "metadata": {},
   "outputs": [],
   "source": [
    "SP = SP['Close']"
   ]
  },
  {
   "cell_type": "code",
   "execution_count": 15,
   "id": "34a45794",
   "metadata": {},
   "outputs": [],
   "source": [
    "SP = pd.DataFrame(SP)\n",
    "DIS = pd.DataFrame(DIS)"
   ]
  },
  {
   "cell_type": "code",
   "execution_count": 16,
   "id": "106f1a44",
   "metadata": {},
   "outputs": [],
   "source": [
    "SP = SP.rename(columns = {'Close':'SP Close'})\n",
    "DIS = DIS.rename(columns = {'Close':'DIS Close'})"
   ]
  },
  {
   "cell_type": "code",
   "execution_count": 17,
   "id": "8dc3b254",
   "metadata": {},
   "outputs": [],
   "source": [
    "df = pd.concat([SP,DIS], axis = 1, join='inner')"
   ]
  },
  {
   "cell_type": "code",
   "execution_count": 18,
   "id": "acb5724e",
   "metadata": {},
   "outputs": [
    {
     "name": "stdout",
     "output_type": "stream",
     "text": [
      "              SP Close   DIS Close\n",
      "Date                              \n",
      "2007-12-31  146.210007   32.279999\n",
      "2008-01-02  144.929993   31.840000\n",
      "2008-01-03  144.860001   31.770000\n",
      "2008-01-04  141.309998   31.129999\n",
      "2008-01-07  141.190002   31.160000\n",
      "...                ...         ...\n",
      "2018-03-23  258.049988   98.540001\n",
      "2018-03-26  265.109985  100.650002\n",
      "2018-03-27  260.600006   99.360001\n",
      "2018-03-28  259.829987   98.540001\n",
      "2018-03-29  263.149994  100.440002\n",
      "\n",
      "[2580 rows x 2 columns]\n"
     ]
    }
   ],
   "source": [
    "print(df)"
   ]
  },
  {
   "cell_type": "code",
   "execution_count": 19,
   "id": "ac74b505",
   "metadata": {
    "scrolled": true
   },
   "outputs": [
    {
     "data": {
      "text/html": [
       "<div>\n",
       "<style scoped>\n",
       "    .dataframe tbody tr th:only-of-type {\n",
       "        vertical-align: middle;\n",
       "    }\n",
       "\n",
       "    .dataframe tbody tr th {\n",
       "        vertical-align: top;\n",
       "    }\n",
       "\n",
       "    .dataframe thead th {\n",
       "        text-align: right;\n",
       "    }\n",
       "</style>\n",
       "<table border=\"1\" class=\"dataframe\">\n",
       "  <thead>\n",
       "    <tr style=\"text-align: right;\">\n",
       "      <th></th>\n",
       "      <th>SP Close</th>\n",
       "      <th>DIS Close</th>\n",
       "    </tr>\n",
       "  </thead>\n",
       "  <tbody>\n",
       "    <tr>\n",
       "      <th>SP Close</th>\n",
       "      <td>1.00000</td>\n",
       "      <td>0.95492</td>\n",
       "    </tr>\n",
       "    <tr>\n",
       "      <th>DIS Close</th>\n",
       "      <td>0.95492</td>\n",
       "      <td>1.00000</td>\n",
       "    </tr>\n",
       "  </tbody>\n",
       "</table>\n",
       "</div>"
      ],
      "text/plain": [
       "           SP Close  DIS Close\n",
       "SP Close    1.00000    0.95492\n",
       "DIS Close   0.95492    1.00000"
      ]
     },
     "execution_count": 19,
     "metadata": {},
     "output_type": "execute_result"
    }
   ],
   "source": [
    "df.corr(method='pearson')"
   ]
  },
  {
   "cell_type": "code",
   "execution_count": 20,
   "id": "99668dfe",
   "metadata": {},
   "outputs": [],
   "source": [
    "MR = monthly_returns(df)"
   ]
  },
  {
   "cell_type": "code",
   "execution_count": 23,
   "id": "6a3d9325",
   "metadata": {},
   "outputs": [
    {
     "data": {
      "image/png": "[encoded data removed]",
      "text/plain": [
       "<Figure size 432x288 with 1 Axes>"
      ]
     },
     "metadata": {
      "needs_background": "light"
     },
     "output_type": "display_data"
    }
   ],
   "source": [
    "graph(MR)"
   ]
  },
  {
   "cell_type": "code",
   "execution_count": null,
   "id": "2973462d",
   "metadata": {},
   "outputs": [],
   "source": []
  }
 ],
 "metadata": {
  "kernelspec": {
   "display_name": "Python 3 (ipykernel)",
   "language": "python",
   "name": "python3"
  },
  "language_info": {
   "codemirror_mode": {
    "name": "ipython",
    "version": 3
   },
   "file_extension": ".py",
   "mimetype": "text/x-python",
   "name": "python",
   "nbconvert_exporter": "python",
   "pygments_lexer": "ipython3",
   "version": "3.9.12"
  }
 },
 "nbformat": 4,
 "nbformat_minor": 5
}
